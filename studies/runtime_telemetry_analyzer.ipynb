{
 "cells": [
  {
   "cell_type": "code",
   "execution_count": null,
   "id": "396cef83",
   "metadata": {},
   "outputs": [],
   "source": [
    "import os\n",
    "import pandas as pd\n",
    "import plotly.express as px\n",
    "import plotly.graph_objects as go\n",
    "from plotly.subplots import make_subplots\n",
    "\n",
    "from dotenv import load_dotenv\n",
    "load_dotenv()"
   ]
  },
  {
   "cell_type": "markdown",
   "id": "fe8a505b",
   "metadata": {},
   "source": [
    "### Toggle switch for GitHub\n",
    "This notebook is auto generate. The next cell allows to create a static version of the notebook in order to have it available in GitHub view.\n",
    "\n",
    "Please always call you figure using `interac_o_static(fig)`"
   ]
  },
  {
   "cell_type": "code",
   "execution_count": null,
   "id": "ff5ee375",
   "metadata": {},
   "outputs": [],
   "source": [
    "def interac_o_static(fig):\n",
    "    PLOTLY = os.getenv('PLOTLY')\n",
    "    if PLOTLY == \"interactive\":\n",
    "        return fig.show()\n",
    "    else:\n",
    "        return fig.show(\"png\")"
   ]
  },
  {
   "cell_type": "markdown",
   "id": "c1af747a",
   "metadata": {},
   "source": [
    "# Generate data\n",
    "Before generate data don't forget :\n",
    "- To know the number of uniq pair in a matrix : `sum(1 + i for i in range(0, #_size))`\n",
    "    - To know the number of circuits from a certain matrix of [1,1] is gonna be 3 uniq pair and so 3 circuits.\n",
    "    - You can run the code on [Wolfram Alpha](https://www.wolframalpha.com/input?i=sum+1%2Bn%2C+n%3D0+to+25)\n",
    "\n",
    "#### Limit known\n",
    "Today we know the Runtime have some limitations :\n",
    "- Runtime seconds max around 3600 seconds (1h).\n",
    "- Payload max 64MB"
   ]
  },
  {
   "cell_type": "markdown",
   "id": "9c58b056",
   "metadata": {},
   "source": [
    "# Telemetry"
   ]
  },
  {
   "cell_type": "code",
   "execution_count": null,
   "id": "7a788583",
   "metadata": {},
   "outputs": [],
   "source": [
    "tele_file = pd.read_feather(\"../resources/kernel_metadata/shared_telemetry_info.csv\")\n",
    "#list_width = tele_file[\"width\"].tolist()\n",
    "#list_layers = tele_file[\"layers\"].tolist()\n",
    "#list_shots = tele_file[\"shots\"].tolist()\n",
    "#list_program_id = tele_file[\"program\"].tolist()\n",
    "#list_circuit_id = tele_file[\"circuit_id\"].tolist()\n",
    "#list_job_id = tele_file[\"job_id\"].tolist()\n",
    "#list_time_queue = tele_file[\"time_queue\"].tolist()\n",
    "#list_time_simu = tele_file[\"time_simu\"].tolist()\n",
    "#list_payload_size = tele_file[\"payload_size\"].tolist()\n",
    "#list_nb_circuits = tele_file[\"nb_circuits\"].tolist()\n",
    "#list_comment = tele_file[\"comment\"].tolist()"
   ]
  },
  {
   "cell_type": "markdown",
   "id": "a00a70a1",
   "metadata": {},
   "source": [
    "### Payload vs number of qubits\n",
    "Look at (payload size / number of circuits) -- that is, the payload size per circuit -- versus number of qubits, where the number of layers is fixed to be 1. This tells us something about the data costs associated with generating 1 circuit for a fixed number of qubits."
   ]
  },
  {
   "cell_type": "markdown",
   "id": "2e113f94",
   "metadata": {},
   "source": [
    "#### Only 1 layer"
   ]
  },
  {
   "cell_type": "code",
   "execution_count": null,
   "id": "fde567fc",
   "metadata": {},
   "outputs": [],
   "source": [
    "only1layer = tele_file.loc[tele_file['layers'] == 1]\n",
    "olayer_layers = only1layer[\"layers\"].tolist()\n",
    "olayer_width = only1layer[\"width\"].tolist()\n",
    "olayer_payload_size = only1layer[\"payload_size\"].tolist()\n",
    "olayer_nb_circuits = only1layer[\"nb_circuits\"].tolist()\n",
    "olayer_circuit_id = only1layer[\"circuit_id\"].tolist()\n",
    "\n",
    "olayer_payload_per_circuit = []\n",
    "for payload_size, nb_circuits in zip(olayer_payload_size, olayer_nb_circuits):\n",
    "    olayer_payload_per_circuit.append(float(payload_size/nb_circuits))\n",
    "    \n",
    "print(\"Size of dataframe : \", len(olayer_payload_per_circuit))\n",
    "\n",
    "fig = px.scatter(x=olayer_width, y=olayer_payload_per_circuit, color=olayer_circuit_id)\n",
    "\n",
    "fig.update_traces(marker=dict(size=8))\n",
    "\n",
    "fig.update_layout(title_text='Payload per 1 circuit - Only 1 layer',\n",
    "                         xaxis_title=\"# qubits\", yaxis_title=\"Payload for 1 circuit (byte)\")\n",
    "\n",
    "interac_o_static(fig)"
   ]
  },
  {
   "cell_type": "markdown",
   "id": "d7e41223",
   "metadata": {},
   "source": [
    "#### All layers"
   ]
  },
  {
   "cell_type": "code",
   "execution_count": null,
   "id": "058d7082",
   "metadata": {},
   "outputs": [],
   "source": [
    "list_layers = tele_file[\"layers\"].tolist()\n",
    "list_width = tele_file[\"width\"].tolist()\n",
    "list_payload_size = tele_file[\"payload_size\"].tolist()\n",
    "list_nb_circuits = tele_file[\"nb_circuits\"].tolist()\n",
    "\n",
    "payload_per_circuit = []\n",
    "for payload_size, nb_circuits in zip(list_payload_size, list_nb_circuits):\n",
    "    payload_per_circuit.append(float(payload_size/nb_circuits))\n",
    "    \n",
    "print(\"Size of dataframe : \", len(payload_per_circuit))\n",
    "\n",
    "\n",
    "fig = px.scatter(x=list_width, y=payload_per_circuit, color=list_layers)\n",
    "\n",
    "fig.update_traces(marker=dict(size=8))\n",
    "\n",
    "fig.update_layout(title_text='Payload per 1 circuit - All layer',\n",
    "                         xaxis_title=\"# qubits\", yaxis_title=\"Payload for 1 circuit (byte)\")\n",
    "\n",
    "interac_o_static(fig)"
   ]
  },
  {
   "cell_type": "markdown",
   "id": "00af3fab",
   "metadata": {},
   "source": [
    "### Payload vs number of circuits\n",
    "Look at payload size versus number of circuits. This tells us how payload size scales with the number of kernel values we're trying to calculate in 1 go."
   ]
  },
  {
   "cell_type": "code",
   "execution_count": null,
   "id": "09598405",
   "metadata": {},
   "outputs": [],
   "source": [
    "list_payload_size = tele_file[\"payload_size\"].tolist()\n",
    "list_nb_circuits = tele_file[\"nb_circuits\"].tolist()\n",
    "    \n",
    "print(\"Size of dataframe : \", len(list_payload_size))\n",
    "\n",
    "fig = go.Figure([go.Scatter(x=list_nb_circuits, y=list_payload_size, mode='markers',\n",
    "                            marker=dict(color=\"crimson\", size=8))])\n",
    "\n",
    "fig.update_layout(title_text='Payload per list of circuits', \n",
    "                         xaxis_title=\"# circuits\", yaxis_title=\"Payload (byte)\")\n",
    "\n",
    "interac_o_static(fig)"
   ]
  },
  {
   "cell_type": "markdown",
   "id": "94ab02ef",
   "metadata": {},
   "source": [
    "#### Histogram\n",
    "Histogram of payload size/number of circuits. Does there are any interesting features in the distribution ?"
   ]
  },
  {
   "cell_type": "code",
   "execution_count": null,
   "id": "9a7e3e8d",
   "metadata": {},
   "outputs": [],
   "source": [
    "list_payload_size = tele_file[\"payload_size\"].tolist()\n",
    "list_nb_circuits = tele_file[\"nb_circuits\"].tolist()\n",
    "\n",
    "payload_size_percent = []\n",
    "nb_circuits_percent = []\n",
    "\n",
    "for payload_size, nb_circuits in zip(list_payload_size, list_nb_circuits):\n",
    "    payload_size_percent.append(payload_size * 100 / sum(list_payload_size))\n",
    "    nb_circuits_percent.append(nb_circuits * 100 / sum(list_nb_circuits))\n",
    "\n",
    "print(\"Size of dataframe : \", len(payload_size_percent))\n",
    "\n",
    "fig_series = make_subplots(rows=2, cols=2, subplot_titles=(\"Percent\", \"Real value\", \"Percent\", \"Real value\"))\n",
    "\n",
    "fig_series.add_trace(go.Histogram(x=payload_size_percent, name='Payload %'), row=1, col=1)\n",
    "fig_series.add_trace(go.Histogram(x=list_payload_size, name='Payload R'), row=1, col=2)\n",
    "fig_series.update_xaxes(title_text=\"payload size\", row=1)\n",
    "\n",
    "fig_series.add_trace(go.Histogram(x=nb_circuits_percent, name='# circuits %'), row=2, col=1)\n",
    "fig_series.add_trace(go.Histogram(x=list_nb_circuits, name='# circuits R'), row=2, col=2)\n",
    "fig_series.update_xaxes(title_text=\"# circuits\", row=2)\n",
    "\n",
    "fig_series.update_layout(\n",
    "    title_text='Payload & # circuits',\n",
    "    yaxis_title=\"Count\",\n",
    "    barmode=\"overlay\")\n",
    "fig_series.update_xaxes(title_text=\"# circuits\", row=2)\n",
    "fig_series.update_traces(opacity=0.7)\n",
    "\n",
    "interac_o_static(fig_series)"
   ]
  },
  {
   "cell_type": "markdown",
   "id": "416613f0",
   "metadata": {},
   "source": [
    "### Runtime seconds vs number of circuits\n",
    "Time_simulation (aka, runtime-seconds) versus payload size. This helps us see what the cutoffs look like. For this plot, I would suggest plotting lines indicating the payload size at which the Runtime says it was too big, as well as the time past which the Runtime said it timed out."
   ]
  },
  {
   "cell_type": "code",
   "execution_count": null,
   "id": "2ebefaed",
   "metadata": {},
   "outputs": [],
   "source": [
    "list_payload_size = tele_file[\"payload_size\"].tolist()\n",
    "list_time_simu = tele_file[\"time_simu\"].tolist()\n",
    "list_comment = tele_file[\"comment\"].tolist()\n",
    "\n",
    "exceed_payload = []\n",
    "exceed_time = []\n",
    "for time_simu, payload_size, comment in zip(list_time_simu, list_payload_size, list_comment):\n",
    "    exceed_payload.append(payload_size) if comment == \"Payload Too Large\" else None\n",
    "    exceed_time.append(time_simu) if comment == \"Runtime: Cancelled - Ran too long\" else None\n",
    "\n",
    "print(\"Size of dataframe : \", len(list_payload_size))\n",
    "\n",
    "#fig = px.scatter(x=list_time_simu, y=list_payload_size, color=list_comment)\n",
    "#fig.add_hrect(y0=(min(exceed_payload)-min(exceed_payload)/20), y1=(max(exceed_payload)+max(exceed_payload)/20), \n",
    "              #line_width=0,line_color=\"red\", fillcolor=\"red\", opacity=0.2)\n",
    "#fig.add_vline(x=min(exceed_time), fillcolor=\"green\", line_width=1, line_dash=\"dash\")\n",
    "#fig.update_layout(title_text='Payload per Runtime seconds', \n",
    "                  #xaxis_title=\"Runtime seconds\", yaxis_title=\"Payload (kb)\")\n",
    "\n",
    "fig = px.scatter(x=list_payload_size, y=list_time_simu, color=list_comment)\n",
    "fig.add_hline(y=min(exceed_time), fillcolor=\"green\", line_width=1, line_dash=\"dash\")\n",
    "fig.add_vrect(x0=(min(exceed_payload)-min(exceed_payload)/20), x1=(max(exceed_payload)+max(exceed_payload)/20), \n",
    "              line_width=0,line_color=\"red\", fillcolor=\"red\", opacity=0.2)\n",
    "fig.update_layout(title_text='Payload per Runtime seconds', \n",
    "                  xaxis_title=\"Payload (byte)\", yaxis_title=\"Runtime seconds\")\n",
    "\n",
    "fig.update_traces(marker=dict(size=12))\n",
    "\n",
    "interac_o_static(fig)"
   ]
  },
  {
   "cell_type": "markdown",
   "id": "d5918c74",
   "metadata": {},
   "source": [
    "# Annexes"
   ]
  },
  {
   "cell_type": "markdown",
   "id": "d597be0e",
   "metadata": {},
   "source": [
    "## Acronyms & Terms\n",
    "- `SUCCESS` : Job successfully submit and finished\n",
    "- `OOM` : Out Of Memory from Runtime job\n",
    "- `Runtime: Cancelled - Ran too long` : Timeout from Runtime\n",
    "- `Payload Too Large` : List of circuits too big or len of payload too big\n",
    "- `Network Error` : Error 500 when sending job to Runtime\n",
    "- `Unknown Error` : Error not identified yet\n",
    "- `Runtime seconds` : Operational time taking by the job also known as `time_simu`\n",
    "- `time_queue` : Time waited by the job in the queue"
   ]
  },
  {
   "cell_type": "markdown",
   "id": "e9fcd29c",
   "metadata": {},
   "source": [
    "## Full dataset\n",
    "Uncomment the next cell or call it as you like"
   ]
  },
  {
   "cell_type": "code",
   "execution_count": null,
   "id": "550d327b",
   "metadata": {},
   "outputs": [],
   "source": [
    "#tele_file"
   ]
  }
 ],
 "metadata": {
  "kernelspec": {
   "display_name": "Python 3",
   "language": "python",
   "name": "python3"
  },
  "language_info": {
   "codemirror_mode": {
    "name": "ipython",
    "version": 3
   },
   "file_extension": ".py",
   "mimetype": "text/x-python",
   "name": "python",
   "nbconvert_exporter": "python",
   "pygments_lexer": "ipython3",
   "version": "3.8.10"
  }
 },
 "nbformat": 4,
 "nbformat_minor": 5
}
