{
 "cells": [
  {
   "cell_type": "code",
   "execution_count": 1,
   "id": "fafa2dc0",
   "metadata": {},
   "outputs": [],
   "source": [
    "import matplotlib.pyplot as plt\n",
    "from cvxopt import matrix, spdiag\n",
    "import chompack as cp\n",
    "import numpy as np\n",
    "import random\n",
    "\n",
    "from qiskit import Aer\n",
    "from qiskit.circuit.library import ZZFeatureMap\n",
    "from qiskit.utils import QuantumInstance\n",
    "from qiskit_machine_learning.kernels import QuantumKernel\n",
    "from qiskit_machine_learning.datasets import ad_hoc_data\n",
    "\n",
    "seed = 12345\n",
    "backend = Aer.get_backend('aer_simulator')"
   ]
  },
  {
   "cell_type": "code",
   "execution_count": 2,
   "id": "f293f0ed",
   "metadata": {},
   "outputs": [],
   "source": [
    "adhoc_dimension = 2\n",
    "N_dataset, train_labels, n_dataset, test_labels, adhoc_total = ad_hoc_data(\n",
    "    training_size=20,\n",
    "    test_size=5,\n",
    "    n=adhoc_dimension,\n",
    "    gap=0.3,\n",
    "    plot_data=False,\n",
    "    one_hot=False,\n",
    "    include_sample_total=True,\n",
    ")"
   ]
  },
  {
   "cell_type": "code",
   "execution_count": 3,
   "id": "16f9fe9d",
   "metadata": {},
   "outputs": [],
   "source": [
    "adhoc_feature_map = ZZFeatureMap(feature_dimension=adhoc_dimension, reps=2, entanglement=\"linear\")\n",
    "\n",
    "adhoc_backend = QuantumInstance(\n",
    "    backend, shots=1024, seed_simulator=seed, seed_transpiler=seed\n",
    ")\n",
    "\n",
    "adhoc_kernel = QuantumKernel(\n",
    "    feature_map=adhoc_feature_map, quantum_instance=adhoc_backend, enforce_psd=True\n",
    ")"
   ]
  },
  {
   "cell_type": "code",
   "execution_count": 4,
   "id": "a1915965",
   "metadata": {},
   "outputs": [],
   "source": [
    "N_compute = adhoc_kernel.evaluate(x_vec=N_dataset)\n",
    "N_prime = adhoc_kernel.evaluate(x_vec=N_dataset, y_vec=n_dataset)"
   ]
  },
  {
   "cell_type": "code",
   "execution_count": 42,
   "id": "7b3ddd4c",
   "metadata": {},
   "outputs": [],
   "source": [
    "#print(N_prime)"
   ]
  },
  {
   "cell_type": "code",
   "execution_count": 6,
   "id": "fed45bc9",
   "metadata": {},
   "outputs": [
    {
     "name": "stdout",
     "output_type": "stream",
     "text": [
      "True\n"
     ]
    }
   ],
   "source": [
    "def is_semi_pos_def_eigsh(x, epsilon=1e-10):\n",
    "    return np.all(np.linalg.eigvalsh(x) >= -epsilon)\n",
    "\n",
    "matrix_tocheck = N_compute\n",
    "print(is_semi_pos_def_eigsh(matrix(matrix_tocheck)))"
   ]
  },
  {
   "cell_type": "code",
   "execution_count": 14,
   "id": "b68e83f0",
   "metadata": {},
   "outputs": [
    {
     "data": {
      "image/png": "[encoded data removed]",
      "text/plain": [
       "<Figure size 360x360 with 1 Axes>"
      ]
     },
     "metadata": {
      "needs_background": "light"
     },
     "output_type": "display_data"
    }
   ],
   "source": [
    "plt.figure(figsize=(5, 5))\n",
    "plt.imshow(np.asmatrix(N_prime), interpolation=\"nearest\", origin=\"upper\", cmap=\"Greens\")\n",
    "plt.show()"
   ]
  },
  {
   "cell_type": "markdown",
   "id": "39de290c",
   "metadata": {},
   "source": [
    "## Add u"
   ]
  },
  {
   "cell_type": "code",
   "execution_count": 32,
   "id": "41aabf30",
   "metadata": {
    "collapsed": true
   },
   "outputs": [
    {
     "name": "stdout",
     "output_type": "stream",
     "text": [
      "N : \n",
      " [[1.31946891 5.40353936]\n",
      " [4.1469023  0.81681409]\n",
      " [2.38761042 5.52920307]\n",
      " [2.89026524 3.51858377]\n",
      " [4.1469023  5.27787566]\n",
      " [4.39822972 1.94778745]\n",
      " [3.14159265 0.9424778 ]\n",
      " [0.25132741 5.02654825]\n",
      " [4.08407045 2.0106193 ]\n",
      " [1.25663706 1.25663706]\n",
      " [5.40353936 0.        ]\n",
      " [4.96371639 0.56548668]\n",
      " [2.63893783 5.46637122]\n",
      " [1.00530965 3.76991118]\n",
      " [0.37699112 2.89026524]\n",
      " [4.90088454 4.83805269]\n",
      " [3.95840674 3.64424748]\n",
      " [1.50796447 5.15221195]\n",
      " [0.31415927 0.62831853]\n",
      " [0.50265482 1.63362818]\n",
      " [1.38230077 3.01592895]\n",
      " [1.13097336 3.01592895]\n",
      " [1.94778745 3.0787608 ]\n",
      " [1.13097336 3.01592895]\n",
      " [0.31415927 4.83805269]\n",
      " [0.87964594 4.71238898]\n",
      " [3.39292007 0.        ]\n",
      " [6.09468975 3.95840674]\n",
      " [0.18849556 4.71238898]\n",
      " [1.69646003 4.71238898]\n",
      " [1.19380521 6.03185789]\n",
      " [6.1575216  5.59203492]\n",
      " [5.2150438  0.12566371]\n",
      " [0.50265482 3.20442451]\n",
      " [5.59203492 6.1575216 ]\n",
      " [1.13097336 3.01592895]\n",
      " [4.96371639 5.0893801 ]\n",
      " [0.         0.43982297]\n",
      " [6.1575216  1.82212374]\n",
      " [1.94778745 4.90088454]]\n",
      "---\n",
      "n : \n",
      " [[1.57079633 1.69646003]\n",
      " [1.63362818 6.03185789]\n",
      " [1.88495559 6.1575216 ]\n",
      " [1.25663706 0.69115038]\n",
      " [4.33539786 4.0212386 ]\n",
      " [1.94778745 0.12566371]\n",
      " [0.56548668 3.45575192]\n",
      " [1.57079633 3.01592895]\n",
      " [1.94778745 0.18849556]\n",
      " [1.63362818 0.31415927]]\n"
     ]
    }
   ],
   "source": [
    "print(\"N : \\n\", N_dataset)\n",
    "print(\"---\")\n",
    "\n",
    "print(\"n : \\n\", n_dataset)"
   ]
  },
  {
   "cell_type": "code",
   "execution_count": 48,
   "id": "026b5d62",
   "metadata": {},
   "outputs": [],
   "source": [
    "nu_dataset = n_dataset\n",
    "\n",
    "for i in range(35):\n",
    "    nu_dataset = np.append(test_set, [N_dataset[i]], axis = 0)"
   ]
  },
  {
   "cell_type": "code",
   "execution_count": 51,
   "id": "14660a57",
   "metadata": {},
   "outputs": [],
   "source": [
    "Nnu_prime = adhoc_kernel.evaluate(x_vec=N_dataset, y_vec=nu_dataset)"
   ]
  },
  {
   "cell_type": "code",
   "execution_count": 52,
   "id": "6a0d8f9f",
   "metadata": {},
   "outputs": [
    {
     "data": {
      "image/png": "[encoded data removed]",
      "text/plain": [
       "<Figure size 360x360 with 1 Axes>"
      ]
     },
     "metadata": {
      "needs_background": "light"
     },
     "output_type": "display_data"
    }
   ],
   "source": [
    "plt.figure(figsize=(5, 5))\n",
    "plt.imshow(np.asmatrix(N_prime), interpolation=\"nearest\", origin=\"upper\", cmap=\"Greens\")\n",
    "plt.show()"
   ]
  },
  {
   "cell_type": "code",
   "execution_count": null,
   "id": "2d1b61c9",
   "metadata": {},
   "outputs": [],
   "source": []
  }
 ],
 "metadata": {
  "kernelspec": {
   "display_name": "Python 3",
   "language": "python",
   "name": "python3"
  },
  "language_info": {
   "codemirror_mode": {
    "name": "ipython",
    "version": 3
   },
   "file_extension": ".py",
   "mimetype": "text/x-python",
   "name": "python",
   "nbconvert_exporter": "python",
   "pygments_lexer": "ipython3",
   "version": "3.8.10"
  }
 },
 "nbformat": 4,
 "nbformat_minor": 5
}
