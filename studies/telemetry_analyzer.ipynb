{
 "cells": [
  {
   "cell_type": "code",
   "execution_count": 1,
   "id": "396cef83",
   "metadata": {},
   "outputs": [
    {
     "data": {
      "text/plain": [
       "True"
      ]
     },
     "execution_count": 1,
     "metadata": {},
     "output_type": "execute_result"
    }
   ],
   "source": [
    "import os\n",
    "import pandas as pd\n",
    "import plotly.express as px\n",
    "import plotly.graph_objects as go\n",
    "from plotly.subplots import make_subplots\n",
    "\n",
    "from dotenv import load_dotenv\n",
    "load_dotenv()"
   ]
  },
  {
   "cell_type": "markdown",
   "id": "fe8a505b",
   "metadata": {},
   "source": [
    "### Toggle switch for GitHub\n",
    "This notebook is auto generate. The next cell allows to create a static version of the notebook in order to have it available in GitHub view.\n",
    "\n",
    "Please always call you figure using `interac_o_static(fig)`"
   ]
  },
  {
   "cell_type": "code",
   "execution_count": 6,
   "id": "ff5ee375",
   "metadata": {},
   "outputs": [],
   "source": [
    "def interac_o_static(fig):\n",
    "    PLOTLY = os.getenv('PLOTLY')\n",
    "    if PLOTLY == \"interactive\":\n",
    "        return fig.show()\n",
    "    else:\n",
    "        return fig.show(\"png\")"
   ]
  },
  {
   "cell_type": "markdown",
   "id": "c1af747a",
   "metadata": {},
   "source": [
    "# Generate data\n",
    "Before generate data don't forget :\n",
    "- To know the number of uniq pair in a matrix : `sum(1 + i for i in range(0, #_size))`\n",
    "    - To know the number of circuits from a certain matrix of [1,1] is gonna be 3 uniq pair and so 3 circuits.\n",
    "    - You can run the code on [Wolfram Alpha](https://www.wolframalpha.com/input?i=sum+1%2Bn%2C+n%3D0+to+25)\n",
    "\n",
    "#### Limit known\n",
    "Today we know the Runtime have some limitations :\n",
    "- Runtime seconds max around 3600 seconds (1h).\n",
    "- Payload max 64MB"
   ]
  },
  {
   "cell_type": "markdown",
   "id": "9c58b056",
   "metadata": {},
   "source": [
    "# Telemetry"
   ]
  },
  {
   "cell_type": "code",
   "execution_count": 7,
   "id": "7a788583",
   "metadata": {},
   "outputs": [],
   "source": [
    "tele_file = pd.read_feather(\"../resources/kernel_metadata/shared_telemetry_info.csv\")\n",
    "#list_width = tele_file[\"width\"].tolist()\n",
    "#list_layers = tele_file[\"layers\"].tolist()\n",
    "#list_shots = tele_file[\"shots\"].tolist()\n",
    "#list_program_id = tele_file[\"program\"].tolist()\n",
    "#list_circuit_id = tele_file[\"circuit_id\"].tolist()\n",
    "#list_job_id = tele_file[\"job_id\"].tolist()\n",
    "#list_time_queue = tele_file[\"time_queue\"].tolist()\n",
    "#list_time_simu = tele_file[\"time_simu\"].tolist()\n",
    "#list_payload_size = tele_file[\"payload_size\"].tolist()\n",
    "#list_nb_circuits = tele_file[\"nb_circuits\"].tolist()\n",
    "#list_comment = tele_file[\"comment\"].tolist()"
   ]
  },
  {
   "cell_type": "markdown",
   "id": "a00a70a1",
   "metadata": {},
   "source": [
    "### Payload vs number of qubits\n",
    "Look at (payload size / number of circuits) -- that is, the payload size per circuit -- versus number of qubits, where the number of layers is fixed to be 1. This tells us something about the data costs associated with generating 1 circuit for a fixed number of qubits."
   ]
  },
  {
   "cell_type": "markdown",
   "id": "2e113f94",
   "metadata": {},
   "source": [
    "#### Only 1 layer"
   ]
  },
  {
   "cell_type": "code",
   "execution_count": 12,
   "id": "fde567fc",
   "metadata": {},
   "outputs": [
    {
     "name": "stdout",
     "output_type": "stream",
     "text": [
      "Size of dataframe :  157\n"
     ]
    },
    {
     "data": {
      "application/vnd.plotly.v1+json": {
       "config": {
        "plotlyServerURL": "https://plot.ly"
       },
       "data": [
        {
         "marker": {
          "color": [
           1,
           1,
           1,
           1,
           1,
           1,
           1,
           1,
           1,
           1,
           1,
           1,
           1,
           1,
           1,
           1,
           1,
           1,
           1,
           1,
           1,
           1,
           1,
           1,
           1,
           1,
           1,
           1,
           1,
           1,
           1,
           1,
           1,
           1,
           1,
           1,
           1,
           1,
           1,
           1,
           1,
           1,
           1,
           1,
           1,
           1,
           1,
           1,
           1,
           1,
           1,
           1,
           1,
           1,
           1,
           1,
           1,
           1,
           1,
           1,
           1,
           1,
           1,
           1,
           1,
           1,
           1,
           1,
           1,
           1,
           1,
           1,
           1,
           1,
           1,
           1,
           1,
           1,
           1,
           1,
           1,
           1,
           1,
           1,
           1,
           1,
           1,
           1,
           1,
           1,
           1,
           1,
           1,
           1,
           1,
           1,
           1,
           1,
           1,
           1,
           1,
           1,
           1,
           1,
           1,
           1,
           1,
           1,
           1,
           1,
           1,
           1,
           1,
           1,
           1,
           1,
           1,
           1,
           1,
           1,
           1,
           1,
           1,
           1,
           1,
           1,
           1,
           1,
           1,
           1,
           1,
           1,
           1,
           1,
           1,
           1,
           1,
           1,
           1,
           1,
           1,
           1,
           1,
           1,
           1,
           1,
           1,
           1,
           1,
           1,
           1,
           1,
           1,
           1,
           1,
           1,
           1
          ],
          "size": 8
         },
         "mode": "markers",
         "type": "scatter",
         "x": [
          1,
          1,
          1,
          1,
          1,
          1,
          4,
          4,
          4,
          4,
          4,
          4,
          8,
          8,
          8,
          8,
          10,
          10,
          10,
          10,
          10,
          10,
          1,
          1,
          1,
          1,
          1,
          1,
          4,
          4,
          4,
          4,
          4,
          4,
          8,
          8,
          8,
          8,
          8,
          8,
          10,
          10,
          10,
          10,
          10,
          10,
          4,
          4,
          4,
          4,
          4,
          4,
          4,
          1,
          1,
          1,
          1,
          1,
          1,
          2,
          2,
          2,
          2,
          2,
          2,
          3,
          3,
          3,
          3,
          3,
          3,
          4,
          4,
          4,
          4,
          4,
          4,
          5,
          5,
          5,
          5,
          5,
          5,
          6,
          6,
          6,
          6,
          6,
          6,
          7,
          7,
          7,
          7,
          7,
          7,
          8,
          8,
          8,
          8,
          8,
          8,
          9,
          9,
          9,
          9,
          9,
          9,
          10,
          10,
          10,
          10,
          10,
          10,
          1,
          1,
          1,
          1,
          1,
          1,
          4,
          4,
          4,
          4,
          4,
          4,
          8,
          8,
          8,
          8,
          8,
          8,
          10,
          10,
          10,
          10,
          10,
          10,
          4,
          4,
          4,
          4,
          4,
          4,
          4,
          4,
          4,
          4,
          4,
          4,
          4,
          4,
          4,
          4,
          4,
          4,
          4,
          6
         ],
         "y": [
          22024.380952380954,
          21838.909090909092,
          21744.250712250712,
          21756.923076923078,
          21730.02870813397,
          21753.44437973209,
          62635.04761904762,
          62049.69696969697,
          61803.304843304846,
          61766.20814479638,
          61758.23376623377,
          61779.83925451369,
          114374.85714285714,
          113299.15151515152,
          112924.2621082621,
          112843.13055365687,
          138896,
          137608.36363636365,
          137096.7977207977,
          137014.50377073907,
          137021.61585782637,
          137040.02950883325,
          21996.95238095238,
          21837.939393939392,
          21768.091168091167,
          21756.88084464555,
          21754.012303485986,
          21753.435061153174,
          53362.666666666664,
          52930.06060606061,
          52717.94871794872,
          52714.654600301656,
          52732.63704716336,
          52706.92137449039,
          92761.52380952382,
          92062.18181818182,
          91753.66381766382,
          91730.02111613876,
          91695.96992481203,
          91692.82547078237,
          115910.47619047618,
          114952.84848484848,
          114679.84045584046,
          114597.7435897436,
          114609.65413533835,
          114581.76975344593,
          53420,
          51833.52380952381,
          51401.57575757576,
          51257.48917748918,
          51186.636500754146,
          51204.612440191384,
          51202.91360900796,
          28336.761904761905,
          28080,
          27982.495726495727,
          27966.582202111615,
          27938.777853725223,
          27961.871481265774,
          51522.28571428572,
          51024.48484848485,
          50787.692307692305,
          50804.187028657616,
          50797.312371838685,
          50795.32207338381,
          81324.19047619047,
          80495.0303030303,
          80190.35897435897,
          80139.28808446456,
          80152.51674641148,
          80149.14540865851,
          122013.33333333333,
          120807.75757575757,
          120359.81766381767,
          120308.11463046758,
          120292.52221462748,
          120287.40827023878,
          167064,
          165476.12121212122,
          164831.7264957265,
          164726.66063348416,
          164705.30963773068,
          164722.12152980003,
          220994.2857142857,
          218875.39393939395,
          218054.15384615384,
          217938.92006033182,
          217886.8954203691,
          217853.29605901768,
          280840,
          278045.3333333333,
          277043.35042735044,
          276816.9592760181,
          276781.25768967875,
          276816.92719860224,
          362911.2380952381,
          359483.2727272727,
          358198.9287749288,
          357952.79638009047,
          357884.4210526316,
          357916.97301494854,
          439121.90476190473,
          434932.48484848486,
          433289.4131054131,
          433042.43137254904,
          432964.4128503076,
          432921.5235876529,
          521695.61904761905,
          516679.51515151514,
          514746.46153846156,
          514421.7496229261,
          514405.1401230349,
          514358.48262473306,
          22019.428571428572,
          21837.333333333332,
          21767.954415954417,
          21732.84464555053,
          21753.993164730007,
          21753.42884876723,
          51833.52380952381,
          51401.57575757576,
          51213.78917378918,
          51186.636500754146,
          51204.612440191384,
          51202.91360900796,
          91283.80952380953,
          90509.45454545454,
          90225.7094017094,
          90154.00904977375,
          90167.95078605606,
          90188.81925839643,
          114382.09523809524,
          113424.12121212122,
          113103.7264957265,
          113045.74962292609,
          113033.64046479836,
          113053.7728596389,
          64560,
          65992,
          55613.333333333336,
          52061.86666666667,
          51675.71428571428,
          51401.57575757576,
          53420,
          132434.66666666666,
          51213.78917378918,
          120287.40827023878,
          52735.767795087115,
          132434.66666666666,
          120359.81766381767,
          52711.47477503245,
          132434.66666666666,
          51213.78917378918,
          52714.654600301656,
          51177.419043396876,
          132434.66666666666,
          71425.6617900596
         ]
        }
       ],
       "layout": {
        "template": {
         "data": {
          "bar": [
           {
            "error_x": {
             "color": "#2a3f5f"
            },
            "error_y": {
             "color": "#2a3f5f"
            },
            "marker": {
             "line": {
              "color": "#E5ECF6",
              "width": 0.5
             },
             "pattern": {
              "fillmode": "overlay",
              "size": 10,
              "solidity": 0.2
             }
            },
            "type": "bar"
           }
          ],
          "barpolar": [
           {
            "marker": {
             "line": {
              "color": "#E5ECF6",
              "width": 0.5
             },
             "pattern": {
              "fillmode": "overlay",
              "size": 10,
              "solidity": 0.2
             }
            },
            "type": "barpolar"
           }
          ],
          "carpet": [
           {
            "aaxis": {
             "endlinecolor": "#2a3f5f",
             "gridcolor": "white",
             "linecolor": "white",
             "minorgridcolor": "white",
             "startlinecolor": "#2a3f5f"
            },
            "baxis": {
             "endlinecolor": "#2a3f5f",
             "gridcolor": "white",
             "linecolor": "white",
             "minorgridcolor": "white",
             "startlinecolor": "#2a3f5f"
            },
            "type": "carpet"
           }
          ],
          "choropleth": [
           {
            "colorbar": {
             "outlinewidth": 0,
             "ticks": ""
            },
            "type": "choropleth"
           }
          ],
          "contour": [
           {
            "colorbar": {
             "outlinewidth": 0,
             "ticks": ""
            },
            "colorscale": [
             [
              0,
              "#0d0887"
             ],
             [
              0.1111111111111111,
              "#46039f"
             ],
             [
              0.2222222222222222,
              "#7201a8"
             ],
             [
              0.3333333333333333,
              "#9c179e"
             ],
             [
              0.4444444444444444,
              "#bd3786"
             ],
             [
              0.5555555555555556,
              "#d8576b"
             ],
             [
              0.6666666666666666,
              "#ed7953"
             ],
             [
              0.7777777777777778,
              "#fb9f3a"
             ],
             [
              0.8888888888888888,
              "#fdca26"
             ],
             [
              1,
              "#f0f921"
             ]
            ],
            "type": "contour"
           }
          ],
          "contourcarpet": [
           {
            "colorbar": {
             "outlinewidth": 0,
             "ticks": ""
            },
            "type": "contourcarpet"
           }
          ],
          "heatmap": [
           {
            "colorbar": {
             "outlinewidth": 0,
             "ticks": ""
            },
            "colorscale": [
             [
              0,
              "#0d0887"
             ],
             [
              0.1111111111111111,
              "#46039f"
             ],
             [
              0.2222222222222222,
              "#7201a8"
             ],
             [
              0.3333333333333333,
              "#9c179e"
             ],
             [
              0.4444444444444444,
              "#bd3786"
             ],
             [
              0.5555555555555556,
              "#d8576b"
             ],
             [
              0.6666666666666666,
              "#ed7953"
             ],
             [
              0.7777777777777778,
              "#fb9f3a"
             ],
             [
              0.8888888888888888,
              "#fdca26"
             ],
             [
              1,
              "#f0f921"
             ]
            ],
            "type": "heatmap"
           }
          ],
          "heatmapgl": [
           {
            "colorbar": {
             "outlinewidth": 0,
             "ticks": ""
            },
            "colorscale": [
             [
              0,
              "#0d0887"
             ],
             [
              0.1111111111111111,
              "#46039f"
             ],
             [
              0.2222222222222222,
              "#7201a8"
             ],
             [
              0.3333333333333333,
              "#9c179e"
             ],
             [
              0.4444444444444444,
              "#bd3786"
             ],
             [
              0.5555555555555556,
              "#d8576b"
             ],
             [
              0.6666666666666666,
              "#ed7953"
             ],
             [
              0.7777777777777778,
              "#fb9f3a"
             ],
             [
              0.8888888888888888,
              "#fdca26"
             ],
             [
              1,
              "#f0f921"
             ]
            ],
            "type": "heatmapgl"
           }
          ],
          "histogram": [
           {
            "marker": {
             "pattern": {
              "fillmode": "overlay",
              "size": 10,
              "solidity": 0.2
             }
            },
            "type": "histogram"
           }
          ],
          "histogram2d": [
           {
            "colorbar": {
             "outlinewidth": 0,
             "ticks": ""
            },
            "colorscale": [
             [
              0,
              "#0d0887"
             ],
             [
              0.1111111111111111,
              "#46039f"
             ],
             [
              0.2222222222222222,
              "#7201a8"
             ],
             [
              0.3333333333333333,
              "#9c179e"
             ],
             [
              0.4444444444444444,
              "#bd3786"
             ],
             [
              0.5555555555555556,
              "#d8576b"
             ],
             [
              0.6666666666666666,
              "#ed7953"
             ],
             [
              0.7777777777777778,
              "#fb9f3a"
             ],
             [
              0.8888888888888888,
              "#fdca26"
             ],
             [
              1,
              "#f0f921"
             ]
            ],
            "type": "histogram2d"
           }
          ],
          "histogram2dcontour": [
           {
            "colorbar": {
             "outlinewidth": 0,
             "ticks": ""
            },
            "colorscale": [
             [
              0,
              "#0d0887"
             ],
             [
              0.1111111111111111,
              "#46039f"
             ],
             [
              0.2222222222222222,
              "#7201a8"
             ],
             [
              0.3333333333333333,
              "#9c179e"
             ],
             [
              0.4444444444444444,
              "#bd3786"
             ],
             [
              0.5555555555555556,
              "#d8576b"
             ],
             [
              0.6666666666666666,
              "#ed7953"
             ],
             [
              0.7777777777777778,
              "#fb9f3a"
             ],
             [
              0.8888888888888888,
              "#fdca26"
             ],
             [
              1,
              "#f0f921"
             ]
            ],
            "type": "histogram2dcontour"
           }
          ],
          "mesh3d": [
           {
            "colorbar": {
             "outlinewidth": 0,
             "ticks": ""
            },
            "type": "mesh3d"
           }
          ],
          "parcoords": [
           {
            "line": {
             "colorbar": {
              "outlinewidth": 0,
              "ticks": ""
             }
            },
            "type": "parcoords"
           }
          ],
          "pie": [
           {
            "automargin": true,
            "type": "pie"
           }
          ],
          "scatter": [
           {
            "fillpattern": {
             "fillmode": "overlay",
             "size": 10,
             "solidity": 0.2
            },
            "type": "scatter"
           }
          ],
          "scatter3d": [
           {
            "line": {
             "colorbar": {
              "outlinewidth": 0,
              "ticks": ""
             }
            },
            "marker": {
             "colorbar": {
              "outlinewidth": 0,
              "ticks": ""
             }
            },
            "type": "scatter3d"
           }
          ],
          "scattercarpet": [
           {
            "marker": {
             "colorbar": {
              "outlinewidth": 0,
              "ticks": ""
             }
            },
            "type": "scattercarpet"
           }
          ],
          "scattergeo": [
           {
            "marker": {
             "colorbar": {
              "outlinewidth": 0,
              "ticks": ""
             }
            },
            "type": "scattergeo"
           }
          ],
          "scattergl": [
           {
            "marker": {
             "colorbar": {
              "outlinewidth": 0,
              "ticks": ""
             }
            },
            "type": "scattergl"
           }
          ],
          "scattermapbox": [
           {
            "marker": {
             "colorbar": {
              "outlinewidth": 0,
              "ticks": ""
             }
            },
            "type": "scattermapbox"
           }
          ],
          "scatterpolar": [
           {
            "marker": {
             "colorbar": {
              "outlinewidth": 0,
              "ticks": ""
             }
            },
            "type": "scatterpolar"
           }
          ],
          "scatterpolargl": [
           {
            "marker": {
             "colorbar": {
              "outlinewidth": 0,
              "ticks": ""
             }
            },
            "type": "scatterpolargl"
           }
          ],
          "scatterternary": [
           {
            "marker": {
             "colorbar": {
              "outlinewidth": 0,
              "ticks": ""
             }
            },
            "type": "scatterternary"
           }
          ],
          "surface": [
           {
            "colorbar": {
             "outlinewidth": 0,
             "ticks": ""
            },
            "colorscale": [
             [
              0,
              "#0d0887"
             ],
             [
              0.1111111111111111,
              "#46039f"
             ],
             [
              0.2222222222222222,
              "#7201a8"
             ],
             [
              0.3333333333333333,
              "#9c179e"
             ],
             [
              0.4444444444444444,
              "#bd3786"
             ],
             [
              0.5555555555555556,
              "#d8576b"
             ],
             [
              0.6666666666666666,
              "#ed7953"
             ],
             [
              0.7777777777777778,
              "#fb9f3a"
             ],
             [
              0.8888888888888888,
              "#fdca26"
             ],
             [
              1,
              "#f0f921"
             ]
            ],
            "type": "surface"
           }
          ],
          "table": [
           {
            "cells": {
             "fill": {
              "color": "#EBF0F8"
             },
             "line": {
              "color": "white"
             }
            },
            "header": {
             "fill": {
              "color": "#C8D4E3"
             },
             "line": {
              "color": "white"
             }
            },
            "type": "table"
           }
          ]
         },
         "layout": {
          "annotationdefaults": {
           "arrowcolor": "#2a3f5f",
           "arrowhead": 0,
           "arrowwidth": 1
          },
          "autotypenumbers": "strict",
          "coloraxis": {
           "colorbar": {
            "outlinewidth": 0,
            "ticks": ""
           }
          },
          "colorscale": {
           "diverging": [
            [
             0,
             "#8e0152"
            ],
            [
             0.1,
             "#c51b7d"
            ],
            [
             0.2,
             "#de77ae"
            ],
            [
             0.3,
             "#f1b6da"
            ],
            [
             0.4,
             "#fde0ef"
            ],
            [
             0.5,
             "#f7f7f7"
            ],
            [
             0.6,
             "#e6f5d0"
            ],
            [
             0.7,
             "#b8e186"
            ],
            [
             0.8,
             "#7fbc41"
            ],
            [
             0.9,
             "#4d9221"
            ],
            [
             1,
             "#276419"
            ]
           ],
           "sequential": [
            [
             0,
             "#0d0887"
            ],
            [
             0.1111111111111111,
             "#46039f"
            ],
            [
             0.2222222222222222,
             "#7201a8"
            ],
            [
             0.3333333333333333,
             "#9c179e"
            ],
            [
             0.4444444444444444,
             "#bd3786"
            ],
            [
             0.5555555555555556,
             "#d8576b"
            ],
            [
             0.6666666666666666,
             "#ed7953"
            ],
            [
             0.7777777777777778,
             "#fb9f3a"
            ],
            [
             0.8888888888888888,
             "#fdca26"
            ],
            [
             1,
             "#f0f921"
            ]
           ],
           "sequentialminus": [
            [
             0,
             "#0d0887"
            ],
            [
             0.1111111111111111,
             "#46039f"
            ],
            [
             0.2222222222222222,
             "#7201a8"
            ],
            [
             0.3333333333333333,
             "#9c179e"
            ],
            [
             0.4444444444444444,
             "#bd3786"
            ],
            [
             0.5555555555555556,
             "#d8576b"
            ],
            [
             0.6666666666666666,
             "#ed7953"
            ],
            [
             0.7777777777777778,
             "#fb9f3a"
            ],
            [
             0.8888888888888888,
             "#fdca26"
            ],
            [
             1,
             "#f0f921"
            ]
           ]
          },
          "colorway": [
           "#636efa",
           "#EF553B",
           "#00cc96",
           "#ab63fa",
           "#FFA15A",
           "#19d3f3",
           "#FF6692",
           "#B6E880",
           "#FF97FF",
           "#FECB52"
          ],
          "font": {
           "color": "#2a3f5f"
          },
          "geo": {
           "bgcolor": "white",
           "lakecolor": "white",
           "landcolor": "#E5ECF6",
           "showlakes": true,
           "showland": true,
           "subunitcolor": "white"
          },
          "hoverlabel": {
           "align": "left"
          },
          "hovermode": "closest",
          "mapbox": {
           "style": "light"
          },
          "paper_bgcolor": "white",
          "plot_bgcolor": "#E5ECF6",
          "polar": {
           "angularaxis": {
            "gridcolor": "white",
            "linecolor": "white",
            "ticks": ""
           },
           "bgcolor": "#E5ECF6",
           "radialaxis": {
            "gridcolor": "white",
            "linecolor": "white",
            "ticks": ""
           }
          },
          "scene": {
           "xaxis": {
            "backgroundcolor": "#E5ECF6",
            "gridcolor": "white",
            "gridwidth": 2,
            "linecolor": "white",
            "showbackground": true,
            "ticks": "",
            "zerolinecolor": "white"
           },
           "yaxis": {
            "backgroundcolor": "#E5ECF6",
            "gridcolor": "white",
            "gridwidth": 2,
            "linecolor": "white",
            "showbackground": true,
            "ticks": "",
            "zerolinecolor": "white"
           },
           "zaxis": {
            "backgroundcolor": "#E5ECF6",
            "gridcolor": "white",
            "gridwidth": 2,
            "linecolor": "white",
            "showbackground": true,
            "ticks": "",
            "zerolinecolor": "white"
           }
          },
          "shapedefaults": {
           "line": {
            "color": "#2a3f5f"
           }
          },
          "ternary": {
           "aaxis": {
            "gridcolor": "white",
            "linecolor": "white",
            "ticks": ""
           },
           "baxis": {
            "gridcolor": "white",
            "linecolor": "white",
            "ticks": ""
           },
           "bgcolor": "#E5ECF6",
           "caxis": {
            "gridcolor": "white",
            "linecolor": "white",
            "ticks": ""
           }
          },
          "title": {
           "x": 0.05
          },
          "xaxis": {
           "automargin": true,
           "gridcolor": "white",
           "linecolor": "white",
           "ticks": "",
           "title": {
            "standoff": 15
           },
           "zerolinecolor": "white",
           "zerolinewidth": 2
          },
          "yaxis": {
           "automargin": true,
           "gridcolor": "white",
           "linecolor": "white",
           "ticks": "",
           "title": {
            "standoff": 15
           },
           "zerolinecolor": "white",
           "zerolinewidth": 2
          }
         }
        },
        "title": {
         "text": "Payload per 1 circuit - Only 1 layer"
        },
        "xaxis": {
         "title": {
          "text": "# qubits"
         }
        },
        "yaxis": {
         "title": {
          "text": "Payload for 1 circuit (byte)"
         }
        }
       }
      },
      "text/html": [
       "<div>                            <div id=\"52524e32-17d8-48b4-bc4b-6c16ddc5f552\" class=\"plotly-graph-div\" style=\"height:525px; width:100%;\"></div>            <script type=\"text/javascript\">                require([\"plotly\"], function(Plotly) {                    window.PLOTLYENV=window.PLOTLYENV || {};                                    if (document.getElementById(\"52524e32-17d8-48b4-bc4b-6c16ddc5f552\")) {                    Plotly.newPlot(                        \"52524e32-17d8-48b4-bc4b-6c16ddc5f552\",                        [{\"marker\":{\"color\":[1,1,1,1,1,1,1,1,1,1,1,1,1,1,1,1,1,1,1,1,1,1,1,1,1,1,1,1,1,1,1,1,1,1,1,1,1,1,1,1,1,1,1,1,1,1,1,1,1,1,1,1,1,1,1,1,1,1,1,1,1,1,1,1,1,1,1,1,1,1,1,1,1,1,1,1,1,1,1,1,1,1,1,1,1,1,1,1,1,1,1,1,1,1,1,1,1,1,1,1,1,1,1,1,1,1,1,1,1,1,1,1,1,1,1,1,1,1,1,1,1,1,1,1,1,1,1,1,1,1,1,1,1,1,1,1,1,1,1,1,1,1,1,1,1,1,1,1,1,1,1,1,1,1,1,1,1],\"size\":8},\"mode\":\"markers\",\"x\":[1,1,1,1,1,1,4,4,4,4,4,4,8,8,8,8,10,10,10,10,10,10,1,1,1,1,1,1,4,4,4,4,4,4,8,8,8,8,8,8,10,10,10,10,10,10,4,4,4,4,4,4,4,1,1,1,1,1,1,2,2,2,2,2,2,3,3,3,3,3,3,4,4,4,4,4,4,5,5,5,5,5,5,6,6,6,6,6,6,7,7,7,7,7,7,8,8,8,8,8,8,9,9,9,9,9,9,10,10,10,10,10,10,1,1,1,1,1,1,4,4,4,4,4,4,8,8,8,8,8,8,10,10,10,10,10,10,4,4,4,4,4,4,4,4,4,4,4,4,4,4,4,4,4,4,4,6],\"y\":[22024.380952380954,21838.909090909092,21744.250712250712,21756.923076923078,21730.02870813397,21753.44437973209,62635.04761904762,62049.69696969697,61803.304843304846,61766.20814479638,61758.23376623377,61779.83925451369,114374.85714285714,113299.15151515152,112924.2621082621,112843.13055365687,138896.0,137608.36363636365,137096.7977207977,137014.50377073907,137021.61585782637,137040.02950883325,21996.95238095238,21837.939393939392,21768.091168091167,21756.88084464555,21754.012303485986,21753.435061153174,53362.666666666664,52930.06060606061,52717.94871794872,52714.654600301656,52732.63704716336,52706.92137449039,92761.52380952382,92062.18181818182,91753.66381766382,91730.02111613876,91695.96992481203,91692.82547078237,115910.47619047618,114952.84848484848,114679.84045584046,114597.7435897436,114609.65413533835,114581.76975344593,53420.0,51833.52380952381,51401.57575757576,51257.48917748918,51186.636500754146,51204.612440191384,51202.91360900796,28336.761904761905,28080.0,27982.495726495727,27966.582202111615,27938.777853725223,27961.871481265774,51522.28571428572,51024.48484848485,50787.692307692305,50804.187028657616,50797.312371838685,50795.32207338381,81324.19047619047,80495.0303030303,80190.35897435897,80139.28808446456,80152.51674641148,80149.14540865851,122013.33333333333,120807.75757575757,120359.81766381767,120308.11463046758,120292.52221462748,120287.40827023878,167064.0,165476.12121212122,164831.7264957265,164726.66063348416,164705.30963773068,164722.12152980003,220994.2857142857,218875.39393939395,218054.15384615384,217938.92006033182,217886.8954203691,217853.29605901768,280840.0,278045.3333333333,277043.35042735044,276816.9592760181,276781.25768967875,276816.92719860224,362911.2380952381,359483.2727272727,358198.9287749288,357952.79638009047,357884.4210526316,357916.97301494854,439121.90476190473,434932.48484848486,433289.4131054131,433042.43137254904,432964.4128503076,432921.5235876529,521695.61904761905,516679.51515151514,514746.46153846156,514421.7496229261,514405.1401230349,514358.48262473306,22019.428571428572,21837.333333333332,21767.954415954417,21732.84464555053,21753.993164730007,21753.42884876723,51833.52380952381,51401.57575757576,51213.78917378918,51186.636500754146,51204.612440191384,51202.91360900796,91283.80952380953,90509.45454545454,90225.7094017094,90154.00904977375,90167.95078605606,90188.81925839643,114382.09523809524,113424.12121212122,113103.7264957265,113045.74962292609,113033.64046479836,113053.7728596389,64560.0,65992.0,55613.333333333336,52061.86666666667,51675.71428571428,51401.57575757576,53420.0,132434.66666666666,51213.78917378918,120287.40827023878,52735.767795087115,132434.66666666666,120359.81766381767,52711.47477503245,132434.66666666666,51213.78917378918,52714.654600301656,51177.419043396876,132434.66666666666,71425.6617900596],\"type\":\"scatter\"}],                        {\"template\":{\"data\":{\"histogram2dcontour\":[{\"type\":\"histogram2dcontour\",\"colorbar\":{\"outlinewidth\":0,\"ticks\":\"\"},\"colorscale\":[[0.0,\"#0d0887\"],[0.1111111111111111,\"#46039f\"],[0.2222222222222222,\"#7201a8\"],[0.3333333333333333,\"#9c179e\"],[0.4444444444444444,\"#bd3786\"],[0.5555555555555556,\"#d8576b\"],[0.6666666666666666,\"#ed7953\"],[0.7777777777777778,\"#fb9f3a\"],[0.8888888888888888,\"#fdca26\"],[1.0,\"#f0f921\"]]}],\"choropleth\":[{\"type\":\"choropleth\",\"colorbar\":{\"outlinewidth\":0,\"ticks\":\"\"}}],\"histogram2d\":[{\"type\":\"histogram2d\",\"colorbar\":{\"outlinewidth\":0,\"ticks\":\"\"},\"colorscale\":[[0.0,\"#0d0887\"],[0.1111111111111111,\"#46039f\"],[0.2222222222222222,\"#7201a8\"],[0.3333333333333333,\"#9c179e\"],[0.4444444444444444,\"#bd3786\"],[0.5555555555555556,\"#d8576b\"],[0.6666666666666666,\"#ed7953\"],[0.7777777777777778,\"#fb9f3a\"],[0.8888888888888888,\"#fdca26\"],[1.0,\"#f0f921\"]]}],\"heatmap\":[{\"type\":\"heatmap\",\"colorbar\":{\"outlinewidth\":0,\"ticks\":\"\"},\"colorscale\":[[0.0,\"#0d0887\"],[0.1111111111111111,\"#46039f\"],[0.2222222222222222,\"#7201a8\"],[0.3333333333333333,\"#9c179e\"],[0.4444444444444444,\"#bd3786\"],[0.5555555555555556,\"#d8576b\"],[0.6666666666666666,\"#ed7953\"],[0.7777777777777778,\"#fb9f3a\"],[0.8888888888888888,\"#fdca26\"],[1.0,\"#f0f921\"]]}],\"heatmapgl\":[{\"type\":\"heatmapgl\",\"colorbar\":{\"outlinewidth\":0,\"ticks\":\"\"},\"colorscale\":[[0.0,\"#0d0887\"],[0.1111111111111111,\"#46039f\"],[0.2222222222222222,\"#7201a8\"],[0.3333333333333333,\"#9c179e\"],[0.4444444444444444,\"#bd3786\"],[0.5555555555555556,\"#d8576b\"],[0.6666666666666666,\"#ed7953\"],[0.7777777777777778,\"#fb9f3a\"],[0.8888888888888888,\"#fdca26\"],[1.0,\"#f0f921\"]]}],\"contourcarpet\":[{\"type\":\"contourcarpet\",\"colorbar\":{\"outlinewidth\":0,\"ticks\":\"\"}}],\"contour\":[{\"type\":\"contour\",\"colorbar\":{\"outlinewidth\":0,\"ticks\":\"\"},\"colorscale\":[[0.0,\"#0d0887\"],[0.1111111111111111,\"#46039f\"],[0.2222222222222222,\"#7201a8\"],[0.3333333333333333,\"#9c179e\"],[0.4444444444444444,\"#bd3786\"],[0.5555555555555556,\"#d8576b\"],[0.6666666666666666,\"#ed7953\"],[0.7777777777777778,\"#fb9f3a\"],[0.8888888888888888,\"#fdca26\"],[1.0,\"#f0f921\"]]}],\"surface\":[{\"type\":\"surface\",\"colorbar\":{\"outlinewidth\":0,\"ticks\":\"\"},\"colorscale\":[[0.0,\"#0d0887\"],[0.1111111111111111,\"#46039f\"],[0.2222222222222222,\"#7201a8\"],[0.3333333333333333,\"#9c179e\"],[0.4444444444444444,\"#bd3786\"],[0.5555555555555556,\"#d8576b\"],[0.6666666666666666,\"#ed7953\"],[0.7777777777777778,\"#fb9f3a\"],[0.8888888888888888,\"#fdca26\"],[1.0,\"#f0f921\"]]}],\"mesh3d\":[{\"type\":\"mesh3d\",\"colorbar\":{\"outlinewidth\":0,\"ticks\":\"\"}}],\"scatter\":[{\"fillpattern\":{\"fillmode\":\"overlay\",\"size\":10,\"solidity\":0.2},\"type\":\"scatter\"}],\"parcoords\":[{\"type\":\"parcoords\",\"line\":{\"colorbar\":{\"outlinewidth\":0,\"ticks\":\"\"}}}],\"scatterpolargl\":[{\"type\":\"scatterpolargl\",\"marker\":{\"colorbar\":{\"outlinewidth\":0,\"ticks\":\"\"}}}],\"bar\":[{\"error_x\":{\"color\":\"#2a3f5f\"},\"error_y\":{\"color\":\"#2a3f5f\"},\"marker\":{\"line\":{\"color\":\"#E5ECF6\",\"width\":0.5},\"pattern\":{\"fillmode\":\"overlay\",\"size\":10,\"solidity\":0.2}},\"type\":\"bar\"}],\"scattergeo\":[{\"type\":\"scattergeo\",\"marker\":{\"colorbar\":{\"outlinewidth\":0,\"ticks\":\"\"}}}],\"scatterpolar\":[{\"type\":\"scatterpolar\",\"marker\":{\"colorbar\":{\"outlinewidth\":0,\"ticks\":\"\"}}}],\"histogram\":[{\"marker\":{\"pattern\":{\"fillmode\":\"overlay\",\"size\":10,\"solidity\":0.2}},\"type\":\"histogram\"}],\"scattergl\":[{\"type\":\"scattergl\",\"marker\":{\"colorbar\":{\"outlinewidth\":0,\"ticks\":\"\"}}}],\"scatter3d\":[{\"type\":\"scatter3d\",\"line\":{\"colorbar\":{\"outlinewidth\":0,\"ticks\":\"\"}},\"marker\":{\"colorbar\":{\"outlinewidth\":0,\"ticks\":\"\"}}}],\"scattermapbox\":[{\"type\":\"scattermapbox\",\"marker\":{\"colorbar\":{\"outlinewidth\":0,\"ticks\":\"\"}}}],\"scatterternary\":[{\"type\":\"scatterternary\",\"marker\":{\"colorbar\":{\"outlinewidth\":0,\"ticks\":\"\"}}}],\"scattercarpet\":[{\"type\":\"scattercarpet\",\"marker\":{\"colorbar\":{\"outlinewidth\":0,\"ticks\":\"\"}}}],\"carpet\":[{\"aaxis\":{\"endlinecolor\":\"#2a3f5f\",\"gridcolor\":\"white\",\"linecolor\":\"white\",\"minorgridcolor\":\"white\",\"startlinecolor\":\"#2a3f5f\"},\"baxis\":{\"endlinecolor\":\"#2a3f5f\",\"gridcolor\":\"white\",\"linecolor\":\"white\",\"minorgridcolor\":\"white\",\"startlinecolor\":\"#2a3f5f\"},\"type\":\"carpet\"}],\"table\":[{\"cells\":{\"fill\":{\"color\":\"#EBF0F8\"},\"line\":{\"color\":\"white\"}},\"header\":{\"fill\":{\"color\":\"#C8D4E3\"},\"line\":{\"color\":\"white\"}},\"type\":\"table\"}],\"barpolar\":[{\"marker\":{\"line\":{\"color\":\"#E5ECF6\",\"width\":0.5},\"pattern\":{\"fillmode\":\"overlay\",\"size\":10,\"solidity\":0.2}},\"type\":\"barpolar\"}],\"pie\":[{\"automargin\":true,\"type\":\"pie\"}]},\"layout\":{\"autotypenumbers\":\"strict\",\"colorway\":[\"#636efa\",\"#EF553B\",\"#00cc96\",\"#ab63fa\",\"#FFA15A\",\"#19d3f3\",\"#FF6692\",\"#B6E880\",\"#FF97FF\",\"#FECB52\"],\"font\":{\"color\":\"#2a3f5f\"},\"hovermode\":\"closest\",\"hoverlabel\":{\"align\":\"left\"},\"paper_bgcolor\":\"white\",\"plot_bgcolor\":\"#E5ECF6\",\"polar\":{\"bgcolor\":\"#E5ECF6\",\"angularaxis\":{\"gridcolor\":\"white\",\"linecolor\":\"white\",\"ticks\":\"\"},\"radialaxis\":{\"gridcolor\":\"white\",\"linecolor\":\"white\",\"ticks\":\"\"}},\"ternary\":{\"bgcolor\":\"#E5ECF6\",\"aaxis\":{\"gridcolor\":\"white\",\"linecolor\":\"white\",\"ticks\":\"\"},\"baxis\":{\"gridcolor\":\"white\",\"linecolor\":\"white\",\"ticks\":\"\"},\"caxis\":{\"gridcolor\":\"white\",\"linecolor\":\"white\",\"ticks\":\"\"}},\"coloraxis\":{\"colorbar\":{\"outlinewidth\":0,\"ticks\":\"\"}},\"colorscale\":{\"sequential\":[[0.0,\"#0d0887\"],[0.1111111111111111,\"#46039f\"],[0.2222222222222222,\"#7201a8\"],[0.3333333333333333,\"#9c179e\"],[0.4444444444444444,\"#bd3786\"],[0.5555555555555556,\"#d8576b\"],[0.6666666666666666,\"#ed7953\"],[0.7777777777777778,\"#fb9f3a\"],[0.8888888888888888,\"#fdca26\"],[1.0,\"#f0f921\"]],\"sequentialminus\":[[0.0,\"#0d0887\"],[0.1111111111111111,\"#46039f\"],[0.2222222222222222,\"#7201a8\"],[0.3333333333333333,\"#9c179e\"],[0.4444444444444444,\"#bd3786\"],[0.5555555555555556,\"#d8576b\"],[0.6666666666666666,\"#ed7953\"],[0.7777777777777778,\"#fb9f3a\"],[0.8888888888888888,\"#fdca26\"],[1.0,\"#f0f921\"]],\"diverging\":[[0,\"#8e0152\"],[0.1,\"#c51b7d\"],[0.2,\"#de77ae\"],[0.3,\"#f1b6da\"],[0.4,\"#fde0ef\"],[0.5,\"#f7f7f7\"],[0.6,\"#e6f5d0\"],[0.7,\"#b8e186\"],[0.8,\"#7fbc41\"],[0.9,\"#4d9221\"],[1,\"#276419\"]]},\"xaxis\":{\"gridcolor\":\"white\",\"linecolor\":\"white\",\"ticks\":\"\",\"title\":{\"standoff\":15},\"zerolinecolor\":\"white\",\"automargin\":true,\"zerolinewidth\":2},\"yaxis\":{\"gridcolor\":\"white\",\"linecolor\":\"white\",\"ticks\":\"\",\"title\":{\"standoff\":15},\"zerolinecolor\":\"white\",\"automargin\":true,\"zerolinewidth\":2},\"scene\":{\"xaxis\":{\"backgroundcolor\":\"#E5ECF6\",\"gridcolor\":\"white\",\"linecolor\":\"white\",\"showbackground\":true,\"ticks\":\"\",\"zerolinecolor\":\"white\",\"gridwidth\":2},\"yaxis\":{\"backgroundcolor\":\"#E5ECF6\",\"gridcolor\":\"white\",\"linecolor\":\"white\",\"showbackground\":true,\"ticks\":\"\",\"zerolinecolor\":\"white\",\"gridwidth\":2},\"zaxis\":{\"backgroundcolor\":\"#E5ECF6\",\"gridcolor\":\"white\",\"linecolor\":\"white\",\"showbackground\":true,\"ticks\":\"\",\"zerolinecolor\":\"white\",\"gridwidth\":2}},\"shapedefaults\":{\"line\":{\"color\":\"#2a3f5f\"}},\"annotationdefaults\":{\"arrowcolor\":\"#2a3f5f\",\"arrowhead\":0,\"arrowwidth\":1},\"geo\":{\"bgcolor\":\"white\",\"landcolor\":\"#E5ECF6\",\"subunitcolor\":\"white\",\"showland\":true,\"showlakes\":true,\"lakecolor\":\"white\"},\"title\":{\"x\":0.05},\"mapbox\":{\"style\":\"light\"}}},\"title\":{\"text\":\"Payload per 1 circuit - Only 1 layer\"},\"xaxis\":{\"title\":{\"text\":\"# qubits\"}},\"yaxis\":{\"title\":{\"text\":\"Payload for 1 circuit (byte)\"}}},                        {\"responsive\": true}                    ).then(function(){\n",
       "                            \n",
       "var gd = document.getElementById('52524e32-17d8-48b4-bc4b-6c16ddc5f552');\n",
       "var x = new MutationObserver(function (mutations, observer) {{\n",
       "        var display = window.getComputedStyle(gd).display;\n",
       "        if (!display || display === 'none') {{\n",
       "            console.log([gd, 'removed!']);\n",
       "            Plotly.purge(gd);\n",
       "            observer.disconnect();\n",
       "        }}\n",
       "}});\n",
       "\n",
       "// Listen for the removal of the full notebook cells\n",
       "var notebookContainer = gd.closest('#notebook-container');\n",
       "if (notebookContainer) {{\n",
       "    x.observe(notebookContainer, {childList: true});\n",
       "}}\n",
       "\n",
       "// Listen for the clearing of the current output cell\n",
       "var outputEl = gd.closest('.output');\n",
       "if (outputEl) {{\n",
       "    x.observe(outputEl, {childList: true});\n",
       "}}\n",
       "\n",
       "                        })                };                });            </script>        </div>"
      ]
     },
     "metadata": {},
     "output_type": "display_data"
    }
   ],
   "source": [
    "only1layer = tele_file.loc[tele_file['layers'] == 1]\n",
    "olayer_layers = only1layer[\"layers\"].tolist()\n",
    "olayer_width = only1layer[\"width\"].tolist()\n",
    "olayer_payload_size = only1layer[\"payload_size\"].tolist()\n",
    "olayer_nb_circuits = only1layer[\"nb_circuits\"].tolist()\n",
    "\n",
    "olayer_payload_per_circuit = []\n",
    "for payload_size, nb_circuits in zip(olayer_payload_size, olayer_nb_circuits):\n",
    "    olayer_payload_per_circuit.append(float(payload_size/nb_circuits))\n",
    "    \n",
    "print(\"Size of dataframe : \", len(olayer_payload_per_circuit))\n",
    "\n",
    "fig = go.Figure([go.Scatter(x=olayer_width, y=olayer_payload_per_circuit, mode='markers',\n",
    "                                   marker=dict(color=olayer_layers, size=8))])\n",
    "\n",
    "fig.update_layout(title_text='Payload per 1 circuit - Only 1 layer',\n",
    "                         xaxis_title=\"# qubits\", yaxis_title=\"Payload for 1 circuit (byte)\")\n",
    "\n",
    "interac_o_static(fig)"
   ]
  },
  {
   "cell_type": "markdown",
   "id": "d7e41223",
   "metadata": {},
   "source": [
    "#### All layers"
   ]
  },
  {
   "cell_type": "code",
   "execution_count": 13,
   "id": "058d7082",
   "metadata": {},
   "outputs": [
    {
     "name": "stdout",
     "output_type": "stream",
     "text": [
      "Size of dataframe :  431\n"
     ]
    },
    {
     "data": {
      "application/vnd.plotly.v1+json": {
       "config": {
        "plotlyServerURL": "https://plot.ly"
       },
       "data": [
        {
         "hovertemplate": "x=%{x}<br>y=%{y}<br>color=%{marker.color}<extra></extra>",
         "legendgroup": "",
         "marker": {
          "color": [
           5,
           5,
           5,
           5,
           5,
           5,
           5,
           5,
           5,
           5,
           5,
           5,
           7,
           7,
           7,
           7,
           7,
           7,
           7,
           7,
           7,
           7,
           7,
           7,
           7,
           7,
           7,
           7,
           7,
           7,
           7,
           7,
           7,
           7,
           7,
           5,
           5,
           5,
           5,
           5,
           5,
           5,
           5,
           5,
           5,
           5,
           5,
           5,
           5,
           5,
           5,
           5,
           5,
           5,
           5,
           1,
           1,
           1,
           1,
           1,
           1,
           1,
           1,
           1,
           1,
           1,
           1,
           1,
           1,
           1,
           1,
           1,
           1,
           1,
           1,
           1,
           1,
           2,
           2,
           2,
           2,
           2,
           2,
           2,
           2,
           2,
           2,
           2,
           2,
           2,
           2,
           2,
           2,
           2,
           2,
           2,
           2,
           2,
           2,
           2,
           2,
           2,
           2,
           2,
           2,
           2,
           2,
           2,
           2,
           2,
           2,
           2,
           2,
           2,
           2,
           2,
           2,
           2,
           2,
           2,
           2,
           2,
           2,
           2,
           2,
           2,
           2,
           5,
           5,
           5,
           5,
           5,
           5,
           5,
           5,
           5,
           5,
           5,
           5,
           5,
           5,
           5,
           5,
           5,
           5,
           5,
           5,
           5,
           5,
           5,
           5,
           7,
           7,
           7,
           7,
           7,
           7,
           7,
           7,
           7,
           7,
           7,
           7,
           7,
           7,
           7,
           7,
           7,
           7,
           7,
           7,
           7,
           7,
           7,
           7,
           5,
           5,
           5,
           5,
           5,
           5,
           5,
           5,
           5,
           5,
           5,
           5,
           1,
           1,
           1,
           1,
           1,
           1,
           1,
           1,
           1,
           1,
           1,
           1,
           1,
           1,
           1,
           1,
           1,
           1,
           1,
           1,
           1,
           1,
           1,
           1,
           2,
           2,
           2,
           2,
           2,
           2,
           2,
           2,
           2,
           2,
           2,
           2,
           2,
           2,
           2,
           2,
           2,
           2,
           2,
           2,
           2,
           2,
           2,
           2,
           5,
           5,
           5,
           5,
           5,
           5,
           5,
           5,
           5,
           5,
           5,
           5,
           5,
           5,
           5,
           5,
           5,
           5,
           5,
           5,
           5,
           5,
           5,
           5,
           7,
           7,
           7,
           7,
           7,
           7,
           7,
           7,
           7,
           7,
           7,
           7,
           7,
           7,
           7,
           7,
           7,
           7,
           7,
           7,
           7,
           7,
           7,
           7,
           1,
           1,
           1,
           1,
           1,
           1,
           1,
           1,
           1,
           1,
           1,
           1,
           1,
           1,
           1,
           1,
           1,
           1,
           1,
           1,
           1,
           1,
           1,
           1,
           1,
           1,
           1,
           1,
           1,
           1,
           1,
           1,
           1,
           1,
           1,
           1,
           1,
           1,
           1,
           1,
           1,
           1,
           1,
           1,
           1,
           1,
           1,
           1,
           1,
           1,
           1,
           1,
           1,
           1,
           1,
           1,
           1,
           1,
           1,
           1,
           1,
           1,
           1,
           1,
           1,
           1,
           1,
           2,
           1,
           1,
           1,
           1,
           1,
           1,
           1,
           1,
           1,
           1,
           1,
           1,
           1,
           1,
           1,
           1,
           1,
           1,
           1,
           1,
           1,
           1,
           1,
           1,
           2,
           2,
           2,
           2,
           2,
           2,
           2,
           2,
           2,
           2,
           2,
           2,
           2,
           2,
           2,
           2,
           2,
           2,
           2,
           2,
           2,
           2,
           2,
           2,
           1,
           1,
           1,
           1,
           1,
           1,
           1,
           2,
           2,
           2,
           2,
           2,
           2,
           1,
           1,
           1,
           1,
           1,
           2,
           1,
           1,
           1,
           1,
           1,
           1,
           2,
           1,
           1,
           2,
           3,
           2,
           2
          ],
          "coloraxis": "coloraxis",
          "size": 8,
          "symbol": "circle"
         },
         "mode": "markers",
         "name": "",
         "orientation": "v",
         "showlegend": false,
         "type": "scatter",
         "x": [
          8,
          8,
          8,
          8,
          8,
          8,
          10,
          10,
          10,
          10,
          10,
          10,
          1,
          1,
          1,
          1,
          1,
          1,
          4,
          4,
          4,
          4,
          4,
          4,
          8,
          8,
          8,
          8,
          8,
          8,
          10,
          10,
          10,
          10,
          10,
          1,
          1,
          1,
          1,
          1,
          1,
          4,
          4,
          4,
          4,
          4,
          4,
          8,
          8,
          8,
          8,
          8,
          10,
          10,
          10,
          1,
          1,
          1,
          1,
          1,
          1,
          4,
          4,
          4,
          4,
          4,
          4,
          8,
          8,
          8,
          8,
          10,
          10,
          10,
          10,
          10,
          10,
          1,
          1,
          1,
          1,
          1,
          1,
          1,
          1,
          1,
          4,
          4,
          4,
          4,
          4,
          4,
          8,
          8,
          8,
          8,
          8,
          8,
          10,
          10,
          10,
          10,
          10,
          10,
          1,
          1,
          1,
          1,
          1,
          4,
          4,
          4,
          4,
          4,
          4,
          8,
          8,
          8,
          8,
          8,
          8,
          10,
          10,
          10,
          10,
          10,
          10,
          1,
          1,
          1,
          1,
          1,
          1,
          4,
          4,
          4,
          4,
          4,
          4,
          8,
          8,
          8,
          8,
          8,
          8,
          10,
          10,
          10,
          10,
          10,
          10,
          1,
          1,
          1,
          1,
          1,
          1,
          4,
          4,
          4,
          4,
          4,
          4,
          8,
          8,
          8,
          8,
          8,
          8,
          10,
          10,
          10,
          10,
          10,
          10,
          1,
          1,
          1,
          1,
          1,
          1,
          4,
          4,
          4,
          4,
          4,
          4,
          1,
          1,
          1,
          1,
          1,
          1,
          4,
          4,
          4,
          4,
          4,
          4,
          8,
          8,
          8,
          8,
          8,
          8,
          10,
          10,
          10,
          10,
          10,
          10,
          1,
          1,
          1,
          1,
          1,
          1,
          4,
          4,
          4,
          4,
          4,
          4,
          8,
          8,
          8,
          8,
          8,
          8,
          10,
          10,
          10,
          10,
          10,
          10,
          1,
          1,
          1,
          1,
          1,
          1,
          4,
          4,
          4,
          4,
          4,
          4,
          8,
          8,
          8,
          8,
          8,
          8,
          10,
          10,
          10,
          10,
          10,
          10,
          1,
          1,
          1,
          1,
          1,
          1,
          4,
          4,
          4,
          4,
          4,
          4,
          8,
          8,
          8,
          8,
          8,
          8,
          10,
          10,
          10,
          10,
          10,
          10,
          4,
          4,
          4,
          4,
          4,
          4,
          4,
          1,
          1,
          1,
          1,
          1,
          1,
          2,
          2,
          2,
          2,
          2,
          2,
          3,
          3,
          3,
          3,
          3,
          3,
          4,
          4,
          4,
          4,
          4,
          4,
          5,
          5,
          5,
          5,
          5,
          5,
          6,
          6,
          6,
          6,
          6,
          6,
          7,
          7,
          7,
          7,
          7,
          7,
          8,
          8,
          8,
          8,
          8,
          8,
          9,
          9,
          9,
          9,
          9,
          9,
          10,
          10,
          10,
          10,
          10,
          10,
          1,
          1,
          1,
          1,
          1,
          1,
          1,
          4,
          4,
          4,
          4,
          4,
          4,
          8,
          8,
          8,
          8,
          8,
          8,
          10,
          10,
          10,
          10,
          10,
          10,
          1,
          1,
          1,
          1,
          1,
          1,
          4,
          4,
          4,
          4,
          4,
          4,
          8,
          8,
          8,
          8,
          8,
          8,
          10,
          10,
          10,
          10,
          10,
          10,
          4,
          4,
          4,
          4,
          4,
          4,
          4,
          7,
          7,
          5,
          5,
          5,
          5,
          4,
          4,
          4,
          4,
          4,
          4,
          4,
          4,
          4,
          4,
          4,
          4,
          4,
          4,
          6,
          4,
          10,
          5,
          4
         ],
         "xaxis": "x",
         "y": [
          454780.5714285714,
          450124.6060606061,
          448336.3190883191,
          448060.6817496229,
          448001.0745044429,
          447980.1855950301,
          560667.4285714285,
          554798.9090909091,
          552676.3532763533,
          552303.2277526396,
          552253.071770335,
          552178.9850514464,
          61555.42857142857,
          60920.84848484849,
          60679.77207977208,
          60639.3604826546,
          60630.772385509226,
          60628.14210832848,
          323015.2380952381,
          319702.1818181818,
          318456.5242165242,
          318244.9894419306,
          318202.67669172934,
          318187.9945641623,
          617021.7142857143,
          610590.1818181818,
          608094.5868945869,
          607654.5882352941,
          607644.038277512,
          607590.942341293,
          768103.619047619,
          760060.7272727273,
          756961.8233618233,
          756443.4690799396,
          756412.7928913193,
          55212.57142857143,
          54677.454545454544,
          54465.02564102564,
          54429.58069381599,
          54421.96035543404,
          54419.6808386721,
          421552,
          417364.8484848485,
          415775.7720797721,
          415481.9728506787,
          415476.17498291185,
          415433.3884682586,
          1478808,
          1464538.7878787878,
          1459132.1937321937,
          1458212.0663650075,
          1457982.2665755297,
          2203641.904761905,
          2173915.4643874643,
          2172525.2428355957,
          22024.380952380954,
          21838.909090909092,
          21744.250712250712,
          21756.923076923078,
          21730.02870813397,
          21753.44437973209,
          62635.04761904762,
          62049.69696969697,
          61803.304843304846,
          61766.20814479638,
          61758.23376623377,
          61779.83925451369,
          114374.85714285714,
          113299.15151515152,
          112924.2621082621,
          112843.13055365687,
          138896,
          137608.36363636365,
          137096.7977207977,
          137014.50377073907,
          137021.61585782637,
          137040.02950883325,
          28340.95238095238,
          28081.575757575756,
          27982.814814814814,
          35872.380952380954,
          35515.27272727273,
          35413.1282051282,
          35392.343891402714,
          35387.58441558442,
          35386.32809163269,
          194027.80952380953,
          192094.9090909091,
          191313.7094017094,
          191213.56259426847,
          191236.45386192756,
          191179.90914385556,
          626243.0476190476,
          620113.696969697,
          617756.170940171,
          617335.6138763197,
          617280.8667122351,
          617229.1609396234,
          931190.8571428572,
          921992,
          918564.7407407408,
          917925.6772247361,
          917856.6206425154,
          917791.1830712483,
          28340.95238095238,
          27982.814814814814,
          27966.648567119155,
          27962.810663021188,
          27961.89322461658,
          106758.09523809524,
          105699.27272727272,
          105330.82621082621,
          105264.65761689292,
          105250.97470950102,
          105222.53077072413,
          196748.57142857142,
          194792.12121212122,
          194027.50997150998,
          193878.02111613876,
          193924.66438824334,
          193916.028732285,
          241518.47619047618,
          239103.15151515152,
          238187.82905982906,
          238056.69381598794,
          238001.48462064253,
          238014.7792661619,
          48641.142857142855,
          48155.63636363636,
          47970.689458689456,
          47939.91553544495,
          47933.203007518794,
          47931.24752475248,
          229726.85714285713,
          227314.54545454544,
          226433.66381766382,
          226256.10859728506,
          226225.23581681476,
          226214.63638128518,
          354810.28571428574,
          351704.6060606061,
          350508.8319088319,
          350281.9426847662,
          350217.3014354067,
          350203.2071442438,
          440288.38095238095,
          436330.42424242425,
          434895.5213675214,
          434571.5113122172,
          434545.2822966507,
          434551.74529217626,
          61553.90476190476,
          60896.121212121216,
          60679.54415954416,
          60639.34238310709,
          60606.73684210526,
          60628.12968355659,
          237112.38095238095,
          234827.39393939395,
          234028.2621082621,
          233884.55505279035,
          233855.63636363635,
          233845.70918268297,
          480495.2380952381,
          476138.0606060606,
          474462.4273504274,
          474181.77978883864,
          474149.95215311006,
          474130.3948747816,
          595520.7619047619,
          590079.0303030303,
          588027.1225071225,
          587702.4374057315,
          587561.093643199,
          587560.7190836731,
          48613.333333333336,
          48129.93939393939,
          47946.43874643875,
          47939.86123680241,
          47933.17566643882,
          47907.23199378762,
          175824.38095238095,
          174164,
          173543.56695156696,
          173462.61236802413,
          173417.3069036227,
          173410.12152980003,
          21996.95238095238,
          21837.939393939392,
          21768.091168091167,
          21756.88084464555,
          21754.012303485986,
          21753.435061153174,
          53362.666666666664,
          52930.06060606061,
          52717.94871794872,
          52714.654600301656,
          52732.63704716336,
          52706.92137449039,
          92761.52380952382,
          92062.18181818182,
          91753.66381766382,
          91730.02111613876,
          91695.96992481203,
          91692.82547078237,
          115910.47619047618,
          114952.84848484848,
          114679.84045584046,
          114597.7435897436,
          114609.65413533835,
          114581.76975344593,
          25180.190476190477,
          24935.272727272728,
          24875.327635327634,
          24861.7556561086,
          24858.403280929597,
          24857.66026014366,
          72535.61904761905,
          71952.84848484848,
          71731.28205128205,
          71694.17194570135,
          71686.22556390977,
          71683.82993593477,
          134203.04761904763,
          133178.30303030304,
          132756.14814814815,
          132713.01357466064,
          132651.13055365687,
          132646.6239565133,
          163683.42857142858,
          162399.87878787878,
          161888.72934472933,
          161830.45550527904,
          161813.5939849624,
          161808.01553096485,
          35873.90476190476,
          35540.121212121216,
          35389.19658119658,
          35368.38009049774,
          35363.587149692416,
          35362.33275092215,
          132699.42857142858,
          131690.66666666666,
          131274.5527065527,
          131232.59728506787,
          131194.94463431305,
          131190.5214521452,
          248490.66666666666,
          246559.27272727274,
          245771.32763532765,
          245597.94871794872,
          245644.62884483938,
          245636.00698893418,
          306483.04761904763,
          303997.9393939394,
          303155.53276353277,
          302952.6515837104,
          302921.44360902254,
          302982.7590759076,
          42191.23809523809,
          41782.90909090909,
          41627.78347578348,
          41578.09954751131,
          41596.377306903625,
          41594.77383032421,
          170586.66666666666,
          169254.30303030304,
          168773.08262108263,
          168663.57767722473,
          168694.1079972659,
          168688.31683168316,
          324060.5714285714,
          321536.7272727273,
          320519.90883190883,
          320427.92760180996,
          320322.95830485306,
          320383.6148320715,
          413214.85714285716,
          410098.9090909091,
          408877.49287749286,
          408650.0633484163,
          408681.35885167465,
          408667.2413123665,
          53420,
          51833.52380952381,
          51401.57575757576,
          51257.48917748918,
          51186.636500754146,
          51204.612440191384,
          51202.91360900796,
          28336.761904761905,
          28080,
          27982.495726495727,
          27966.582202111615,
          27938.777853725223,
          27961.871481265774,
          51522.28571428572,
          51024.48484848485,
          50787.692307692305,
          50804.187028657616,
          50797.312371838685,
          50795.32207338381,
          81324.19047619047,
          80495.0303030303,
          80190.35897435897,
          80139.28808446456,
          80152.51674641148,
          80149.14540865851,
          122013.33333333333,
          120807.75757575757,
          120359.81766381767,
          120308.11463046758,
          120292.52221462748,
          120287.40827023878,
          167064,
          165476.12121212122,
          164831.7264957265,
          164726.66063348416,
          164705.30963773068,
          164722.12152980003,
          220994.2857142857,
          218875.39393939395,
          218054.15384615384,
          217938.92006033182,
          217886.8954203691,
          217853.29605901768,
          280840,
          278045.3333333333,
          277043.35042735044,
          276816.9592760181,
          276781.25768967875,
          276816.92719860224,
          362911.2380952381,
          359483.2727272727,
          358198.9287749288,
          357952.79638009047,
          357884.4210526316,
          357916.97301494854,
          439121.90476190473,
          434932.48484848486,
          433289.4131054131,
          433042.43137254904,
          432964.4128503076,
          432921.5235876529,
          521695.61904761905,
          516679.51515151514,
          514746.46153846156,
          514421.7496229261,
          514405.1401230349,
          514358.48262473306,
          35872.380952380954,
          22019.428571428572,
          21837.333333333332,
          21767.954415954417,
          21732.84464555053,
          21753.993164730007,
          21753.42884876723,
          51833.52380952381,
          51401.57575757576,
          51213.78917378918,
          51186.636500754146,
          51204.612440191384,
          51202.91360900796,
          91283.80952380953,
          90509.45454545454,
          90225.7094017094,
          90154.00904977375,
          90167.95078605606,
          90188.81925839643,
          114382.09523809524,
          113424.12121212122,
          113103.7264957265,
          113045.74962292609,
          113033.64046479836,
          113053.7728596389,
          28288.761904761905,
          28080.121212121212,
          27982.495726495727,
          27966.58823529412,
          27962.775119617225,
          27961.87303436226,
          82113.14285714286,
          81382.06060606061,
          81104.2735042735,
          81033.61689291101,
          80999.78400546822,
          81020.71520093185,
          156470.09523809524,
          155095.27272727274,
          154558.5185185185,
          154495.98793363498,
          154478.30485304169,
          154472.41312366532,
          192244.95238095237,
          190511.27272727274,
          189953.66381766382,
          189823.2036199095,
          189801.56390977444,
          189794.26441467676,
          64560,
          65992,
          55613.333333333336,
          52061.86666666667,
          51675.71428571428,
          51401.57575757576,
          53420,
          149677.33333333334,
          149677.33333333334,
          127343.9099204038,
          93280,
          93280,
          93280,
          132434.66666666666,
          51213.78917378918,
          120287.40827023878,
          52735.767795087115,
          132434.66666666666,
          81041.87576966651,
          120359.81766381767,
          52711.47477503245,
          132434.66666666666,
          51213.78917378918,
          52714.654600301656,
          51177.419043396876,
          105222.53077072413,
          132434.66666666666,
          71425.6617900596,
          191195.6971577755,
          267427.80626780627,
          127343.9099204038,
          191195.6971577755
         ],
         "yaxis": "y"
        }
       ],
       "layout": {
        "coloraxis": {
         "colorbar": {
          "title": {
           "text": "color"
          }
         },
         "colorscale": [
          [
           0,
           "#0d0887"
          ],
          [
           0.1111111111111111,
           "#46039f"
          ],
          [
           0.2222222222222222,
           "#7201a8"
          ],
          [
           0.3333333333333333,
           "#9c179e"
          ],
          [
           0.4444444444444444,
           "#bd3786"
          ],
          [
           0.5555555555555556,
           "#d8576b"
          ],
          [
           0.6666666666666666,
           "#ed7953"
          ],
          [
           0.7777777777777778,
           "#fb9f3a"
          ],
          [
           0.8888888888888888,
           "#fdca26"
          ],
          [
           1,
           "#f0f921"
          ]
         ]
        },
        "legend": {
         "tracegroupgap": 0
        },
        "margin": {
         "t": 60
        },
        "template": {
         "data": {
          "bar": [
           {
            "error_x": {
             "color": "#2a3f5f"
            },
            "error_y": {
             "color": "#2a3f5f"
            },
            "marker": {
             "line": {
              "color": "#E5ECF6",
              "width": 0.5
             },
             "pattern": {
              "fillmode": "overlay",
              "size": 10,
              "solidity": 0.2
             }
            },
            "type": "bar"
           }
          ],
          "barpolar": [
           {
            "marker": {
             "line": {
              "color": "#E5ECF6",
              "width": 0.5
             },
             "pattern": {
              "fillmode": "overlay",
              "size": 10,
              "solidity": 0.2
             }
            },
            "type": "barpolar"
           }
          ],
          "carpet": [
           {
            "aaxis": {
             "endlinecolor": "#2a3f5f",
             "gridcolor": "white",
             "linecolor": "white",
             "minorgridcolor": "white",
             "startlinecolor": "#2a3f5f"
            },
            "baxis": {
             "endlinecolor": "#2a3f5f",
             "gridcolor": "white",
             "linecolor": "white",
             "minorgridcolor": "white",
             "startlinecolor": "#2a3f5f"
            },
            "type": "carpet"
           }
          ],
          "choropleth": [
           {
            "colorbar": {
             "outlinewidth": 0,
             "ticks": ""
            },
            "type": "choropleth"
           }
          ],
          "contour": [
           {
            "colorbar": {
             "outlinewidth": 0,
             "ticks": ""
            },
            "colorscale": [
             [
              0,
              "#0d0887"
             ],
             [
              0.1111111111111111,
              "#46039f"
             ],
             [
              0.2222222222222222,
              "#7201a8"
             ],
             [
              0.3333333333333333,
              "#9c179e"
             ],
             [
              0.4444444444444444,
              "#bd3786"
             ],
             [
              0.5555555555555556,
              "#d8576b"
             ],
             [
              0.6666666666666666,
              "#ed7953"
             ],
             [
              0.7777777777777778,
              "#fb9f3a"
             ],
             [
              0.8888888888888888,
              "#fdca26"
             ],
             [
              1,
              "#f0f921"
             ]
            ],
            "type": "contour"
           }
          ],
          "contourcarpet": [
           {
            "colorbar": {
             "outlinewidth": 0,
             "ticks": ""
            },
            "type": "contourcarpet"
           }
          ],
          "heatmap": [
           {
            "colorbar": {
             "outlinewidth": 0,
             "ticks": ""
            },
            "colorscale": [
             [
              0,
              "#0d0887"
             ],
             [
              0.1111111111111111,
              "#46039f"
             ],
             [
              0.2222222222222222,
              "#7201a8"
             ],
             [
              0.3333333333333333,
              "#9c179e"
             ],
             [
              0.4444444444444444,
              "#bd3786"
             ],
             [
              0.5555555555555556,
              "#d8576b"
             ],
             [
              0.6666666666666666,
              "#ed7953"
             ],
             [
              0.7777777777777778,
              "#fb9f3a"
             ],
             [
              0.8888888888888888,
              "#fdca26"
             ],
             [
              1,
              "#f0f921"
             ]
            ],
            "type": "heatmap"
           }
          ],
          "heatmapgl": [
           {
            "colorbar": {
             "outlinewidth": 0,
             "ticks": ""
            },
            "colorscale": [
             [
              0,
              "#0d0887"
             ],
             [
              0.1111111111111111,
              "#46039f"
             ],
             [
              0.2222222222222222,
              "#7201a8"
             ],
             [
              0.3333333333333333,
              "#9c179e"
             ],
             [
              0.4444444444444444,
              "#bd3786"
             ],
             [
              0.5555555555555556,
              "#d8576b"
             ],
             [
              0.6666666666666666,
              "#ed7953"
             ],
             [
              0.7777777777777778,
              "#fb9f3a"
             ],
             [
              0.8888888888888888,
              "#fdca26"
             ],
             [
              1,
              "#f0f921"
             ]
            ],
            "type": "heatmapgl"
           }
          ],
          "histogram": [
           {
            "marker": {
             "pattern": {
              "fillmode": "overlay",
              "size": 10,
              "solidity": 0.2
             }
            },
            "type": "histogram"
           }
          ],
          "histogram2d": [
           {
            "colorbar": {
             "outlinewidth": 0,
             "ticks": ""
            },
            "colorscale": [
             [
              0,
              "#0d0887"
             ],
             [
              0.1111111111111111,
              "#46039f"
             ],
             [
              0.2222222222222222,
              "#7201a8"
             ],
             [
              0.3333333333333333,
              "#9c179e"
             ],
             [
              0.4444444444444444,
              "#bd3786"
             ],
             [
              0.5555555555555556,
              "#d8576b"
             ],
             [
              0.6666666666666666,
              "#ed7953"
             ],
             [
              0.7777777777777778,
              "#fb9f3a"
             ],
             [
              0.8888888888888888,
              "#fdca26"
             ],
             [
              1,
              "#f0f921"
             ]
            ],
            "type": "histogram2d"
           }
          ],
          "histogram2dcontour": [
           {
            "colorbar": {
             "outlinewidth": 0,
             "ticks": ""
            },
            "colorscale": [
             [
              0,
              "#0d0887"
             ],
             [
              0.1111111111111111,
              "#46039f"
             ],
             [
              0.2222222222222222,
              "#7201a8"
             ],
             [
              0.3333333333333333,
              "#9c179e"
             ],
             [
              0.4444444444444444,
              "#bd3786"
             ],
             [
              0.5555555555555556,
              "#d8576b"
             ],
             [
              0.6666666666666666,
              "#ed7953"
             ],
             [
              0.7777777777777778,
              "#fb9f3a"
             ],
             [
              0.8888888888888888,
              "#fdca26"
             ],
             [
              1,
              "#f0f921"
             ]
            ],
            "type": "histogram2dcontour"
           }
          ],
          "mesh3d": [
           {
            "colorbar": {
             "outlinewidth": 0,
             "ticks": ""
            },
            "type": "mesh3d"
           }
          ],
          "parcoords": [
           {
            "line": {
             "colorbar": {
              "outlinewidth": 0,
              "ticks": ""
             }
            },
            "type": "parcoords"
           }
          ],
          "pie": [
           {
            "automargin": true,
            "type": "pie"
           }
          ],
          "scatter": [
           {
            "fillpattern": {
             "fillmode": "overlay",
             "size": 10,
             "solidity": 0.2
            },
            "type": "scatter"
           }
          ],
          "scatter3d": [
           {
            "line": {
             "colorbar": {
              "outlinewidth": 0,
              "ticks": ""
             }
            },
            "marker": {
             "colorbar": {
              "outlinewidth": 0,
              "ticks": ""
             }
            },
            "type": "scatter3d"
           }
          ],
          "scattercarpet": [
           {
            "marker": {
             "colorbar": {
              "outlinewidth": 0,
              "ticks": ""
             }
            },
            "type": "scattercarpet"
           }
          ],
          "scattergeo": [
           {
            "marker": {
             "colorbar": {
              "outlinewidth": 0,
              "ticks": ""
             }
            },
            "type": "scattergeo"
           }
          ],
          "scattergl": [
           {
            "marker": {
             "colorbar": {
              "outlinewidth": 0,
              "ticks": ""
             }
            },
            "type": "scattergl"
           }
          ],
          "scattermapbox": [
           {
            "marker": {
             "colorbar": {
              "outlinewidth": 0,
              "ticks": ""
             }
            },
            "type": "scattermapbox"
           }
          ],
          "scatterpolar": [
           {
            "marker": {
             "colorbar": {
              "outlinewidth": 0,
              "ticks": ""
             }
            },
            "type": "scatterpolar"
           }
          ],
          "scatterpolargl": [
           {
            "marker": {
             "colorbar": {
              "outlinewidth": 0,
              "ticks": ""
             }
            },
            "type": "scatterpolargl"
           }
          ],
          "scatterternary": [
           {
            "marker": {
             "colorbar": {
              "outlinewidth": 0,
              "ticks": ""
             }
            },
            "type": "scatterternary"
           }
          ],
          "surface": [
           {
            "colorbar": {
             "outlinewidth": 0,
             "ticks": ""
            },
            "colorscale": [
             [
              0,
              "#0d0887"
             ],
             [
              0.1111111111111111,
              "#46039f"
             ],
             [
              0.2222222222222222,
              "#7201a8"
             ],
             [
              0.3333333333333333,
              "#9c179e"
             ],
             [
              0.4444444444444444,
              "#bd3786"
             ],
             [
              0.5555555555555556,
              "#d8576b"
             ],
             [
              0.6666666666666666,
              "#ed7953"
             ],
             [
              0.7777777777777778,
              "#fb9f3a"
             ],
             [
              0.8888888888888888,
              "#fdca26"
             ],
             [
              1,
              "#f0f921"
             ]
            ],
            "type": "surface"
           }
          ],
          "table": [
           {
            "cells": {
             "fill": {
              "color": "#EBF0F8"
             },
             "line": {
              "color": "white"
             }
            },
            "header": {
             "fill": {
              "color": "#C8D4E3"
             },
             "line": {
              "color": "white"
             }
            },
            "type": "table"
           }
          ]
         },
         "layout": {
          "annotationdefaults": {
           "arrowcolor": "#2a3f5f",
           "arrowhead": 0,
           "arrowwidth": 1
          },
          "autotypenumbers": "strict",
          "coloraxis": {
           "colorbar": {
            "outlinewidth": 0,
            "ticks": ""
           }
          },
          "colorscale": {
           "diverging": [
            [
             0,
             "#8e0152"
            ],
            [
             0.1,
             "#c51b7d"
            ],
            [
             0.2,
             "#de77ae"
            ],
            [
             0.3,
             "#f1b6da"
            ],
            [
             0.4,
             "#fde0ef"
            ],
            [
             0.5,
             "#f7f7f7"
            ],
            [
             0.6,
             "#e6f5d0"
            ],
            [
             0.7,
             "#b8e186"
            ],
            [
             0.8,
             "#7fbc41"
            ],
            [
             0.9,
             "#4d9221"
            ],
            [
             1,
             "#276419"
            ]
           ],
           "sequential": [
            [
             0,
             "#0d0887"
            ],
            [
             0.1111111111111111,
             "#46039f"
            ],
            [
             0.2222222222222222,
             "#7201a8"
            ],
            [
             0.3333333333333333,
             "#9c179e"
            ],
            [
             0.4444444444444444,
             "#bd3786"
            ],
            [
             0.5555555555555556,
             "#d8576b"
            ],
            [
             0.6666666666666666,
             "#ed7953"
            ],
            [
             0.7777777777777778,
             "#fb9f3a"
            ],
            [
             0.8888888888888888,
             "#fdca26"
            ],
            [
             1,
             "#f0f921"
            ]
           ],
           "sequentialminus": [
            [
             0,
             "#0d0887"
            ],
            [
             0.1111111111111111,
             "#46039f"
            ],
            [
             0.2222222222222222,
             "#7201a8"
            ],
            [
             0.3333333333333333,
             "#9c179e"
            ],
            [
             0.4444444444444444,
             "#bd3786"
            ],
            [
             0.5555555555555556,
             "#d8576b"
            ],
            [
             0.6666666666666666,
             "#ed7953"
            ],
            [
             0.7777777777777778,
             "#fb9f3a"
            ],
            [
             0.8888888888888888,
             "#fdca26"
            ],
            [
             1,
             "#f0f921"
            ]
           ]
          },
          "colorway": [
           "#636efa",
           "#EF553B",
           "#00cc96",
           "#ab63fa",
           "#FFA15A",
           "#19d3f3",
           "#FF6692",
           "#B6E880",
           "#FF97FF",
           "#FECB52"
          ],
          "font": {
           "color": "#2a3f5f"
          },
          "geo": {
           "bgcolor": "white",
           "lakecolor": "white",
           "landcolor": "#E5ECF6",
           "showlakes": true,
           "showland": true,
           "subunitcolor": "white"
          },
          "hoverlabel": {
           "align": "left"
          },
          "hovermode": "closest",
          "mapbox": {
           "style": "light"
          },
          "paper_bgcolor": "white",
          "plot_bgcolor": "#E5ECF6",
          "polar": {
           "angularaxis": {
            "gridcolor": "white",
            "linecolor": "white",
            "ticks": ""
           },
           "bgcolor": "#E5ECF6",
           "radialaxis": {
            "gridcolor": "white",
            "linecolor": "white",
            "ticks": ""
           }
          },
          "scene": {
           "xaxis": {
            "backgroundcolor": "#E5ECF6",
            "gridcolor": "white",
            "gridwidth": 2,
            "linecolor": "white",
            "showbackground": true,
            "ticks": "",
            "zerolinecolor": "white"
           },
           "yaxis": {
            "backgroundcolor": "#E5ECF6",
            "gridcolor": "white",
            "gridwidth": 2,
            "linecolor": "white",
            "showbackground": true,
            "ticks": "",
            "zerolinecolor": "white"
           },
           "zaxis": {
            "backgroundcolor": "#E5ECF6",
            "gridcolor": "white",
            "gridwidth": 2,
            "linecolor": "white",
            "showbackground": true,
            "ticks": "",
            "zerolinecolor": "white"
           }
          },
          "shapedefaults": {
           "line": {
            "color": "#2a3f5f"
           }
          },
          "ternary": {
           "aaxis": {
            "gridcolor": "white",
            "linecolor": "white",
            "ticks": ""
           },
           "baxis": {
            "gridcolor": "white",
            "linecolor": "white",
            "ticks": ""
           },
           "bgcolor": "#E5ECF6",
           "caxis": {
            "gridcolor": "white",
            "linecolor": "white",
            "ticks": ""
           }
          },
          "title": {
           "x": 0.05
          },
          "xaxis": {
           "automargin": true,
           "gridcolor": "white",
           "linecolor": "white",
           "ticks": "",
           "title": {
            "standoff": 15
           },
           "zerolinecolor": "white",
           "zerolinewidth": 2
          },
          "yaxis": {
           "automargin": true,
           "gridcolor": "white",
           "linecolor": "white",
           "ticks": "",
           "title": {
            "standoff": 15
           },
           "zerolinecolor": "white",
           "zerolinewidth": 2
          }
         }
        },
        "title": {
         "text": "Payload per 1 circuit - All layer"
        },
        "xaxis": {
         "anchor": "y",
         "domain": [
          0,
          1
         ],
         "title": {
          "text": "# qubits"
         }
        },
        "yaxis": {
         "anchor": "x",
         "domain": [
          0,
          1
         ],
         "title": {
          "text": "Payload for 1 circuit (byte)"
         }
        }
       }
      },
      "text/html": [
       "<div>                            <div id=\"3d605fe9-e93e-40d0-b970-8a42122ccf15\" class=\"plotly-graph-div\" style=\"height:525px; width:100%;\"></div>            <script type=\"text/javascript\">                require([\"plotly\"], function(Plotly) {                    window.PLOTLYENV=window.PLOTLYENV || {};                                    if (document.getElementById(\"3d605fe9-e93e-40d0-b970-8a42122ccf15\")) {                    Plotly.newPlot(                        \"3d605fe9-e93e-40d0-b970-8a42122ccf15\",                        [{\"hovertemplate\":\"x=%{x}<br>y=%{y}<br>color=%{marker.color}<extra></extra>\",\"legendgroup\":\"\",\"marker\":{\"color\":[5,5,5,5,5,5,5,5,5,5,5,5,7,7,7,7,7,7,7,7,7,7,7,7,7,7,7,7,7,7,7,7,7,7,7,5,5,5,5,5,5,5,5,5,5,5,5,5,5,5,5,5,5,5,5,1,1,1,1,1,1,1,1,1,1,1,1,1,1,1,1,1,1,1,1,1,1,2,2,2,2,2,2,2,2,2,2,2,2,2,2,2,2,2,2,2,2,2,2,2,2,2,2,2,2,2,2,2,2,2,2,2,2,2,2,2,2,2,2,2,2,2,2,2,2,2,2,5,5,5,5,5,5,5,5,5,5,5,5,5,5,5,5,5,5,5,5,5,5,5,5,7,7,7,7,7,7,7,7,7,7,7,7,7,7,7,7,7,7,7,7,7,7,7,7,5,5,5,5,5,5,5,5,5,5,5,5,1,1,1,1,1,1,1,1,1,1,1,1,1,1,1,1,1,1,1,1,1,1,1,1,2,2,2,2,2,2,2,2,2,2,2,2,2,2,2,2,2,2,2,2,2,2,2,2,5,5,5,5,5,5,5,5,5,5,5,5,5,5,5,5,5,5,5,5,5,5,5,5,7,7,7,7,7,7,7,7,7,7,7,7,7,7,7,7,7,7,7,7,7,7,7,7,1,1,1,1,1,1,1,1,1,1,1,1,1,1,1,1,1,1,1,1,1,1,1,1,1,1,1,1,1,1,1,1,1,1,1,1,1,1,1,1,1,1,1,1,1,1,1,1,1,1,1,1,1,1,1,1,1,1,1,1,1,1,1,1,1,1,1,2,1,1,1,1,1,1,1,1,1,1,1,1,1,1,1,1,1,1,1,1,1,1,1,1,2,2,2,2,2,2,2,2,2,2,2,2,2,2,2,2,2,2,2,2,2,2,2,2,1,1,1,1,1,1,1,2,2,2,2,2,2,1,1,1,1,1,2,1,1,1,1,1,1,2,1,1,2,3,2,2],\"coloraxis\":\"coloraxis\",\"symbol\":\"circle\",\"size\":8},\"mode\":\"markers\",\"name\":\"\",\"orientation\":\"v\",\"showlegend\":false,\"x\":[8,8,8,8,8,8,10,10,10,10,10,10,1,1,1,1,1,1,4,4,4,4,4,4,8,8,8,8,8,8,10,10,10,10,10,1,1,1,1,1,1,4,4,4,4,4,4,8,8,8,8,8,10,10,10,1,1,1,1,1,1,4,4,4,4,4,4,8,8,8,8,10,10,10,10,10,10,1,1,1,1,1,1,1,1,1,4,4,4,4,4,4,8,8,8,8,8,8,10,10,10,10,10,10,1,1,1,1,1,4,4,4,4,4,4,8,8,8,8,8,8,10,10,10,10,10,10,1,1,1,1,1,1,4,4,4,4,4,4,8,8,8,8,8,8,10,10,10,10,10,10,1,1,1,1,1,1,4,4,4,4,4,4,8,8,8,8,8,8,10,10,10,10,10,10,1,1,1,1,1,1,4,4,4,4,4,4,1,1,1,1,1,1,4,4,4,4,4,4,8,8,8,8,8,8,10,10,10,10,10,10,1,1,1,1,1,1,4,4,4,4,4,4,8,8,8,8,8,8,10,10,10,10,10,10,1,1,1,1,1,1,4,4,4,4,4,4,8,8,8,8,8,8,10,10,10,10,10,10,1,1,1,1,1,1,4,4,4,4,4,4,8,8,8,8,8,8,10,10,10,10,10,10,4,4,4,4,4,4,4,1,1,1,1,1,1,2,2,2,2,2,2,3,3,3,3,3,3,4,4,4,4,4,4,5,5,5,5,5,5,6,6,6,6,6,6,7,7,7,7,7,7,8,8,8,8,8,8,9,9,9,9,9,9,10,10,10,10,10,10,1,1,1,1,1,1,1,4,4,4,4,4,4,8,8,8,8,8,8,10,10,10,10,10,10,1,1,1,1,1,1,4,4,4,4,4,4,8,8,8,8,8,8,10,10,10,10,10,10,4,4,4,4,4,4,4,7,7,5,5,5,5,4,4,4,4,4,4,4,4,4,4,4,4,4,4,6,4,10,5,4],\"xaxis\":\"x\",\"y\":[454780.5714285714,450124.6060606061,448336.3190883191,448060.6817496229,448001.0745044429,447980.1855950301,560667.4285714285,554798.9090909091,552676.3532763533,552303.2277526396,552253.071770335,552178.9850514464,61555.42857142857,60920.84848484849,60679.77207977208,60639.3604826546,60630.772385509226,60628.14210832848,323015.2380952381,319702.1818181818,318456.5242165242,318244.9894419306,318202.67669172934,318187.9945641623,617021.7142857143,610590.1818181818,608094.5868945869,607654.5882352941,607644.038277512,607590.942341293,768103.619047619,760060.7272727273,756961.8233618233,756443.4690799396,756412.7928913193,55212.57142857143,54677.454545454544,54465.02564102564,54429.58069381599,54421.96035543404,54419.6808386721,421552.0,417364.8484848485,415775.7720797721,415481.9728506787,415476.17498291185,415433.3884682586,1478808.0,1464538.7878787878,1459132.1937321937,1458212.0663650075,1457982.2665755297,2203641.904761905,2173915.4643874643,2172525.2428355957,22024.380952380954,21838.909090909092,21744.250712250712,21756.923076923078,21730.02870813397,21753.44437973209,62635.04761904762,62049.69696969697,61803.304843304846,61766.20814479638,61758.23376623377,61779.83925451369,114374.85714285714,113299.15151515152,112924.2621082621,112843.13055365687,138896.0,137608.36363636365,137096.7977207977,137014.50377073907,137021.61585782637,137040.02950883325,28340.95238095238,28081.575757575756,27982.814814814814,35872.380952380954,35515.27272727273,35413.1282051282,35392.343891402714,35387.58441558442,35386.32809163269,194027.80952380953,192094.9090909091,191313.7094017094,191213.56259426847,191236.45386192756,191179.90914385556,626243.0476190476,620113.696969697,617756.170940171,617335.6138763197,617280.8667122351,617229.1609396234,931190.8571428572,921992.0,918564.7407407408,917925.6772247361,917856.6206425154,917791.1830712483,28340.95238095238,27982.814814814814,27966.648567119155,27962.810663021188,27961.89322461658,106758.09523809524,105699.27272727272,105330.82621082621,105264.65761689292,105250.97470950102,105222.53077072413,196748.57142857142,194792.12121212122,194027.50997150998,193878.02111613876,193924.66438824334,193916.028732285,241518.47619047618,239103.15151515152,238187.82905982906,238056.69381598794,238001.48462064253,238014.7792661619,48641.142857142855,48155.63636363636,47970.689458689456,47939.91553544495,47933.203007518794,47931.24752475248,229726.85714285713,227314.54545454544,226433.66381766382,226256.10859728506,226225.23581681476,226214.63638128518,354810.28571428574,351704.6060606061,350508.8319088319,350281.9426847662,350217.3014354067,350203.2071442438,440288.38095238095,436330.42424242425,434895.5213675214,434571.5113122172,434545.2822966507,434551.74529217626,61553.90476190476,60896.121212121216,60679.54415954416,60639.34238310709,60606.73684210526,60628.12968355659,237112.38095238095,234827.39393939395,234028.2621082621,233884.55505279035,233855.63636363635,233845.70918268297,480495.2380952381,476138.0606060606,474462.4273504274,474181.77978883864,474149.95215311006,474130.3948747816,595520.7619047619,590079.0303030303,588027.1225071225,587702.4374057315,587561.093643199,587560.7190836731,48613.333333333336,48129.93939393939,47946.43874643875,47939.86123680241,47933.17566643882,47907.23199378762,175824.38095238095,174164.0,173543.56695156696,173462.61236802413,173417.3069036227,173410.12152980003,21996.95238095238,21837.939393939392,21768.091168091167,21756.88084464555,21754.012303485986,21753.435061153174,53362.666666666664,52930.06060606061,52717.94871794872,52714.654600301656,52732.63704716336,52706.92137449039,92761.52380952382,92062.18181818182,91753.66381766382,91730.02111613876,91695.96992481203,91692.82547078237,115910.47619047618,114952.84848484848,114679.84045584046,114597.7435897436,114609.65413533835,114581.76975344593,25180.190476190477,24935.272727272728,24875.327635327634,24861.7556561086,24858.403280929597,24857.66026014366,72535.61904761905,71952.84848484848,71731.28205128205,71694.17194570135,71686.22556390977,71683.82993593477,134203.04761904763,133178.30303030304,132756.14814814815,132713.01357466064,132651.13055365687,132646.6239565133,163683.42857142858,162399.87878787878,161888.72934472933,161830.45550527904,161813.5939849624,161808.01553096485,35873.90476190476,35540.121212121216,35389.19658119658,35368.38009049774,35363.587149692416,35362.33275092215,132699.42857142858,131690.66666666666,131274.5527065527,131232.59728506787,131194.94463431305,131190.5214521452,248490.66666666666,246559.27272727274,245771.32763532765,245597.94871794872,245644.62884483938,245636.00698893418,306483.04761904763,303997.9393939394,303155.53276353277,302952.6515837104,302921.44360902254,302982.7590759076,42191.23809523809,41782.90909090909,41627.78347578348,41578.09954751131,41596.377306903625,41594.77383032421,170586.66666666666,169254.30303030304,168773.08262108263,168663.57767722473,168694.1079972659,168688.31683168316,324060.5714285714,321536.7272727273,320519.90883190883,320427.92760180996,320322.95830485306,320383.6148320715,413214.85714285716,410098.9090909091,408877.49287749286,408650.0633484163,408681.35885167465,408667.2413123665,53420.0,51833.52380952381,51401.57575757576,51257.48917748918,51186.636500754146,51204.612440191384,51202.91360900796,28336.761904761905,28080.0,27982.495726495727,27966.582202111615,27938.777853725223,27961.871481265774,51522.28571428572,51024.48484848485,50787.692307692305,50804.187028657616,50797.312371838685,50795.32207338381,81324.19047619047,80495.0303030303,80190.35897435897,80139.28808446456,80152.51674641148,80149.14540865851,122013.33333333333,120807.75757575757,120359.81766381767,120308.11463046758,120292.52221462748,120287.40827023878,167064.0,165476.12121212122,164831.7264957265,164726.66063348416,164705.30963773068,164722.12152980003,220994.2857142857,218875.39393939395,218054.15384615384,217938.92006033182,217886.8954203691,217853.29605901768,280840.0,278045.3333333333,277043.35042735044,276816.9592760181,276781.25768967875,276816.92719860224,362911.2380952381,359483.2727272727,358198.9287749288,357952.79638009047,357884.4210526316,357916.97301494854,439121.90476190473,434932.48484848486,433289.4131054131,433042.43137254904,432964.4128503076,432921.5235876529,521695.61904761905,516679.51515151514,514746.46153846156,514421.7496229261,514405.1401230349,514358.48262473306,35872.380952380954,22019.428571428572,21837.333333333332,21767.954415954417,21732.84464555053,21753.993164730007,21753.42884876723,51833.52380952381,51401.57575757576,51213.78917378918,51186.636500754146,51204.612440191384,51202.91360900796,91283.80952380953,90509.45454545454,90225.7094017094,90154.00904977375,90167.95078605606,90188.81925839643,114382.09523809524,113424.12121212122,113103.7264957265,113045.74962292609,113033.64046479836,113053.7728596389,28288.761904761905,28080.121212121212,27982.495726495727,27966.58823529412,27962.775119617225,27961.87303436226,82113.14285714286,81382.06060606061,81104.2735042735,81033.61689291101,80999.78400546822,81020.71520093185,156470.09523809524,155095.27272727274,154558.5185185185,154495.98793363498,154478.30485304169,154472.41312366532,192244.95238095237,190511.27272727274,189953.66381766382,189823.2036199095,189801.56390977444,189794.26441467676,64560.0,65992.0,55613.333333333336,52061.86666666667,51675.71428571428,51401.57575757576,53420.0,149677.33333333334,149677.33333333334,127343.9099204038,93280.0,93280.0,93280.0,132434.66666666666,51213.78917378918,120287.40827023878,52735.767795087115,132434.66666666666,81041.87576966651,120359.81766381767,52711.47477503245,132434.66666666666,51213.78917378918,52714.654600301656,51177.419043396876,105222.53077072413,132434.66666666666,71425.6617900596,191195.6971577755,267427.80626780627,127343.9099204038,191195.6971577755],\"yaxis\":\"y\",\"type\":\"scatter\"}],                        {\"template\":{\"data\":{\"histogram2dcontour\":[{\"type\":\"histogram2dcontour\",\"colorbar\":{\"outlinewidth\":0,\"ticks\":\"\"},\"colorscale\":[[0.0,\"#0d0887\"],[0.1111111111111111,\"#46039f\"],[0.2222222222222222,\"#7201a8\"],[0.3333333333333333,\"#9c179e\"],[0.4444444444444444,\"#bd3786\"],[0.5555555555555556,\"#d8576b\"],[0.6666666666666666,\"#ed7953\"],[0.7777777777777778,\"#fb9f3a\"],[0.8888888888888888,\"#fdca26\"],[1.0,\"#f0f921\"]]}],\"choropleth\":[{\"type\":\"choropleth\",\"colorbar\":{\"outlinewidth\":0,\"ticks\":\"\"}}],\"histogram2d\":[{\"type\":\"histogram2d\",\"colorbar\":{\"outlinewidth\":0,\"ticks\":\"\"},\"colorscale\":[[0.0,\"#0d0887\"],[0.1111111111111111,\"#46039f\"],[0.2222222222222222,\"#7201a8\"],[0.3333333333333333,\"#9c179e\"],[0.4444444444444444,\"#bd3786\"],[0.5555555555555556,\"#d8576b\"],[0.6666666666666666,\"#ed7953\"],[0.7777777777777778,\"#fb9f3a\"],[0.8888888888888888,\"#fdca26\"],[1.0,\"#f0f921\"]]}],\"heatmap\":[{\"type\":\"heatmap\",\"colorbar\":{\"outlinewidth\":0,\"ticks\":\"\"},\"colorscale\":[[0.0,\"#0d0887\"],[0.1111111111111111,\"#46039f\"],[0.2222222222222222,\"#7201a8\"],[0.3333333333333333,\"#9c179e\"],[0.4444444444444444,\"#bd3786\"],[0.5555555555555556,\"#d8576b\"],[0.6666666666666666,\"#ed7953\"],[0.7777777777777778,\"#fb9f3a\"],[0.8888888888888888,\"#fdca26\"],[1.0,\"#f0f921\"]]}],\"heatmapgl\":[{\"type\":\"heatmapgl\",\"colorbar\":{\"outlinewidth\":0,\"ticks\":\"\"},\"colorscale\":[[0.0,\"#0d0887\"],[0.1111111111111111,\"#46039f\"],[0.2222222222222222,\"#7201a8\"],[0.3333333333333333,\"#9c179e\"],[0.4444444444444444,\"#bd3786\"],[0.5555555555555556,\"#d8576b\"],[0.6666666666666666,\"#ed7953\"],[0.7777777777777778,\"#fb9f3a\"],[0.8888888888888888,\"#fdca26\"],[1.0,\"#f0f921\"]]}],\"contourcarpet\":[{\"type\":\"contourcarpet\",\"colorbar\":{\"outlinewidth\":0,\"ticks\":\"\"}}],\"contour\":[{\"type\":\"contour\",\"colorbar\":{\"outlinewidth\":0,\"ticks\":\"\"},\"colorscale\":[[0.0,\"#0d0887\"],[0.1111111111111111,\"#46039f\"],[0.2222222222222222,\"#7201a8\"],[0.3333333333333333,\"#9c179e\"],[0.4444444444444444,\"#bd3786\"],[0.5555555555555556,\"#d8576b\"],[0.6666666666666666,\"#ed7953\"],[0.7777777777777778,\"#fb9f3a\"],[0.8888888888888888,\"#fdca26\"],[1.0,\"#f0f921\"]]}],\"surface\":[{\"type\":\"surface\",\"colorbar\":{\"outlinewidth\":0,\"ticks\":\"\"},\"colorscale\":[[0.0,\"#0d0887\"],[0.1111111111111111,\"#46039f\"],[0.2222222222222222,\"#7201a8\"],[0.3333333333333333,\"#9c179e\"],[0.4444444444444444,\"#bd3786\"],[0.5555555555555556,\"#d8576b\"],[0.6666666666666666,\"#ed7953\"],[0.7777777777777778,\"#fb9f3a\"],[0.8888888888888888,\"#fdca26\"],[1.0,\"#f0f921\"]]}],\"mesh3d\":[{\"type\":\"mesh3d\",\"colorbar\":{\"outlinewidth\":0,\"ticks\":\"\"}}],\"scatter\":[{\"fillpattern\":{\"fillmode\":\"overlay\",\"size\":10,\"solidity\":0.2},\"type\":\"scatter\"}],\"parcoords\":[{\"type\":\"parcoords\",\"line\":{\"colorbar\":{\"outlinewidth\":0,\"ticks\":\"\"}}}],\"scatterpolargl\":[{\"type\":\"scatterpolargl\",\"marker\":{\"colorbar\":{\"outlinewidth\":0,\"ticks\":\"\"}}}],\"bar\":[{\"error_x\":{\"color\":\"#2a3f5f\"},\"error_y\":{\"color\":\"#2a3f5f\"},\"marker\":{\"line\":{\"color\":\"#E5ECF6\",\"width\":0.5},\"pattern\":{\"fillmode\":\"overlay\",\"size\":10,\"solidity\":0.2}},\"type\":\"bar\"}],\"scattergeo\":[{\"type\":\"scattergeo\",\"marker\":{\"colorbar\":{\"outlinewidth\":0,\"ticks\":\"\"}}}],\"scatterpolar\":[{\"type\":\"scatterpolar\",\"marker\":{\"colorbar\":{\"outlinewidth\":0,\"ticks\":\"\"}}}],\"histogram\":[{\"marker\":{\"pattern\":{\"fillmode\":\"overlay\",\"size\":10,\"solidity\":0.2}},\"type\":\"histogram\"}],\"scattergl\":[{\"type\":\"scattergl\",\"marker\":{\"colorbar\":{\"outlinewidth\":0,\"ticks\":\"\"}}}],\"scatter3d\":[{\"type\":\"scatter3d\",\"line\":{\"colorbar\":{\"outlinewidth\":0,\"ticks\":\"\"}},\"marker\":{\"colorbar\":{\"outlinewidth\":0,\"ticks\":\"\"}}}],\"scattermapbox\":[{\"type\":\"scattermapbox\",\"marker\":{\"colorbar\":{\"outlinewidth\":0,\"ticks\":\"\"}}}],\"scatterternary\":[{\"type\":\"scatterternary\",\"marker\":{\"colorbar\":{\"outlinewidth\":0,\"ticks\":\"\"}}}],\"scattercarpet\":[{\"type\":\"scattercarpet\",\"marker\":{\"colorbar\":{\"outlinewidth\":0,\"ticks\":\"\"}}}],\"carpet\":[{\"aaxis\":{\"endlinecolor\":\"#2a3f5f\",\"gridcolor\":\"white\",\"linecolor\":\"white\",\"minorgridcolor\":\"white\",\"startlinecolor\":\"#2a3f5f\"},\"baxis\":{\"endlinecolor\":\"#2a3f5f\",\"gridcolor\":\"white\",\"linecolor\":\"white\",\"minorgridcolor\":\"white\",\"startlinecolor\":\"#2a3f5f\"},\"type\":\"carpet\"}],\"table\":[{\"cells\":{\"fill\":{\"color\":\"#EBF0F8\"},\"line\":{\"color\":\"white\"}},\"header\":{\"fill\":{\"color\":\"#C8D4E3\"},\"line\":{\"color\":\"white\"}},\"type\":\"table\"}],\"barpolar\":[{\"marker\":{\"line\":{\"color\":\"#E5ECF6\",\"width\":0.5},\"pattern\":{\"fillmode\":\"overlay\",\"size\":10,\"solidity\":0.2}},\"type\":\"barpolar\"}],\"pie\":[{\"automargin\":true,\"type\":\"pie\"}]},\"layout\":{\"autotypenumbers\":\"strict\",\"colorway\":[\"#636efa\",\"#EF553B\",\"#00cc96\",\"#ab63fa\",\"#FFA15A\",\"#19d3f3\",\"#FF6692\",\"#B6E880\",\"#FF97FF\",\"#FECB52\"],\"font\":{\"color\":\"#2a3f5f\"},\"hovermode\":\"closest\",\"hoverlabel\":{\"align\":\"left\"},\"paper_bgcolor\":\"white\",\"plot_bgcolor\":\"#E5ECF6\",\"polar\":{\"bgcolor\":\"#E5ECF6\",\"angularaxis\":{\"gridcolor\":\"white\",\"linecolor\":\"white\",\"ticks\":\"\"},\"radialaxis\":{\"gridcolor\":\"white\",\"linecolor\":\"white\",\"ticks\":\"\"}},\"ternary\":{\"bgcolor\":\"#E5ECF6\",\"aaxis\":{\"gridcolor\":\"white\",\"linecolor\":\"white\",\"ticks\":\"\"},\"baxis\":{\"gridcolor\":\"white\",\"linecolor\":\"white\",\"ticks\":\"\"},\"caxis\":{\"gridcolor\":\"white\",\"linecolor\":\"white\",\"ticks\":\"\"}},\"coloraxis\":{\"colorbar\":{\"outlinewidth\":0,\"ticks\":\"\"}},\"colorscale\":{\"sequential\":[[0.0,\"#0d0887\"],[0.1111111111111111,\"#46039f\"],[0.2222222222222222,\"#7201a8\"],[0.3333333333333333,\"#9c179e\"],[0.4444444444444444,\"#bd3786\"],[0.5555555555555556,\"#d8576b\"],[0.6666666666666666,\"#ed7953\"],[0.7777777777777778,\"#fb9f3a\"],[0.8888888888888888,\"#fdca26\"],[1.0,\"#f0f921\"]],\"sequentialminus\":[[0.0,\"#0d0887\"],[0.1111111111111111,\"#46039f\"],[0.2222222222222222,\"#7201a8\"],[0.3333333333333333,\"#9c179e\"],[0.4444444444444444,\"#bd3786\"],[0.5555555555555556,\"#d8576b\"],[0.6666666666666666,\"#ed7953\"],[0.7777777777777778,\"#fb9f3a\"],[0.8888888888888888,\"#fdca26\"],[1.0,\"#f0f921\"]],\"diverging\":[[0,\"#8e0152\"],[0.1,\"#c51b7d\"],[0.2,\"#de77ae\"],[0.3,\"#f1b6da\"],[0.4,\"#fde0ef\"],[0.5,\"#f7f7f7\"],[0.6,\"#e6f5d0\"],[0.7,\"#b8e186\"],[0.8,\"#7fbc41\"],[0.9,\"#4d9221\"],[1,\"#276419\"]]},\"xaxis\":{\"gridcolor\":\"white\",\"linecolor\":\"white\",\"ticks\":\"\",\"title\":{\"standoff\":15},\"zerolinecolor\":\"white\",\"automargin\":true,\"zerolinewidth\":2},\"yaxis\":{\"gridcolor\":\"white\",\"linecolor\":\"white\",\"ticks\":\"\",\"title\":{\"standoff\":15},\"zerolinecolor\":\"white\",\"automargin\":true,\"zerolinewidth\":2},\"scene\":{\"xaxis\":{\"backgroundcolor\":\"#E5ECF6\",\"gridcolor\":\"white\",\"linecolor\":\"white\",\"showbackground\":true,\"ticks\":\"\",\"zerolinecolor\":\"white\",\"gridwidth\":2},\"yaxis\":{\"backgroundcolor\":\"#E5ECF6\",\"gridcolor\":\"white\",\"linecolor\":\"white\",\"showbackground\":true,\"ticks\":\"\",\"zerolinecolor\":\"white\",\"gridwidth\":2},\"zaxis\":{\"backgroundcolor\":\"#E5ECF6\",\"gridcolor\":\"white\",\"linecolor\":\"white\",\"showbackground\":true,\"ticks\":\"\",\"zerolinecolor\":\"white\",\"gridwidth\":2}},\"shapedefaults\":{\"line\":{\"color\":\"#2a3f5f\"}},\"annotationdefaults\":{\"arrowcolor\":\"#2a3f5f\",\"arrowhead\":0,\"arrowwidth\":1},\"geo\":{\"bgcolor\":\"white\",\"landcolor\":\"#E5ECF6\",\"subunitcolor\":\"white\",\"showland\":true,\"showlakes\":true,\"lakecolor\":\"white\"},\"title\":{\"x\":0.05},\"mapbox\":{\"style\":\"light\"}}},\"xaxis\":{\"anchor\":\"y\",\"domain\":[0.0,1.0],\"title\":{\"text\":\"# qubits\"}},\"yaxis\":{\"anchor\":\"x\",\"domain\":[0.0,1.0],\"title\":{\"text\":\"Payload for 1 circuit (byte)\"}},\"coloraxis\":{\"colorbar\":{\"title\":{\"text\":\"color\"}},\"colorscale\":[[0.0,\"#0d0887\"],[0.1111111111111111,\"#46039f\"],[0.2222222222222222,\"#7201a8\"],[0.3333333333333333,\"#9c179e\"],[0.4444444444444444,\"#bd3786\"],[0.5555555555555556,\"#d8576b\"],[0.6666666666666666,\"#ed7953\"],[0.7777777777777778,\"#fb9f3a\"],[0.8888888888888888,\"#fdca26\"],[1.0,\"#f0f921\"]]},\"legend\":{\"tracegroupgap\":0},\"margin\":{\"t\":60},\"title\":{\"text\":\"Payload per 1 circuit - All layer\"}},                        {\"responsive\": true}                    ).then(function(){\n",
       "                            \n",
       "var gd = document.getElementById('3d605fe9-e93e-40d0-b970-8a42122ccf15');\n",
       "var x = new MutationObserver(function (mutations, observer) {{\n",
       "        var display = window.getComputedStyle(gd).display;\n",
       "        if (!display || display === 'none') {{\n",
       "            console.log([gd, 'removed!']);\n",
       "            Plotly.purge(gd);\n",
       "            observer.disconnect();\n",
       "        }}\n",
       "}});\n",
       "\n",
       "// Listen for the removal of the full notebook cells\n",
       "var notebookContainer = gd.closest('#notebook-container');\n",
       "if (notebookContainer) {{\n",
       "    x.observe(notebookContainer, {childList: true});\n",
       "}}\n",
       "\n",
       "// Listen for the clearing of the current output cell\n",
       "var outputEl = gd.closest('.output');\n",
       "if (outputEl) {{\n",
       "    x.observe(outputEl, {childList: true});\n",
       "}}\n",
       "\n",
       "                        })                };                });            </script>        </div>"
      ]
     },
     "metadata": {},
     "output_type": "display_data"
    }
   ],
   "source": [
    "list_layers = tele_file[\"layers\"].tolist()\n",
    "list_width = tele_file[\"width\"].tolist()\n",
    "list_payload_size = tele_file[\"payload_size\"].tolist()\n",
    "list_nb_circuits = tele_file[\"nb_circuits\"].tolist()\n",
    "\n",
    "payload_per_circuit = []\n",
    "for payload_size, nb_circuits in zip(list_payload_size, list_nb_circuits):\n",
    "    payload_per_circuit.append(float(payload_size/nb_circuits))\n",
    "    \n",
    "print(\"Size of dataframe : \", len(payload_per_circuit))\n",
    "\n",
    "\n",
    "fig = px.scatter(x=list_width, y=payload_per_circuit, color=list_layers)\n",
    "\n",
    "fig.update_traces(marker=dict(size=8))\n",
    "\n",
    "fig.update_layout(title_text='Payload per 1 circuit - All layer',\n",
    "                         xaxis_title=\"# qubits\", yaxis_title=\"Payload for 1 circuit (byte)\")\n",
    "\n",
    "interac_o_static(fig)"
   ]
  },
  {
   "cell_type": "markdown",
   "id": "00af3fab",
   "metadata": {},
   "source": [
    "### Payload vs number of circuits\n",
    "Look at payload size versus number of circuits. This tells us how payload size scales with the number of kernel values we're trying to calculate in 1 go."
   ]
  },
  {
   "cell_type": "code",
   "execution_count": 11,
   "id": "09598405",
   "metadata": {},
   "outputs": [
    {
     "name": "stdout",
     "output_type": "stream",
     "text": [
      "Size of dataframe :  431\n"
     ]
    },
    {
     "data": {
      "application/vnd.plotly.v1+json": {
       "config": {
        "plotlyServerURL": "https://plot.ly"
       },
       "data": [
        {
         "marker": {
          "color": "crimson",
          "size": 8
         },
         "mode": "markers",
         "type": "scatter",
         "x": [
          21,
          66,
          351,
          1326,
          2926,
          5151,
          21,
          66,
          351,
          1326,
          2926,
          5151,
          21,
          66,
          351,
          1326,
          2926,
          5151,
          21,
          66,
          351,
          1326,
          2926,
          5151,
          21,
          66,
          351,
          1326,
          2926,
          5151,
          21,
          66,
          351,
          1326,
          2926,
          21,
          66,
          351,
          1326,
          2926,
          5151,
          21,
          66,
          351,
          1326,
          2926,
          5151,
          21,
          66,
          351,
          1326,
          2926,
          21,
          351,
          1326,
          21,
          66,
          351,
          1326,
          2926,
          5151,
          21,
          66,
          351,
          1326,
          2926,
          5151,
          21,
          66,
          351,
          2926,
          21,
          66,
          351,
          1326,
          2926,
          5151,
          21,
          66,
          351,
          21,
          66,
          351,
          1326,
          2926,
          5151,
          21,
          66,
          351,
          1326,
          2926,
          5151,
          21,
          66,
          351,
          1326,
          2926,
          5151,
          21,
          66,
          351,
          1326,
          2926,
          5151,
          21,
          351,
          1326,
          2926,
          5151,
          21,
          66,
          351,
          1326,
          2926,
          5151,
          21,
          66,
          351,
          1326,
          2926,
          5151,
          21,
          66,
          351,
          1326,
          2926,
          5151,
          21,
          66,
          351,
          1326,
          2926,
          5151,
          21,
          66,
          351,
          1326,
          2926,
          5151,
          21,
          66,
          351,
          1326,
          2926,
          5151,
          21,
          66,
          351,
          1326,
          2926,
          5151,
          21,
          66,
          351,
          1326,
          2926,
          5151,
          21,
          66,
          351,
          1326,
          2926,
          5151,
          21,
          66,
          351,
          1326,
          2926,
          5151,
          21,
          66,
          351,
          1326,
          2926,
          5151,
          21,
          66,
          351,
          1326,
          2926,
          5151,
          21,
          66,
          351,
          1326,
          2926,
          5151,
          21,
          66,
          351,
          1326,
          2926,
          5151,
          21,
          66,
          351,
          1326,
          2926,
          5151,
          21,
          66,
          351,
          1326,
          2926,
          5151,
          21,
          66,
          351,
          1326,
          2926,
          5151,
          21,
          66,
          351,
          1326,
          2926,
          5151,
          21,
          66,
          351,
          1326,
          2926,
          5151,
          21,
          66,
          351,
          1326,
          2926,
          5151,
          21,
          66,
          351,
          1326,
          2926,
          5151,
          21,
          66,
          351,
          1326,
          2926,
          5151,
          21,
          66,
          351,
          1326,
          2926,
          5151,
          21,
          66,
          351,
          1326,
          2926,
          5151,
          21,
          66,
          351,
          1326,
          2926,
          5151,
          21,
          66,
          351,
          1326,
          2926,
          5151,
          21,
          66,
          351,
          1326,
          2926,
          5151,
          21,
          66,
          351,
          1326,
          2926,
          5151,
          21,
          66,
          351,
          1326,
          2926,
          5151,
          6,
          21,
          66,
          231,
          1326,
          2926,
          5151,
          21,
          66,
          351,
          1326,
          2926,
          5151,
          21,
          66,
          351,
          1326,
          2926,
          5151,
          21,
          66,
          351,
          1326,
          2926,
          5151,
          21,
          66,
          351,
          1326,
          2926,
          5151,
          21,
          66,
          351,
          1326,
          2926,
          5151,
          21,
          66,
          351,
          1326,
          2926,
          5151,
          21,
          66,
          351,
          1326,
          2926,
          5151,
          21,
          66,
          351,
          1326,
          2926,
          5151,
          21,
          66,
          351,
          1326,
          2926,
          5151,
          21,
          66,
          351,
          1326,
          2926,
          5151,
          21,
          21,
          66,
          351,
          1326,
          2926,
          5151,
          21,
          66,
          351,
          1326,
          2926,
          5151,
          21,
          66,
          351,
          1326,
          2926,
          5151,
          21,
          66,
          351,
          1326,
          2926,
          5151,
          21,
          66,
          351,
          1326,
          2926,
          5151,
          21,
          66,
          351,
          1326,
          2926,
          5151,
          21,
          66,
          351,
          1326,
          2926,
          5151,
          21,
          66,
          351,
          1326,
          2926,
          5151,
          1,
          1,
          3,
          15,
          28,
          66,
          6,
          3,
          3,
          5151,
          3,
          3,
          3,
          3,
          351,
          5151,
          125751,
          3,
          20301,
          351,
          45451,
          3,
          351,
          1326,
          20301,
          5151,
          3,
          20301,
          20301,
          351,
          5151,
          20301
         ],
         "y": [
          9550392,
          29708224,
          157366048,
          594128464,
          1310851144,
          2307545936,
          11774016,
          36616728,
          193989400,
          732354080,
          1615892488,
          2844273952,
          1292664,
          4020776,
          21298600,
          80407792,
          177405640,
          312295560,
          6783320,
          21100344,
          111778240,
          421992856,
          931061032,
          1638986360,
          12957456,
          40298952,
          213441200,
          805749984,
          1777966456,
          3129700944,
          16130176,
          50164008,
          265693600,
          1003044040,
          2213263832,
          1159464,
          3608712,
          19117224,
          72173624,
          159238656,
          280315776,
          8852592,
          27546080,
          145937296,
          550929096,
          1215683288,
          2139897384,
          31054968,
          96659560,
          512155400,
          1933589200,
          4266056112,
          46276480,
          763044328,
          2880768472,
          462512,
          1441368,
          7632232,
          28849680,
          63582064,
          112051992,
          1315336,
          4095280,
          21692960,
          81901992,
          180704592,
          318227952,
          2401872,
          7477744,
          39636416,
          330179000,
          2916816,
          9082152,
          48120976,
          181681232,
          400925248,
          705893192,
          595160,
          1853384,
          9821968,
          753320,
          2344008,
          12430008,
          46930248,
          103544072,
          182274976,
          4074584,
          12678264,
          67151112,
          253549184,
          559557864,
          984767712,
          13151104,
          40927504,
          216832416,
          818587024,
          1806163816,
          3179347408,
          19555008,
          60851472,
          322416224,
          1217169448,
          2685648472,
          4727542384,
          595160,
          9821968,
          37083776,
          81819184,
          144031712,
          2241920,
          6976152,
          36971120,
          139580936,
          307964352,
          542001256,
          4131720,
          12856280,
          68103656,
          257082256,
          567423568,
          998861464,
          5071888,
          15780808,
          83603928,
          315663176,
          696392344,
          1226014128,
          1021464,
          3178272,
          16837712,
          63568328,
          140252552,
          246893856,
          4824264,
          15002760,
          79478216,
          300015600,
          661935040,
          1165231592,
          7451016,
          23212504,
          123028600,
          464473856,
          1024735824,
          1803896720,
          9246056,
          28797808,
          152648328,
          576241824,
          1271479496,
          2238376040,
          1292632,
          4019144,
          21298520,
          80407768,
          177335312,
          312295496,
          4979360,
          15498608,
          82143920,
          310130920,
          684261592,
          1204539248,
          10090400,
          31425112,
          166536312,
          628765040,
          1387362760,
          2442245664,
          12505936,
          38945216,
          206397520,
          779293432,
          1719203760,
          3026525264,
          1020880,
          3176576,
          16829200,
          63568256,
          140252472,
          246770152,
          3692312,
          11494824,
          60913792,
          230011424,
          507419040,
          893235536,
          461936,
          1441304,
          7640600,
          28849624,
          63652240,
          112051944,
          1120616,
          3493384,
          18504000,
          69899632,
          154295696,
          271493352,
          1947992,
          6076104,
          32205536,
          121634008,
          268302408,
          472309744,
          2434120,
          7586888,
          40252624,
          151956608,
          335347848,
          590210696,
          528784,
          1645728,
          8731240,
          32966688,
          72735688,
          128041808,
          1523248,
          4748888,
          25177680,
          95066472,
          209753896,
          369243408,
          2818264,
          8789768,
          46597408,
          175977456,
          388137208,
          683262760,
          3437352,
          10718392,
          56822944,
          214587184,
          473466576,
          833473088,
          753352,
          2345648,
          12421608,
          46898472,
          103473856,
          182151376,
          2786688,
          8691584,
          46077368,
          174014424,
          383876408,
          675762376,
          5218304,
          16272912,
          86265736,
          325662880,
          718756184,
          1265271072,
          6436144,
          20063864,
          106407592,
          401715216,
          886348144,
          1560664192,
          886016,
          2757672,
          14611352,
          55132560,
          121711000,
          214254680,
          3582320,
          11170784,
          59239352,
          223647904,
          493598960,
          868913520,
          6805272,
          21221424,
          112502488,
          424887432,
          937264976,
          1650296000,
          8677512,
          27066528,
          143516000,
          541869984,
          1195801656,
          2105044960,
          320520,
          1088504,
          3392504,
          11840480,
          67873480,
          149824696,
          263746208,
          595072,
          1853280,
          9821856,
          37083688,
          81748864,
          144031600,
          1081968,
          3367616,
          17826480,
          67366352,
          148632936,
          261646704,
          1707808,
          5312672,
          28146816,
          106264696,
          234526264,
          412848248,
          2562280,
          7973312,
          42246296,
          159528560,
          351975920,
          619600440,
          3508344,
          10921424,
          57855936,
          218427552,
          481927736,
          848483648,
          4640880,
          14445776,
          76537008,
          288987008,
          637537056,
          1122162328,
          5897640,
          18350992,
          97242216,
          367059288,
          809861960,
          1425883992,
          7621136,
          23725896,
          125727824,
          474645408,
          1047169816,
          1843630328,
          9221560,
          28705544,
          152084584,
          574214264,
          1266853872,
          2229978768,
          10955608,
          34100848,
          180676008,
          682123240,
          1505149440,
          2649460544,
          753320,
          462408,
          1441264,
          7640552,
          28817752,
          63652184,
          112051912,
          1088504,
          3392504,
          17976040,
          67873480,
          149824696,
          263746208,
          1916960,
          5973624,
          31669224,
          119544216,
          263831424,
          464562608,
          2402024,
          7485992,
          39699408,
          149898664,
          330736432,
          582339984,
          594064,
          1853288,
          9821856,
          37083696,
          81819080,
          144031608,
          1724376,
          5371216,
          28467600,
          107450576,
          237005368,
          417337704,
          3285872,
          10236288,
          54250040,
          204861680,
          452003520,
          795687400,
          4037144,
          12573744,
          66673736,
          251705568,
          555359376,
          977630256,
          64560,
          65992,
          166840,
          780928,
          1446920,
          3392504,
          320520,
          449032,
          449032,
          655948480,
          279840,
          279840,
          279840,
          397304,
          17976040,
          619600440,
          6631575536,
          397304,
          1645231120,
          42246296,
          2395789240,
          397304,
          17976040,
          69899632,
          1038952784,
          542001256,
          397304,
          1450012360,
          3881463848,
          93867160,
          655948480,
          3881463848
         ]
        }
       ],
       "layout": {
        "template": {
         "data": {
          "bar": [
           {
            "error_x": {
             "color": "#2a3f5f"
            },
            "error_y": {
             "color": "#2a3f5f"
            },
            "marker": {
             "line": {
              "color": "#E5ECF6",
              "width": 0.5
             },
             "pattern": {
              "fillmode": "overlay",
              "size": 10,
              "solidity": 0.2
             }
            },
            "type": "bar"
           }
          ],
          "barpolar": [
           {
            "marker": {
             "line": {
              "color": "#E5ECF6",
              "width": 0.5
             },
             "pattern": {
              "fillmode": "overlay",
              "size": 10,
              "solidity": 0.2
             }
            },
            "type": "barpolar"
           }
          ],
          "carpet": [
           {
            "aaxis": {
             "endlinecolor": "#2a3f5f",
             "gridcolor": "white",
             "linecolor": "white",
             "minorgridcolor": "white",
             "startlinecolor": "#2a3f5f"
            },
            "baxis": {
             "endlinecolor": "#2a3f5f",
             "gridcolor": "white",
             "linecolor": "white",
             "minorgridcolor": "white",
             "startlinecolor": "#2a3f5f"
            },
            "type": "carpet"
           }
          ],
          "choropleth": [
           {
            "colorbar": {
             "outlinewidth": 0,
             "ticks": ""
            },
            "type": "choropleth"
           }
          ],
          "contour": [
           {
            "colorbar": {
             "outlinewidth": 0,
             "ticks": ""
            },
            "colorscale": [
             [
              0,
              "#0d0887"
             ],
             [
              0.1111111111111111,
              "#46039f"
             ],
             [
              0.2222222222222222,
              "#7201a8"
             ],
             [
              0.3333333333333333,
              "#9c179e"
             ],
             [
              0.4444444444444444,
              "#bd3786"
             ],
             [
              0.5555555555555556,
              "#d8576b"
             ],
             [
              0.6666666666666666,
              "#ed7953"
             ],
             [
              0.7777777777777778,
              "#fb9f3a"
             ],
             [
              0.8888888888888888,
              "#fdca26"
             ],
             [
              1,
              "#f0f921"
             ]
            ],
            "type": "contour"
           }
          ],
          "contourcarpet": [
           {
            "colorbar": {
             "outlinewidth": 0,
             "ticks": ""
            },
            "type": "contourcarpet"
           }
          ],
          "heatmap": [
           {
            "colorbar": {
             "outlinewidth": 0,
             "ticks": ""
            },
            "colorscale": [
             [
              0,
              "#0d0887"
             ],
             [
              0.1111111111111111,
              "#46039f"
             ],
             [
              0.2222222222222222,
              "#7201a8"
             ],
             [
              0.3333333333333333,
              "#9c179e"
             ],
             [
              0.4444444444444444,
              "#bd3786"
             ],
             [
              0.5555555555555556,
              "#d8576b"
             ],
             [
              0.6666666666666666,
              "#ed7953"
             ],
             [
              0.7777777777777778,
              "#fb9f3a"
             ],
             [
              0.8888888888888888,
              "#fdca26"
             ],
             [
              1,
              "#f0f921"
             ]
            ],
            "type": "heatmap"
           }
          ],
          "heatmapgl": [
           {
            "colorbar": {
             "outlinewidth": 0,
             "ticks": ""
            },
            "colorscale": [
             [
              0,
              "#0d0887"
             ],
             [
              0.1111111111111111,
              "#46039f"
             ],
             [
              0.2222222222222222,
              "#7201a8"
             ],
             [
              0.3333333333333333,
              "#9c179e"
             ],
             [
              0.4444444444444444,
              "#bd3786"
             ],
             [
              0.5555555555555556,
              "#d8576b"
             ],
             [
              0.6666666666666666,
              "#ed7953"
             ],
             [
              0.7777777777777778,
              "#fb9f3a"
             ],
             [
              0.8888888888888888,
              "#fdca26"
             ],
             [
              1,
              "#f0f921"
             ]
            ],
            "type": "heatmapgl"
           }
          ],
          "histogram": [
           {
            "marker": {
             "pattern": {
              "fillmode": "overlay",
              "size": 10,
              "solidity": 0.2
             }
            },
            "type": "histogram"
           }
          ],
          "histogram2d": [
           {
            "colorbar": {
             "outlinewidth": 0,
             "ticks": ""
            },
            "colorscale": [
             [
              0,
              "#0d0887"
             ],
             [
              0.1111111111111111,
              "#46039f"
             ],
             [
              0.2222222222222222,
              "#7201a8"
             ],
             [
              0.3333333333333333,
              "#9c179e"
             ],
             [
              0.4444444444444444,
              "#bd3786"
             ],
             [
              0.5555555555555556,
              "#d8576b"
             ],
             [
              0.6666666666666666,
              "#ed7953"
             ],
             [
              0.7777777777777778,
              "#fb9f3a"
             ],
             [
              0.8888888888888888,
              "#fdca26"
             ],
             [
              1,
              "#f0f921"
             ]
            ],
            "type": "histogram2d"
           }
          ],
          "histogram2dcontour": [
           {
            "colorbar": {
             "outlinewidth": 0,
             "ticks": ""
            },
            "colorscale": [
             [
              0,
              "#0d0887"
             ],
             [
              0.1111111111111111,
              "#46039f"
             ],
             [
              0.2222222222222222,
              "#7201a8"
             ],
             [
              0.3333333333333333,
              "#9c179e"
             ],
             [
              0.4444444444444444,
              "#bd3786"
             ],
             [
              0.5555555555555556,
              "#d8576b"
             ],
             [
              0.6666666666666666,
              "#ed7953"
             ],
             [
              0.7777777777777778,
              "#fb9f3a"
             ],
             [
              0.8888888888888888,
              "#fdca26"
             ],
             [
              1,
              "#f0f921"
             ]
            ],
            "type": "histogram2dcontour"
           }
          ],
          "mesh3d": [
           {
            "colorbar": {
             "outlinewidth": 0,
             "ticks": ""
            },
            "type": "mesh3d"
           }
          ],
          "parcoords": [
           {
            "line": {
             "colorbar": {
              "outlinewidth": 0,
              "ticks": ""
             }
            },
            "type": "parcoords"
           }
          ],
          "pie": [
           {
            "automargin": true,
            "type": "pie"
           }
          ],
          "scatter": [
           {
            "fillpattern": {
             "fillmode": "overlay",
             "size": 10,
             "solidity": 0.2
            },
            "type": "scatter"
           }
          ],
          "scatter3d": [
           {
            "line": {
             "colorbar": {
              "outlinewidth": 0,
              "ticks": ""
             }
            },
            "marker": {
             "colorbar": {
              "outlinewidth": 0,
              "ticks": ""
             }
            },
            "type": "scatter3d"
           }
          ],
          "scattercarpet": [
           {
            "marker": {
             "colorbar": {
              "outlinewidth": 0,
              "ticks": ""
             }
            },
            "type": "scattercarpet"
           }
          ],
          "scattergeo": [
           {
            "marker": {
             "colorbar": {
              "outlinewidth": 0,
              "ticks": ""
             }
            },
            "type": "scattergeo"
           }
          ],
          "scattergl": [
           {
            "marker": {
             "colorbar": {
              "outlinewidth": 0,
              "ticks": ""
             }
            },
            "type": "scattergl"
           }
          ],
          "scattermapbox": [
           {
            "marker": {
             "colorbar": {
              "outlinewidth": 0,
              "ticks": ""
             }
            },
            "type": "scattermapbox"
           }
          ],
          "scatterpolar": [
           {
            "marker": {
             "colorbar": {
              "outlinewidth": 0,
              "ticks": ""
             }
            },
            "type": "scatterpolar"
           }
          ],
          "scatterpolargl": [
           {
            "marker": {
             "colorbar": {
              "outlinewidth": 0,
              "ticks": ""
             }
            },
            "type": "scatterpolargl"
           }
          ],
          "scatterternary": [
           {
            "marker": {
             "colorbar": {
              "outlinewidth": 0,
              "ticks": ""
             }
            },
            "type": "scatterternary"
           }
          ],
          "surface": [
           {
            "colorbar": {
             "outlinewidth": 0,
             "ticks": ""
            },
            "colorscale": [
             [
              0,
              "#0d0887"
             ],
             [
              0.1111111111111111,
              "#46039f"
             ],
             [
              0.2222222222222222,
              "#7201a8"
             ],
             [
              0.3333333333333333,
              "#9c179e"
             ],
             [
              0.4444444444444444,
              "#bd3786"
             ],
             [
              0.5555555555555556,
              "#d8576b"
             ],
             [
              0.6666666666666666,
              "#ed7953"
             ],
             [
              0.7777777777777778,
              "#fb9f3a"
             ],
             [
              0.8888888888888888,
              "#fdca26"
             ],
             [
              1,
              "#f0f921"
             ]
            ],
            "type": "surface"
           }
          ],
          "table": [
           {
            "cells": {
             "fill": {
              "color": "#EBF0F8"
             },
             "line": {
              "color": "white"
             }
            },
            "header": {
             "fill": {
              "color": "#C8D4E3"
             },
             "line": {
              "color": "white"
             }
            },
            "type": "table"
           }
          ]
         },
         "layout": {
          "annotationdefaults": {
           "arrowcolor": "#2a3f5f",
           "arrowhead": 0,
           "arrowwidth": 1
          },
          "autotypenumbers": "strict",
          "coloraxis": {
           "colorbar": {
            "outlinewidth": 0,
            "ticks": ""
           }
          },
          "colorscale": {
           "diverging": [
            [
             0,
             "#8e0152"
            ],
            [
             0.1,
             "#c51b7d"
            ],
            [
             0.2,
             "#de77ae"
            ],
            [
             0.3,
             "#f1b6da"
            ],
            [
             0.4,
             "#fde0ef"
            ],
            [
             0.5,
             "#f7f7f7"
            ],
            [
             0.6,
             "#e6f5d0"
            ],
            [
             0.7,
             "#b8e186"
            ],
            [
             0.8,
             "#7fbc41"
            ],
            [
             0.9,
             "#4d9221"
            ],
            [
             1,
             "#276419"
            ]
           ],
           "sequential": [
            [
             0,
             "#0d0887"
            ],
            [
             0.1111111111111111,
             "#46039f"
            ],
            [
             0.2222222222222222,
             "#7201a8"
            ],
            [
             0.3333333333333333,
             "#9c179e"
            ],
            [
             0.4444444444444444,
             "#bd3786"
            ],
            [
             0.5555555555555556,
             "#d8576b"
            ],
            [
             0.6666666666666666,
             "#ed7953"
            ],
            [
             0.7777777777777778,
             "#fb9f3a"
            ],
            [
             0.8888888888888888,
             "#fdca26"
            ],
            [
             1,
             "#f0f921"
            ]
           ],
           "sequentialminus": [
            [
             0,
             "#0d0887"
            ],
            [
             0.1111111111111111,
             "#46039f"
            ],
            [
             0.2222222222222222,
             "#7201a8"
            ],
            [
             0.3333333333333333,
             "#9c179e"
            ],
            [
             0.4444444444444444,
             "#bd3786"
            ],
            [
             0.5555555555555556,
             "#d8576b"
            ],
            [
             0.6666666666666666,
             "#ed7953"
            ],
            [
             0.7777777777777778,
             "#fb9f3a"
            ],
            [
             0.8888888888888888,
             "#fdca26"
            ],
            [
             1,
             "#f0f921"
            ]
           ]
          },
          "colorway": [
           "#636efa",
           "#EF553B",
           "#00cc96",
           "#ab63fa",
           "#FFA15A",
           "#19d3f3",
           "#FF6692",
           "#B6E880",
           "#FF97FF",
           "#FECB52"
          ],
          "font": {
           "color": "#2a3f5f"
          },
          "geo": {
           "bgcolor": "white",
           "lakecolor": "white",
           "landcolor": "#E5ECF6",
           "showlakes": true,
           "showland": true,
           "subunitcolor": "white"
          },
          "hoverlabel": {
           "align": "left"
          },
          "hovermode": "closest",
          "mapbox": {
           "style": "light"
          },
          "paper_bgcolor": "white",
          "plot_bgcolor": "#E5ECF6",
          "polar": {
           "angularaxis": {
            "gridcolor": "white",
            "linecolor": "white",
            "ticks": ""
           },
           "bgcolor": "#E5ECF6",
           "radialaxis": {
            "gridcolor": "white",
            "linecolor": "white",
            "ticks": ""
           }
          },
          "scene": {
           "xaxis": {
            "backgroundcolor": "#E5ECF6",
            "gridcolor": "white",
            "gridwidth": 2,
            "linecolor": "white",
            "showbackground": true,
            "ticks": "",
            "zerolinecolor": "white"
           },
           "yaxis": {
            "backgroundcolor": "#E5ECF6",
            "gridcolor": "white",
            "gridwidth": 2,
            "linecolor": "white",
            "showbackground": true,
            "ticks": "",
            "zerolinecolor": "white"
           },
           "zaxis": {
            "backgroundcolor": "#E5ECF6",
            "gridcolor": "white",
            "gridwidth": 2,
            "linecolor": "white",
            "showbackground": true,
            "ticks": "",
            "zerolinecolor": "white"
           }
          },
          "shapedefaults": {
           "line": {
            "color": "#2a3f5f"
           }
          },
          "ternary": {
           "aaxis": {
            "gridcolor": "white",
            "linecolor": "white",
            "ticks": ""
           },
           "baxis": {
            "gridcolor": "white",
            "linecolor": "white",
            "ticks": ""
           },
           "bgcolor": "#E5ECF6",
           "caxis": {
            "gridcolor": "white",
            "linecolor": "white",
            "ticks": ""
           }
          },
          "title": {
           "x": 0.05
          },
          "xaxis": {
           "automargin": true,
           "gridcolor": "white",
           "linecolor": "white",
           "ticks": "",
           "title": {
            "standoff": 15
           },
           "zerolinecolor": "white",
           "zerolinewidth": 2
          },
          "yaxis": {
           "automargin": true,
           "gridcolor": "white",
           "linecolor": "white",
           "ticks": "",
           "title": {
            "standoff": 15
           },
           "zerolinecolor": "white",
           "zerolinewidth": 2
          }
         }
        },
        "title": {
         "text": "Payload per list of circuits"
        },
        "xaxis": {
         "title": {
          "text": "# circuits"
         }
        },
        "yaxis": {
         "title": {
          "text": "Payload (byte)"
         }
        }
       }
      },
      "text/html": [
       "<div>                            <div id=\"be2deadd-a411-4994-b433-b3901a3fd57e\" class=\"plotly-graph-div\" style=\"height:525px; width:100%;\"></div>            <script type=\"text/javascript\">                require([\"plotly\"], function(Plotly) {                    window.PLOTLYENV=window.PLOTLYENV || {};                                    if (document.getElementById(\"be2deadd-a411-4994-b433-b3901a3fd57e\")) {                    Plotly.newPlot(                        \"be2deadd-a411-4994-b433-b3901a3fd57e\",                        [{\"marker\":{\"color\":\"crimson\",\"size\":8},\"mode\":\"markers\",\"x\":[21,66,351,1326,2926,5151,21,66,351,1326,2926,5151,21,66,351,1326,2926,5151,21,66,351,1326,2926,5151,21,66,351,1326,2926,5151,21,66,351,1326,2926,21,66,351,1326,2926,5151,21,66,351,1326,2926,5151,21,66,351,1326,2926,21,351,1326,21,66,351,1326,2926,5151,21,66,351,1326,2926,5151,21,66,351,2926,21,66,351,1326,2926,5151,21,66,351,21,66,351,1326,2926,5151,21,66,351,1326,2926,5151,21,66,351,1326,2926,5151,21,66,351,1326,2926,5151,21,351,1326,2926,5151,21,66,351,1326,2926,5151,21,66,351,1326,2926,5151,21,66,351,1326,2926,5151,21,66,351,1326,2926,5151,21,66,351,1326,2926,5151,21,66,351,1326,2926,5151,21,66,351,1326,2926,5151,21,66,351,1326,2926,5151,21,66,351,1326,2926,5151,21,66,351,1326,2926,5151,21,66,351,1326,2926,5151,21,66,351,1326,2926,5151,21,66,351,1326,2926,5151,21,66,351,1326,2926,5151,21,66,351,1326,2926,5151,21,66,351,1326,2926,5151,21,66,351,1326,2926,5151,21,66,351,1326,2926,5151,21,66,351,1326,2926,5151,21,66,351,1326,2926,5151,21,66,351,1326,2926,5151,21,66,351,1326,2926,5151,21,66,351,1326,2926,5151,21,66,351,1326,2926,5151,21,66,351,1326,2926,5151,21,66,351,1326,2926,5151,21,66,351,1326,2926,5151,21,66,351,1326,2926,5151,21,66,351,1326,2926,5151,6,21,66,231,1326,2926,5151,21,66,351,1326,2926,5151,21,66,351,1326,2926,5151,21,66,351,1326,2926,5151,21,66,351,1326,2926,5151,21,66,351,1326,2926,5151,21,66,351,1326,2926,5151,21,66,351,1326,2926,5151,21,66,351,1326,2926,5151,21,66,351,1326,2926,5151,21,66,351,1326,2926,5151,21,21,66,351,1326,2926,5151,21,66,351,1326,2926,5151,21,66,351,1326,2926,5151,21,66,351,1326,2926,5151,21,66,351,1326,2926,5151,21,66,351,1326,2926,5151,21,66,351,1326,2926,5151,21,66,351,1326,2926,5151,1,1,3,15,28,66,6,3,3,5151,3,3,3,3,351,5151,125751,3,20301,351,45451,3,351,1326,20301,5151,3,20301,20301,351,5151,20301],\"y\":[9550392,29708224,157366048,594128464,1310851144,2307545936,11774016,36616728,193989400,732354080,1615892488,2844273952,1292664,4020776,21298600,80407792,177405640,312295560,6783320,21100344,111778240,421992856,931061032,1638986360,12957456,40298952,213441200,805749984,1777966456,3129700944,16130176,50164008,265693600,1003044040,2213263832,1159464,3608712,19117224,72173624,159238656,280315776,8852592,27546080,145937296,550929096,1215683288,2139897384,31054968,96659560,512155400,1933589200,4266056112,46276480,763044328,2880768472,462512,1441368,7632232,28849680,63582064,112051992,1315336,4095280,21692960,81901992,180704592,318227952,2401872,7477744,39636416,330179000,2916816,9082152,48120976,181681232,400925248,705893192,595160,1853384,9821968,753320,2344008,12430008,46930248,103544072,182274976,4074584,12678264,67151112,253549184,559557864,984767712,13151104,40927504,216832416,818587024,1806163816,3179347408,19555008,60851472,322416224,1217169448,2685648472,4727542384,595160,9821968,37083776,81819184,144031712,2241920,6976152,36971120,139580936,307964352,542001256,4131720,12856280,68103656,257082256,567423568,998861464,5071888,15780808,83603928,315663176,696392344,1226014128,1021464,3178272,16837712,63568328,140252552,246893856,4824264,15002760,79478216,300015600,661935040,1165231592,7451016,23212504,123028600,464473856,1024735824,1803896720,9246056,28797808,152648328,576241824,1271479496,2238376040,1292632,4019144,21298520,80407768,177335312,312295496,4979360,15498608,82143920,310130920,684261592,1204539248,10090400,31425112,166536312,628765040,1387362760,2442245664,12505936,38945216,206397520,779293432,1719203760,3026525264,1020880,3176576,16829200,63568256,140252472,246770152,3692312,11494824,60913792,230011424,507419040,893235536,461936,1441304,7640600,28849624,63652240,112051944,1120616,3493384,18504000,69899632,154295696,271493352,1947992,6076104,32205536,121634008,268302408,472309744,2434120,7586888,40252624,151956608,335347848,590210696,528784,1645728,8731240,32966688,72735688,128041808,1523248,4748888,25177680,95066472,209753896,369243408,2818264,8789768,46597408,175977456,388137208,683262760,3437352,10718392,56822944,214587184,473466576,833473088,753352,2345648,12421608,46898472,103473856,182151376,2786688,8691584,46077368,174014424,383876408,675762376,5218304,16272912,86265736,325662880,718756184,1265271072,6436144,20063864,106407592,401715216,886348144,1560664192,886016,2757672,14611352,55132560,121711000,214254680,3582320,11170784,59239352,223647904,493598960,868913520,6805272,21221424,112502488,424887432,937264976,1650296000,8677512,27066528,143516000,541869984,1195801656,2105044960,320520,1088504,3392504,11840480,67873480,149824696,263746208,595072,1853280,9821856,37083688,81748864,144031600,1081968,3367616,17826480,67366352,148632936,261646704,1707808,5312672,28146816,106264696,234526264,412848248,2562280,7973312,42246296,159528560,351975920,619600440,3508344,10921424,57855936,218427552,481927736,848483648,4640880,14445776,76537008,288987008,637537056,1122162328,5897640,18350992,97242216,367059288,809861960,1425883992,7621136,23725896,125727824,474645408,1047169816,1843630328,9221560,28705544,152084584,574214264,1266853872,2229978768,10955608,34100848,180676008,682123240,1505149440,2649460544,753320,462408,1441264,7640552,28817752,63652184,112051912,1088504,3392504,17976040,67873480,149824696,263746208,1916960,5973624,31669224,119544216,263831424,464562608,2402024,7485992,39699408,149898664,330736432,582339984,594064,1853288,9821856,37083696,81819080,144031608,1724376,5371216,28467600,107450576,237005368,417337704,3285872,10236288,54250040,204861680,452003520,795687400,4037144,12573744,66673736,251705568,555359376,977630256,64560,65992,166840,780928,1446920,3392504,320520,449032,449032,655948480,279840,279840,279840,397304,17976040,619600440,6631575536,397304,1645231120,42246296,2395789240,397304,17976040,69899632,1038952784,542001256,397304,1450012360,3881463848,93867160,655948480,3881463848],\"type\":\"scatter\"}],                        {\"template\":{\"data\":{\"histogram2dcontour\":[{\"type\":\"histogram2dcontour\",\"colorbar\":{\"outlinewidth\":0,\"ticks\":\"\"},\"colorscale\":[[0.0,\"#0d0887\"],[0.1111111111111111,\"#46039f\"],[0.2222222222222222,\"#7201a8\"],[0.3333333333333333,\"#9c179e\"],[0.4444444444444444,\"#bd3786\"],[0.5555555555555556,\"#d8576b\"],[0.6666666666666666,\"#ed7953\"],[0.7777777777777778,\"#fb9f3a\"],[0.8888888888888888,\"#fdca26\"],[1.0,\"#f0f921\"]]}],\"choropleth\":[{\"type\":\"choropleth\",\"colorbar\":{\"outlinewidth\":0,\"ticks\":\"\"}}],\"histogram2d\":[{\"type\":\"histogram2d\",\"colorbar\":{\"outlinewidth\":0,\"ticks\":\"\"},\"colorscale\":[[0.0,\"#0d0887\"],[0.1111111111111111,\"#46039f\"],[0.2222222222222222,\"#7201a8\"],[0.3333333333333333,\"#9c179e\"],[0.4444444444444444,\"#bd3786\"],[0.5555555555555556,\"#d8576b\"],[0.6666666666666666,\"#ed7953\"],[0.7777777777777778,\"#fb9f3a\"],[0.8888888888888888,\"#fdca26\"],[1.0,\"#f0f921\"]]}],\"heatmap\":[{\"type\":\"heatmap\",\"colorbar\":{\"outlinewidth\":0,\"ticks\":\"\"},\"colorscale\":[[0.0,\"#0d0887\"],[0.1111111111111111,\"#46039f\"],[0.2222222222222222,\"#7201a8\"],[0.3333333333333333,\"#9c179e\"],[0.4444444444444444,\"#bd3786\"],[0.5555555555555556,\"#d8576b\"],[0.6666666666666666,\"#ed7953\"],[0.7777777777777778,\"#fb9f3a\"],[0.8888888888888888,\"#fdca26\"],[1.0,\"#f0f921\"]]}],\"heatmapgl\":[{\"type\":\"heatmapgl\",\"colorbar\":{\"outlinewidth\":0,\"ticks\":\"\"},\"colorscale\":[[0.0,\"#0d0887\"],[0.1111111111111111,\"#46039f\"],[0.2222222222222222,\"#7201a8\"],[0.3333333333333333,\"#9c179e\"],[0.4444444444444444,\"#bd3786\"],[0.5555555555555556,\"#d8576b\"],[0.6666666666666666,\"#ed7953\"],[0.7777777777777778,\"#fb9f3a\"],[0.8888888888888888,\"#fdca26\"],[1.0,\"#f0f921\"]]}],\"contourcarpet\":[{\"type\":\"contourcarpet\",\"colorbar\":{\"outlinewidth\":0,\"ticks\":\"\"}}],\"contour\":[{\"type\":\"contour\",\"colorbar\":{\"outlinewidth\":0,\"ticks\":\"\"},\"colorscale\":[[0.0,\"#0d0887\"],[0.1111111111111111,\"#46039f\"],[0.2222222222222222,\"#7201a8\"],[0.3333333333333333,\"#9c179e\"],[0.4444444444444444,\"#bd3786\"],[0.5555555555555556,\"#d8576b\"],[0.6666666666666666,\"#ed7953\"],[0.7777777777777778,\"#fb9f3a\"],[0.8888888888888888,\"#fdca26\"],[1.0,\"#f0f921\"]]}],\"surface\":[{\"type\":\"surface\",\"colorbar\":{\"outlinewidth\":0,\"ticks\":\"\"},\"colorscale\":[[0.0,\"#0d0887\"],[0.1111111111111111,\"#46039f\"],[0.2222222222222222,\"#7201a8\"],[0.3333333333333333,\"#9c179e\"],[0.4444444444444444,\"#bd3786\"],[0.5555555555555556,\"#d8576b\"],[0.6666666666666666,\"#ed7953\"],[0.7777777777777778,\"#fb9f3a\"],[0.8888888888888888,\"#fdca26\"],[1.0,\"#f0f921\"]]}],\"mesh3d\":[{\"type\":\"mesh3d\",\"colorbar\":{\"outlinewidth\":0,\"ticks\":\"\"}}],\"scatter\":[{\"fillpattern\":{\"fillmode\":\"overlay\",\"size\":10,\"solidity\":0.2},\"type\":\"scatter\"}],\"parcoords\":[{\"type\":\"parcoords\",\"line\":{\"colorbar\":{\"outlinewidth\":0,\"ticks\":\"\"}}}],\"scatterpolargl\":[{\"type\":\"scatterpolargl\",\"marker\":{\"colorbar\":{\"outlinewidth\":0,\"ticks\":\"\"}}}],\"bar\":[{\"error_x\":{\"color\":\"#2a3f5f\"},\"error_y\":{\"color\":\"#2a3f5f\"},\"marker\":{\"line\":{\"color\":\"#E5ECF6\",\"width\":0.5},\"pattern\":{\"fillmode\":\"overlay\",\"size\":10,\"solidity\":0.2}},\"type\":\"bar\"}],\"scattergeo\":[{\"type\":\"scattergeo\",\"marker\":{\"colorbar\":{\"outlinewidth\":0,\"ticks\":\"\"}}}],\"scatterpolar\":[{\"type\":\"scatterpolar\",\"marker\":{\"colorbar\":{\"outlinewidth\":0,\"ticks\":\"\"}}}],\"histogram\":[{\"marker\":{\"pattern\":{\"fillmode\":\"overlay\",\"size\":10,\"solidity\":0.2}},\"type\":\"histogram\"}],\"scattergl\":[{\"type\":\"scattergl\",\"marker\":{\"colorbar\":{\"outlinewidth\":0,\"ticks\":\"\"}}}],\"scatter3d\":[{\"type\":\"scatter3d\",\"line\":{\"colorbar\":{\"outlinewidth\":0,\"ticks\":\"\"}},\"marker\":{\"colorbar\":{\"outlinewidth\":0,\"ticks\":\"\"}}}],\"scattermapbox\":[{\"type\":\"scattermapbox\",\"marker\":{\"colorbar\":{\"outlinewidth\":0,\"ticks\":\"\"}}}],\"scatterternary\":[{\"type\":\"scatterternary\",\"marker\":{\"colorbar\":{\"outlinewidth\":0,\"ticks\":\"\"}}}],\"scattercarpet\":[{\"type\":\"scattercarpet\",\"marker\":{\"colorbar\":{\"outlinewidth\":0,\"ticks\":\"\"}}}],\"carpet\":[{\"aaxis\":{\"endlinecolor\":\"#2a3f5f\",\"gridcolor\":\"white\",\"linecolor\":\"white\",\"minorgridcolor\":\"white\",\"startlinecolor\":\"#2a3f5f\"},\"baxis\":{\"endlinecolor\":\"#2a3f5f\",\"gridcolor\":\"white\",\"linecolor\":\"white\",\"minorgridcolor\":\"white\",\"startlinecolor\":\"#2a3f5f\"},\"type\":\"carpet\"}],\"table\":[{\"cells\":{\"fill\":{\"color\":\"#EBF0F8\"},\"line\":{\"color\":\"white\"}},\"header\":{\"fill\":{\"color\":\"#C8D4E3\"},\"line\":{\"color\":\"white\"}},\"type\":\"table\"}],\"barpolar\":[{\"marker\":{\"line\":{\"color\":\"#E5ECF6\",\"width\":0.5},\"pattern\":{\"fillmode\":\"overlay\",\"size\":10,\"solidity\":0.2}},\"type\":\"barpolar\"}],\"pie\":[{\"automargin\":true,\"type\":\"pie\"}]},\"layout\":{\"autotypenumbers\":\"strict\",\"colorway\":[\"#636efa\",\"#EF553B\",\"#00cc96\",\"#ab63fa\",\"#FFA15A\",\"#19d3f3\",\"#FF6692\",\"#B6E880\",\"#FF97FF\",\"#FECB52\"],\"font\":{\"color\":\"#2a3f5f\"},\"hovermode\":\"closest\",\"hoverlabel\":{\"align\":\"left\"},\"paper_bgcolor\":\"white\",\"plot_bgcolor\":\"#E5ECF6\",\"polar\":{\"bgcolor\":\"#E5ECF6\",\"angularaxis\":{\"gridcolor\":\"white\",\"linecolor\":\"white\",\"ticks\":\"\"},\"radialaxis\":{\"gridcolor\":\"white\",\"linecolor\":\"white\",\"ticks\":\"\"}},\"ternary\":{\"bgcolor\":\"#E5ECF6\",\"aaxis\":{\"gridcolor\":\"white\",\"linecolor\":\"white\",\"ticks\":\"\"},\"baxis\":{\"gridcolor\":\"white\",\"linecolor\":\"white\",\"ticks\":\"\"},\"caxis\":{\"gridcolor\":\"white\",\"linecolor\":\"white\",\"ticks\":\"\"}},\"coloraxis\":{\"colorbar\":{\"outlinewidth\":0,\"ticks\":\"\"}},\"colorscale\":{\"sequential\":[[0.0,\"#0d0887\"],[0.1111111111111111,\"#46039f\"],[0.2222222222222222,\"#7201a8\"],[0.3333333333333333,\"#9c179e\"],[0.4444444444444444,\"#bd3786\"],[0.5555555555555556,\"#d8576b\"],[0.6666666666666666,\"#ed7953\"],[0.7777777777777778,\"#fb9f3a\"],[0.8888888888888888,\"#fdca26\"],[1.0,\"#f0f921\"]],\"sequentialminus\":[[0.0,\"#0d0887\"],[0.1111111111111111,\"#46039f\"],[0.2222222222222222,\"#7201a8\"],[0.3333333333333333,\"#9c179e\"],[0.4444444444444444,\"#bd3786\"],[0.5555555555555556,\"#d8576b\"],[0.6666666666666666,\"#ed7953\"],[0.7777777777777778,\"#fb9f3a\"],[0.8888888888888888,\"#fdca26\"],[1.0,\"#f0f921\"]],\"diverging\":[[0,\"#8e0152\"],[0.1,\"#c51b7d\"],[0.2,\"#de77ae\"],[0.3,\"#f1b6da\"],[0.4,\"#fde0ef\"],[0.5,\"#f7f7f7\"],[0.6,\"#e6f5d0\"],[0.7,\"#b8e186\"],[0.8,\"#7fbc41\"],[0.9,\"#4d9221\"],[1,\"#276419\"]]},\"xaxis\":{\"gridcolor\":\"white\",\"linecolor\":\"white\",\"ticks\":\"\",\"title\":{\"standoff\":15},\"zerolinecolor\":\"white\",\"automargin\":true,\"zerolinewidth\":2},\"yaxis\":{\"gridcolor\":\"white\",\"linecolor\":\"white\",\"ticks\":\"\",\"title\":{\"standoff\":15},\"zerolinecolor\":\"white\",\"automargin\":true,\"zerolinewidth\":2},\"scene\":{\"xaxis\":{\"backgroundcolor\":\"#E5ECF6\",\"gridcolor\":\"white\",\"linecolor\":\"white\",\"showbackground\":true,\"ticks\":\"\",\"zerolinecolor\":\"white\",\"gridwidth\":2},\"yaxis\":{\"backgroundcolor\":\"#E5ECF6\",\"gridcolor\":\"white\",\"linecolor\":\"white\",\"showbackground\":true,\"ticks\":\"\",\"zerolinecolor\":\"white\",\"gridwidth\":2},\"zaxis\":{\"backgroundcolor\":\"#E5ECF6\",\"gridcolor\":\"white\",\"linecolor\":\"white\",\"showbackground\":true,\"ticks\":\"\",\"zerolinecolor\":\"white\",\"gridwidth\":2}},\"shapedefaults\":{\"line\":{\"color\":\"#2a3f5f\"}},\"annotationdefaults\":{\"arrowcolor\":\"#2a3f5f\",\"arrowhead\":0,\"arrowwidth\":1},\"geo\":{\"bgcolor\":\"white\",\"landcolor\":\"#E5ECF6\",\"subunitcolor\":\"white\",\"showland\":true,\"showlakes\":true,\"lakecolor\":\"white\"},\"title\":{\"x\":0.05},\"mapbox\":{\"style\":\"light\"}}},\"title\":{\"text\":\"Payload per list of circuits\"},\"xaxis\":{\"title\":{\"text\":\"# circuits\"}},\"yaxis\":{\"title\":{\"text\":\"Payload (byte)\"}}},                        {\"responsive\": true}                    ).then(function(){\n",
       "                            \n",
       "var gd = document.getElementById('be2deadd-a411-4994-b433-b3901a3fd57e');\n",
       "var x = new MutationObserver(function (mutations, observer) {{\n",
       "        var display = window.getComputedStyle(gd).display;\n",
       "        if (!display || display === 'none') {{\n",
       "            console.log([gd, 'removed!']);\n",
       "            Plotly.purge(gd);\n",
       "            observer.disconnect();\n",
       "        }}\n",
       "}});\n",
       "\n",
       "// Listen for the removal of the full notebook cells\n",
       "var notebookContainer = gd.closest('#notebook-container');\n",
       "if (notebookContainer) {{\n",
       "    x.observe(notebookContainer, {childList: true});\n",
       "}}\n",
       "\n",
       "// Listen for the clearing of the current output cell\n",
       "var outputEl = gd.closest('.output');\n",
       "if (outputEl) {{\n",
       "    x.observe(outputEl, {childList: true});\n",
       "}}\n",
       "\n",
       "                        })                };                });            </script>        </div>"
      ]
     },
     "metadata": {},
     "output_type": "display_data"
    }
   ],
   "source": [
    "list_payload_size = tele_file[\"payload_size\"].tolist()\n",
    "list_nb_circuits = tele_file[\"nb_circuits\"].tolist()\n",
    "    \n",
    "print(\"Size of dataframe : \", len(list_payload_size))\n",
    "\n",
    "fig = go.Figure([go.Scatter(x=list_nb_circuits, y=list_payload_size, mode='markers',\n",
    "                            marker=dict(color=\"crimson\", size=8))])\n",
    "\n",
    "fig.update_layout(title_text='Payload per list of circuits', \n",
    "                         xaxis_title=\"# circuits\", yaxis_title=\"Payload (byte)\")\n",
    "\n",
    "interac_o_static(fig)"
   ]
  },
  {
   "cell_type": "markdown",
   "id": "81fb35ea",
   "metadata": {},
   "source": [
    "#### Analyse\n",
    "..."
   ]
  },
  {
   "cell_type": "markdown",
   "id": "94ab02ef",
   "metadata": {},
   "source": [
    "#### Histogram\n",
    "Histogram of payload size/number of circuits. Does there are any interesting features in the distribution ?"
   ]
  },
  {
   "cell_type": "code",
   "execution_count": null,
   "id": "9a7e3e8d",
   "metadata": {},
   "outputs": [],
   "source": [
    "list_payload_size = tele_file[\"payload_size\"].tolist()\n",
    "list_nb_circuits = tele_file[\"nb_circuits\"].tolist()\n",
    "\n",
    "payload_size_percent = []\n",
    "nb_circuits_percent = []\n",
    "\n",
    "for payload_size, nb_circuits in zip(list_payload_size, list_nb_circuits):\n",
    "    payload_size_percent.append(payload_size * 100 / sum(list_payload_size))\n",
    "    nb_circuits_percent.append(nb_circuits * 100 / sum(list_nb_circuits))\n",
    "\n",
    "print(\"Size of dataframe : \", len(payload_size_percent))\n",
    "\n",
    "fig_series = make_subplots(rows=2, cols=2, subplot_titles=(\"Percent\", \"Real value\", \"Percent\", \"Real value\"))\n",
    "\n",
    "fig_series.add_trace(go.Histogram(x=payload_size_percent, name='Payload %'), row=1, col=1)\n",
    "fig_series.add_trace(go.Histogram(x=list_payload_size, name='Payload R'), row=1, col=2)\n",
    "fig_series.update_xaxes(title_text=\"payload size\", row=1)\n",
    "\n",
    "fig_series.add_trace(go.Histogram(x=nb_circuits_percent, name='# circuits %'), row=2, col=1)\n",
    "fig_series.add_trace(go.Histogram(x=list_nb_circuits, name='# circuits R'), row=2, col=2)\n",
    "fig_series.update_xaxes(title_text=\"# circuits\", row=2)\n",
    "\n",
    "fig_series.update_layout(\n",
    "    title_text='Payload & # circuits',\n",
    "    yaxis_title=\"Count\",\n",
    "    barmode=\"overlay\")\n",
    "fig_series.update_xaxes(title_text=\"# circuits\", row=2)\n",
    "fig_series.update_traces(opacity=0.7)\n",
    "\n",
    "interac_o_static(fig_series)"
   ]
  },
  {
   "cell_type": "markdown",
   "id": "d15f282a",
   "metadata": {},
   "source": [
    "### Cheryl here\n",
    "Blabla doing that for that because we want to check that blablablabla..."
   ]
  },
  {
   "cell_type": "code",
   "execution_count": null,
   "id": "fecfbdc8",
   "metadata": {},
   "outputs": [],
   "source": [
    "####### Code to generate the plot\n",
    "\n",
    "\n",
    "#######\n",
    "interac_o_static(fig) ## to the show the plot at the end"
   ]
  },
  {
   "cell_type": "markdown",
   "id": "416613f0",
   "metadata": {},
   "source": [
    "### Runtime seconds vs number of circuits\n",
    "Time_simulation (aka, runtime-seconds) versus payload size. This helps us see what the cutoffs look like. For this plot, I would suggest plotting lines indicating the payload size at which the Runtime says it was too big, as well as the time past which the Runtime said it timed out."
   ]
  },
  {
   "cell_type": "code",
   "execution_count": 9,
   "id": "2ebefaed",
   "metadata": {},
   "outputs": [
    {
     "name": "stdout",
     "output_type": "stream",
     "text": [
      "Size of dataframe :  431\n"
     ]
    },
    {
     "data": {
      "application/vnd.plotly.v1+json": {
       "config": {
        "plotlyServerURL": "https://plot.ly"
       },
       "data": [
        {
         "hovertemplate": "color=SUCCESS<br>x=%{x}<br>y=%{y}<extra></extra>",
         "legendgroup": "SUCCESS",
         "marker": {
          "color": "#636efa",
          "size": 12,
          "symbol": "circle"
         },
         "mode": "markers",
         "name": "SUCCESS",
         "orientation": "v",
         "showlegend": true,
         "type": "scatter",
         "x": [
          9550392,
          29708224,
          157366048,
          594128464,
          1310851144,
          2307545936,
          11774016,
          36616728,
          193989400,
          732354080,
          1615892488,
          1292664,
          4020776,
          21298600,
          80407792,
          177405640,
          312295560,
          6783320,
          21100344,
          111778240,
          421992856,
          931061032,
          1638986360,
          12957456,
          40298952,
          213441200,
          805749984,
          1777966456,
          16130176,
          50164008,
          265693600,
          1003044040,
          2213263832,
          1159464,
          3608712,
          19117224,
          72173624,
          159238656,
          280315776,
          8852592,
          27546080,
          145937296,
          550929096,
          2139897384,
          31054968,
          96659560,
          512155400,
          1933589200,
          46276480,
          763044328,
          462512,
          1441368,
          7632232,
          28849680,
          63582064,
          112051992,
          1315336,
          4095280,
          21692960,
          81901992,
          180704592,
          318227952,
          2401872,
          7477744,
          39636416,
          2916816,
          9082152,
          48120976,
          181681232,
          400925248,
          705893192,
          595160,
          1853384,
          9821968,
          753320,
          2344008,
          12430008,
          46930248,
          103544072,
          182274976,
          4074584,
          12678264,
          67151112,
          253549184,
          559557864,
          984767712,
          13151104,
          40927504,
          216832416,
          818587024,
          1806163816,
          19555008,
          60851472,
          322416224,
          1217169448,
          595160,
          9821968,
          37083776,
          81819184,
          144031712,
          2241920,
          6976152,
          36971120,
          139580936,
          307964352,
          542001256,
          4131720,
          12856280,
          68103656,
          257082256,
          567423568,
          998861464,
          5071888,
          15780808,
          83603928,
          315663176,
          696392344,
          1226014128,
          1021464,
          3178272,
          16837712,
          63568328,
          140252552,
          246893856,
          4824264,
          15002760,
          79478216,
          300015600,
          661935040,
          1165231592,
          7451016,
          23212504,
          123028600,
          464473856,
          1024735824,
          1803896720,
          9246056,
          28797808,
          152648328,
          576241824,
          1271479496,
          2238376040,
          1292632,
          4019144,
          21298520,
          80407768,
          177335312,
          312295496,
          4979360,
          15498608,
          82143920,
          310130920,
          684261592,
          1204539248,
          10090400,
          31425112,
          166536312,
          628765040,
          1387362760,
          2442245664,
          12505936,
          38945216,
          206397520,
          779293432,
          1719203760,
          1020880,
          3176576,
          16829200,
          63568256,
          140252472,
          246770152,
          3692312,
          11494824,
          60913792,
          230011424,
          507419040,
          893235536,
          461936,
          1441304,
          7640600,
          28849624,
          63652240,
          112051944,
          1120616,
          3493384,
          18504000,
          69899632,
          154295696,
          271493352,
          1947992,
          6076104,
          32205536,
          121634008,
          268302408,
          472309744,
          2434120,
          7586888,
          40252624,
          151956608,
          335347848,
          590210696,
          528784,
          1645728,
          8731240,
          32966688,
          72735688,
          128041808,
          1523248,
          4748888,
          25177680,
          95066472,
          209753896,
          369243408,
          2818264,
          8789768,
          46597408,
          175977456,
          388137208,
          683262760,
          3437352,
          10718392,
          56822944,
          214587184,
          473466576,
          833473088,
          753352,
          2345648,
          12421608,
          46898472,
          103473856,
          182151376,
          2786688,
          8691584,
          46077368,
          174014424,
          383876408,
          675762376,
          5218304,
          16272912,
          86265736,
          325662880,
          718756184,
          1265271072,
          6436144,
          20063864,
          106407592,
          401715216,
          886348144,
          1560664192,
          886016,
          2757672,
          14611352,
          55132560,
          121711000,
          214254680,
          3582320,
          11170784,
          59239352,
          223647904,
          493598960,
          868913520,
          6805272,
          21221424,
          112502488,
          424887432,
          937264976,
          1650296000,
          8677512,
          27066528,
          143516000,
          541869984,
          1195801656,
          2105044960,
          320520,
          1088504,
          3392504,
          11840480,
          67873480,
          149824696,
          263746208,
          595072,
          1853280,
          9821856,
          37083688,
          81748864,
          144031600,
          1081968,
          3367616,
          17826480,
          67366352,
          148632936,
          261646704,
          1707808,
          5312672,
          28146816,
          106264696,
          234526264,
          412848248,
          2562280,
          7973312,
          42246296,
          159528560,
          351975920,
          619600440,
          3508344,
          10921424,
          57855936,
          218427552,
          848483648,
          4640880,
          14445776,
          76537008,
          288987008,
          637537056,
          1122162328,
          5897640,
          18350992,
          97242216,
          367059288,
          809861960,
          1425883992,
          7621136,
          23725896,
          125727824,
          474645408,
          1047169816,
          1843630328,
          9221560,
          28705544,
          152084584,
          574214264,
          1266853872,
          2229978768,
          10955608,
          34100848,
          180676008,
          682123240,
          1505149440,
          753320,
          462408,
          1441264,
          7640552,
          28817752,
          63652184,
          112051912,
          1088504,
          3392504,
          17976040,
          67873480,
          149824696,
          263746208,
          1916960,
          5973624,
          31669224,
          119544216,
          263831424,
          464562608,
          2402024,
          7485992,
          39699408,
          149898664,
          330736432,
          582339984,
          594064,
          1853288,
          9821856,
          37083696,
          81819080,
          144031608,
          1724376,
          5371216,
          28467600,
          107450576,
          237005368,
          417337704,
          3285872,
          10236288,
          54250040,
          204861680,
          452003520,
          795687400,
          4037144,
          12573744,
          66673736,
          251705568,
          555359376,
          977630256,
          64560,
          65992,
          166840,
          780928,
          1446920,
          3392504,
          320520,
          449032,
          449032,
          655948480,
          279840,
          279840,
          279840,
          397304,
          17976040,
          619600440,
          397304,
          1645231120,
          42246296,
          397304,
          17976040,
          69899632,
          1038952784,
          542001256,
          397304,
          1450012360,
          93867160,
          655948480
         ],
         "xaxis": "x",
         "y": [
          13.355049133300781,
          37.867849349975586,
          184.73136472702026,
          540.3303899765015,
          1184.1559948921204,
          3053.4778621196747,
          19.05313491821289,
          41.18612623214722,
          175.09659004211426,
          668.8263988494873,
          1453.5478610992432,
          10.444416999816895,
          7.936363935470581,
          24.721357822418213,
          98.35185599327087,
          181.10168409347534,
          349.7658622264862,
          11.03435492515564,
          26.82018494606018,
          127.43525075912476,
          363.49423003196716,
          824.884379863739,
          1520.4061467647552,
          15.880061864852905,
          52.3693950176239,
          192.6121211051941,
          1050.7443861961365,
          2070.4739956855774,
          24.643029928207397,
          67.81295204162598,
          247.16174721717834,
          917.933522939682,
          2041.9886021614075,
          14.389978170394897,
          6.841885089874268,
          21.522478103637695,
          74.25684785842896,
          129.87300395965576,
          245.6693413257599,
          16.41322898864746,
          50.07238984107971,
          132.29074621200562,
          669.1359302997589,
          2653.217132091522,
          43.44885206222534,
          126.52635431289673,
          649.7637240886688,
          1916.4393649101257,
          53.194738149642944,
          779.5694541931152,
          4.377569913864136,
          12.596537113189697,
          8.597669124603271,
          25.972665786743164,
          70.18876886367798,
          108.50822520256042,
          8.898804903030396,
          11.82152271270752,
          36.17526412010193,
          78.40701794624329,
          180.0335328578949,
          442.20781898498535,
          8.29421591758728,
          11.368077278137207,
          42.14758610725403,
          9.987947940826416,
          15.907324075698853,
          64.33643889427185,
          223.84878396987915,
          487.3384299278259,
          681.0893440246582,
          4.606969118118286,
          8.677082061767578,
          14.318968057632446,
          9.831514120101929,
          7.061061859130859,
          16.273133039474487,
          44.56875801086426,
          110.40635180473328,
          217.6164300441742,
          9.521569013595581,
          21.54183292388916,
          93.03209686279297,
          355.6355118751526,
          787.8246500492096,
          1426.890065908432,
          23.41627597808838,
          73.06505393981934,
          338.15138506889343,
          1258.2988691329956,
          2779.5187940597534,
          29.282078981399536,
          61.22274994850159,
          409.21897983551025,
          1217.4596269130707,
          9.128278970718384,
          12.233699083328247,
          43.31435704231262,
          99.44064736366272,
          180.22084093093872,
          5.779011964797974,
          9.746755838394165,
          51.27236294746399,
          186.07059788703918,
          405.7508978843689,
          725.7925891876221,
          14.02959418296814,
          18.43695592880249,
          88.98016595840454,
          328.23983573913574,
          659.4140088558197,
          1196.9335219860077,
          20.08306622505188,
          21.741666078567505,
          80.90683269500732,
          360.967894077301,
          612.5772397518158,
          1463.1154971122742,
          9.78044080734253,
          5.825403213500977,
          20.648266077041626,
          58.797529220581055,
          159.94157600402832,
          278.6617410182953,
          15.511430025100708,
          15.820648193359375,
          99.24070906639099,
          268.1437530517578,
          795.2227220535278,
          1554.8615081310272,
          13.20597791671753,
          30.20873713493347,
          150.05132007598877,
          524.215362071991,
          1145.6799471378326,
          2041.502469778061,
          21.504997968673706,
          42.61978197097778,
          139.08153176307678,
          648.5850069522858,
          1061.8066239356995,
          1911.5277910232544,
          5.835824966430664,
          5.858354091644287,
          42.32416892051697,
          81.7067141532898,
          199.20647287368774,
          365.05990290641785,
          7.037990093231201,
          24.265270948410034,
          75.50370526313782,
          277.71429085731506,
          613.7663040161133,
          1098.8790490627289,
          18.881781816482544,
          40.38231182098389,
          144.12112092971802,
          542.4795989990234,
          1184.0407092571259,
          2092.2700951099396,
          25.428191900253296,
          40.006489992141724,
          180.0109088420868,
          675.1154119968414,
          1471.1456768512726,
          5.057037115097046,
          12.263213157653809,
          18.26677918434143,
          67.44125890731812,
          151.65613389015198,
          289.17519092559814,
          13.34023666381836,
          23.385180234909058,
          75.62930107116699,
          269.45092511177063,
          599.601616859436,
          1073.057153224945,
          4.483877897262573,
          4.8590168952941895,
          15.969666004180908,
          34.06532883644104,
          51.492071866989136,
          107.29007005691528,
          13.82313585281372,
          12.014938831329346,
          25.0669949054718,
          63.54773211479187,
          132.9150071144104,
          262.5277187824249,
          5.077137231826782,
          6.620547771453857,
          35.23655915260315,
          99.32575607299805,
          234.63515424728394,
          423.8172917366028,
          6.502980709075928,
          14.107156991958618,
          32.55088996887207,
          117.23596906661987,
          262.5081160068512,
          495.1182441711426,
          4.554676055908203,
          8.99204397201538,
          11.490822076797485,
          26.957556009292603,
          67.7086570262909,
          127.48056983947754,
          8.19507098197937,
          12.135694980621338,
          22.070729970932007,
          71.89621901512146,
          176.26561903953552,
          342.7421336174011,
          8.908841133117676,
          9.728323221206665,
          48.86094284057617,
          147.2003209590912,
          311.1372900009155,
          577.5208413600922,
          14.70076608657837,
          12.495067834854126,
          66.8988139629364,
          175.5993368625641,
          379.2344090938568,
          693.80446600914,
          5.354863882064819,
          6.371426820755005,
          15.066334247589111,
          54.08263278007507,
          108.62548184394836,
          210.12783789634705,
          8.712882041931152,
          11.840161085128784,
          50.59125018119812,
          135.48859405517578,
          317.8292260169983,
          582.7117478847504,
          13.679145097732544,
          25.261499166488647,
          76.07394504547119,
          261.01211380958557,
          598.3644027709961,
          1067.1576399803162,
          23.00193476676941,
          29.213556051254272,
          120.74762392044067,
          320.2651813030243,
          732.2350919246674,
          1308.1712222099304,
          8.564436912536621,
          16.276899814605713,
          17.535876035690308,
          59.86682415008545,
          99.75296783447266,
          195.77522683143616,
          6.097679138183594,
          16.47749090194702,
          56.81903791427612,
          177.13389420509338,
          416.8787188529968,
          772.4319417476654,
          9.831166982650757,
          24.901984930038452,
          94.16315817832947,
          343.05852699279785,
          767.9555261135101,
          1389.728628873825,
          14.169596910476685,
          30.68316912651062,
          162.0081911087036,
          585.2273168563843,
          1286.1480531692505,
          2302.2676899433136,
          4.732522249221802,
          21.75633192062378,
          7.8389670848846436,
          16.811614990234375,
          55.54687309265137,
          119.49066495895386,
          290.8186810016632,
          4.3004021644592285,
          6.450843095779419,
          11.93661904335022,
          33.825202226638794,
          69.5641222000122,
          144.59999799728394,
          4.453384160995483,
          6.449402093887329,
          21.639080047607422,
          69.01097083091736,
          185.88106489181519,
          273.3967387676239,
          10.86008620262146,
          13.208018064498901,
          32.00634813308716,
          100.09489703178406,
          238.14782404899597,
          456.03606605529785,
          9.51010775566101,
          16.279696702957153,
          42.96391797065735,
          160.43953108787537,
          366.2138569355011,
          666.2526741027832,
          16.99243187904358,
          29.587578058242798,
          61.46893000602722,
          227.2653796672821,
          928.5290699005127,
          20.274810075759888,
          35.002217054367065,
          109.02304720878601,
          318.24221420288086,
          1020.8966951370239,
          1237.4921259880066,
          14.872718811035156,
          22.86620807647705,
          165.49574303627014,
          393.8108768463135,
          889.1247940063477,
          1598.5612299442291,
          22.116859912872314,
          28.011734008789062,
          134.97399997711182,
          513.9038391113281,
          1502.3337740898132,
          2740.195519924164,
          18.294458866119385,
          48.008519887924194,
          184.4108281135559,
          650.1579148769379,
          1413.5192329883575,
          2502.8216240406036,
          26.419710874557495,
          47.043566942214966,
          210.70538091659546,
          776.8334348201752,
          1712.1881051063538,
          9.829087972640991,
          4.299186944961548,
          14.791791915893555,
          8.822709083557129,
          21.058454990386963,
          57.340734243392944,
          108.05170893669128,
          10.136564016342163,
          7.063634157180786,
          15.859570026397705,
          61.87190389633179,
          118.45690298080444,
          231.7140989303589,
          5.678240060806274,
          12.289594888687134,
          37.490821838378906,
          110.61566209793091,
          223.11818480491638,
          546.0167162418365,
          16.878556728363037,
          12.28784728050232,
          569.2697398662567,
          129.6148579120636,
          269.9851779937744,
          687.7465536594391,
          8.537957906723022,
          14.745991945266724,
          10.363563060760498,
          35.838565826416016,
          94.79964399337769,
          171.67375111579895,
          5.8520591259002686,
          13.416324853897095,
          37.625683069229126,
          85.29776906967163,
          272.2932639122009,
          506.04198598861694,
          11.740760087966919,
          19.777623176574707,
          62.372429847717285,
          168.14670991897583,
          516.7945110797882,
          904.9616641998291,
          22.50765371322632,
          29.99107789993286,
          74.45855069160461,
          277.9825940132141,
          624.6854040622711,
          1105.0159049034119,
          18.739123106002808,
          7.246223211288452,
          2.747313976287842,
          4.400530099868774,
          5.013135194778442,
          11.307846069335938,
          3.943665027618408,
          2.764408826828003,
          4.620367050170898,
          685.9833834171295,
          8.603007078170776,
          8.245922088623047,
          9.216390132904053,
          5.735275030136108,
          18.34817862510681,
          757.3622105121613,
          3.2078018188476562,
          3584.6269810199738,
          52.73266291618347,
          5.222230911254883,
          17.855452060699463,
          54.35140371322632,
          983.395090341568,
          555.8315162658691,
          3.7913107872009277,
          2706.1354999542236,
          140.25524640083313,
          685.9833834171295
         ],
         "yaxis": "y"
        },
        {
         "hovertemplate": "color=OOM<br>x=%{x}<br>y=%{y}<extra></extra>",
         "legendgroup": "OOM",
         "marker": {
          "color": "#EF553B",
          "size": 12,
          "symbol": "circle"
         },
         "mode": "markers",
         "name": "OOM",
         "orientation": "v",
         "showlegend": true,
         "type": "scatter",
         "x": [
          2844273952,
          1215683288,
          2880768472,
          3179347408,
          2685648472,
          3026525264
         ],
         "xaxis": "x",
         "y": [
          3256.736222743988,
          1122.2365140914917,
          2701.188280105591,
          2400.9473979473114,
          2450.1621840000153,
          1988.1564009189606
         ],
         "yaxis": "y"
        },
        {
         "hovertemplate": "color=Runtime: Cancelled - Ran too long<br>x=%{x}<br>y=%{y}<extra></extra>",
         "legendgroup": "Runtime: Cancelled - Ran too long",
         "marker": {
          "color": "#00cc96",
          "size": 12,
          "symbol": "circle"
         },
         "mode": "markers",
         "name": "Runtime: Cancelled - Ran too long",
         "orientation": "v",
         "showlegend": true,
         "type": "scatter",
         "x": [
          3129700944,
          2649460544,
          2395789240
         ],
         "xaxis": "x",
         "y": [
          3601.2379310131073,
          3606.4868338108063,
          3590.813385486603
         ],
         "yaxis": "y"
        },
        {
         "hovertemplate": "color=Unknown Error<br>x=%{x}<br>y=%{y}<extra></extra>",
         "legendgroup": "Unknown Error",
         "marker": {
          "color": "#ab63fa",
          "size": 12,
          "symbol": "circle"
         },
         "mode": "markers",
         "name": "Unknown Error",
         "orientation": "v",
         "showlegend": true,
         "type": "scatter",
         "x": [
          4266056112,
          330179000,
          4727542384,
          481927736,
          3881463848,
          3881463848
         ],
         "xaxis": "x",
         "y": [
          0,
          0,
          0,
          703.1356508731842,
          0,
          0
         ],
         "yaxis": "y"
        },
        {
         "hovertemplate": "color=Payload Too Large<br>x=%{x}<br>y=%{y}<extra></extra>",
         "legendgroup": "Payload Too Large",
         "marker": {
          "color": "#FFA15A",
          "size": 12,
          "symbol": "circle"
         },
         "mode": "markers",
         "name": "Payload Too Large",
         "orientation": "v",
         "showlegend": true,
         "type": "scatter",
         "x": [
          6631575536
         ],
         "xaxis": "x",
         "y": [
          0
         ],
         "yaxis": "y"
        }
       ],
       "layout": {
        "legend": {
         "title": {
          "text": "color"
         },
         "tracegroupgap": 0
        },
        "margin": {
         "t": 60
        },
        "shapes": [
         {
          "fillcolor": "green",
          "line": {
           "dash": "dash",
           "width": 1
          },
          "type": "line",
          "x0": 0,
          "x1": 1,
          "xref": "x domain",
          "y0": 3590.813385486603,
          "y1": 3590.813385486603,
          "yref": "y"
         },
         {
          "fillcolor": "red",
          "line": {
           "color": "red",
           "width": 0
          },
          "opacity": 0.2,
          "type": "rect",
          "x0": 6299996759.2,
          "x1": 6963154312.8,
          "xref": "x",
          "y0": 0,
          "y1": 1,
          "yref": "y domain"
         }
        ],
        "template": {
         "data": {
          "bar": [
           {
            "error_x": {
             "color": "#2a3f5f"
            },
            "error_y": {
             "color": "#2a3f5f"
            },
            "marker": {
             "line": {
              "color": "#E5ECF6",
              "width": 0.5
             },
             "pattern": {
              "fillmode": "overlay",
              "size": 10,
              "solidity": 0.2
             }
            },
            "type": "bar"
           }
          ],
          "barpolar": [
           {
            "marker": {
             "line": {
              "color": "#E5ECF6",
              "width": 0.5
             },
             "pattern": {
              "fillmode": "overlay",
              "size": 10,
              "solidity": 0.2
             }
            },
            "type": "barpolar"
           }
          ],
          "carpet": [
           {
            "aaxis": {
             "endlinecolor": "#2a3f5f",
             "gridcolor": "white",
             "linecolor": "white",
             "minorgridcolor": "white",
             "startlinecolor": "#2a3f5f"
            },
            "baxis": {
             "endlinecolor": "#2a3f5f",
             "gridcolor": "white",
             "linecolor": "white",
             "minorgridcolor": "white",
             "startlinecolor": "#2a3f5f"
            },
            "type": "carpet"
           }
          ],
          "choropleth": [
           {
            "colorbar": {
             "outlinewidth": 0,
             "ticks": ""
            },
            "type": "choropleth"
           }
          ],
          "contour": [
           {
            "colorbar": {
             "outlinewidth": 0,
             "ticks": ""
            },
            "colorscale": [
             [
              0,
              "#0d0887"
             ],
             [
              0.1111111111111111,
              "#46039f"
             ],
             [
              0.2222222222222222,
              "#7201a8"
             ],
             [
              0.3333333333333333,
              "#9c179e"
             ],
             [
              0.4444444444444444,
              "#bd3786"
             ],
             [
              0.5555555555555556,
              "#d8576b"
             ],
             [
              0.6666666666666666,
              "#ed7953"
             ],
             [
              0.7777777777777778,
              "#fb9f3a"
             ],
             [
              0.8888888888888888,
              "#fdca26"
             ],
             [
              1,
              "#f0f921"
             ]
            ],
            "type": "contour"
           }
          ],
          "contourcarpet": [
           {
            "colorbar": {
             "outlinewidth": 0,
             "ticks": ""
            },
            "type": "contourcarpet"
           }
          ],
          "heatmap": [
           {
            "colorbar": {
             "outlinewidth": 0,
             "ticks": ""
            },
            "colorscale": [
             [
              0,
              "#0d0887"
             ],
             [
              0.1111111111111111,
              "#46039f"
             ],
             [
              0.2222222222222222,
              "#7201a8"
             ],
             [
              0.3333333333333333,
              "#9c179e"
             ],
             [
              0.4444444444444444,
              "#bd3786"
             ],
             [
              0.5555555555555556,
              "#d8576b"
             ],
             [
              0.6666666666666666,
              "#ed7953"
             ],
             [
              0.7777777777777778,
              "#fb9f3a"
             ],
             [
              0.8888888888888888,
              "#fdca26"
             ],
             [
              1,
              "#f0f921"
             ]
            ],
            "type": "heatmap"
           }
          ],
          "heatmapgl": [
           {
            "colorbar": {
             "outlinewidth": 0,
             "ticks": ""
            },
            "colorscale": [
             [
              0,
              "#0d0887"
             ],
             [
              0.1111111111111111,
              "#46039f"
             ],
             [
              0.2222222222222222,
              "#7201a8"
             ],
             [
              0.3333333333333333,
              "#9c179e"
             ],
             [
              0.4444444444444444,
              "#bd3786"
             ],
             [
              0.5555555555555556,
              "#d8576b"
             ],
             [
              0.6666666666666666,
              "#ed7953"
             ],
             [
              0.7777777777777778,
              "#fb9f3a"
             ],
             [
              0.8888888888888888,
              "#fdca26"
             ],
             [
              1,
              "#f0f921"
             ]
            ],
            "type": "heatmapgl"
           }
          ],
          "histogram": [
           {
            "marker": {
             "pattern": {
              "fillmode": "overlay",
              "size": 10,
              "solidity": 0.2
             }
            },
            "type": "histogram"
           }
          ],
          "histogram2d": [
           {
            "colorbar": {
             "outlinewidth": 0,
             "ticks": ""
            },
            "colorscale": [
             [
              0,
              "#0d0887"
             ],
             [
              0.1111111111111111,
              "#46039f"
             ],
             [
              0.2222222222222222,
              "#7201a8"
             ],
             [
              0.3333333333333333,
              "#9c179e"
             ],
             [
              0.4444444444444444,
              "#bd3786"
             ],
             [
              0.5555555555555556,
              "#d8576b"
             ],
             [
              0.6666666666666666,
              "#ed7953"
             ],
             [
              0.7777777777777778,
              "#fb9f3a"
             ],
             [
              0.8888888888888888,
              "#fdca26"
             ],
             [
              1,
              "#f0f921"
             ]
            ],
            "type": "histogram2d"
           }
          ],
          "histogram2dcontour": [
           {
            "colorbar": {
             "outlinewidth": 0,
             "ticks": ""
            },
            "colorscale": [
             [
              0,
              "#0d0887"
             ],
             [
              0.1111111111111111,
              "#46039f"
             ],
             [
              0.2222222222222222,
              "#7201a8"
             ],
             [
              0.3333333333333333,
              "#9c179e"
             ],
             [
              0.4444444444444444,
              "#bd3786"
             ],
             [
              0.5555555555555556,
              "#d8576b"
             ],
             [
              0.6666666666666666,
              "#ed7953"
             ],
             [
              0.7777777777777778,
              "#fb9f3a"
             ],
             [
              0.8888888888888888,
              "#fdca26"
             ],
             [
              1,
              "#f0f921"
             ]
            ],
            "type": "histogram2dcontour"
           }
          ],
          "mesh3d": [
           {
            "colorbar": {
             "outlinewidth": 0,
             "ticks": ""
            },
            "type": "mesh3d"
           }
          ],
          "parcoords": [
           {
            "line": {
             "colorbar": {
              "outlinewidth": 0,
              "ticks": ""
             }
            },
            "type": "parcoords"
           }
          ],
          "pie": [
           {
            "automargin": true,
            "type": "pie"
           }
          ],
          "scatter": [
           {
            "fillpattern": {
             "fillmode": "overlay",
             "size": 10,
             "solidity": 0.2
            },
            "type": "scatter"
           }
          ],
          "scatter3d": [
           {
            "line": {
             "colorbar": {
              "outlinewidth": 0,
              "ticks": ""
             }
            },
            "marker": {
             "colorbar": {
              "outlinewidth": 0,
              "ticks": ""
             }
            },
            "type": "scatter3d"
           }
          ],
          "scattercarpet": [
           {
            "marker": {
             "colorbar": {
              "outlinewidth": 0,
              "ticks": ""
             }
            },
            "type": "scattercarpet"
           }
          ],
          "scattergeo": [
           {
            "marker": {
             "colorbar": {
              "outlinewidth": 0,
              "ticks": ""
             }
            },
            "type": "scattergeo"
           }
          ],
          "scattergl": [
           {
            "marker": {
             "colorbar": {
              "outlinewidth": 0,
              "ticks": ""
             }
            },
            "type": "scattergl"
           }
          ],
          "scattermapbox": [
           {
            "marker": {
             "colorbar": {
              "outlinewidth": 0,
              "ticks": ""
             }
            },
            "type": "scattermapbox"
           }
          ],
          "scatterpolar": [
           {
            "marker": {
             "colorbar": {
              "outlinewidth": 0,
              "ticks": ""
             }
            },
            "type": "scatterpolar"
           }
          ],
          "scatterpolargl": [
           {
            "marker": {
             "colorbar": {
              "outlinewidth": 0,
              "ticks": ""
             }
            },
            "type": "scatterpolargl"
           }
          ],
          "scatterternary": [
           {
            "marker": {
             "colorbar": {
              "outlinewidth": 0,
              "ticks": ""
             }
            },
            "type": "scatterternary"
           }
          ],
          "surface": [
           {
            "colorbar": {
             "outlinewidth": 0,
             "ticks": ""
            },
            "colorscale": [
             [
              0,
              "#0d0887"
             ],
             [
              0.1111111111111111,
              "#46039f"
             ],
             [
              0.2222222222222222,
              "#7201a8"
             ],
             [
              0.3333333333333333,
              "#9c179e"
             ],
             [
              0.4444444444444444,
              "#bd3786"
             ],
             [
              0.5555555555555556,
              "#d8576b"
             ],
             [
              0.6666666666666666,
              "#ed7953"
             ],
             [
              0.7777777777777778,
              "#fb9f3a"
             ],
             [
              0.8888888888888888,
              "#fdca26"
             ],
             [
              1,
              "#f0f921"
             ]
            ],
            "type": "surface"
           }
          ],
          "table": [
           {
            "cells": {
             "fill": {
              "color": "#EBF0F8"
             },
             "line": {
              "color": "white"
             }
            },
            "header": {
             "fill": {
              "color": "#C8D4E3"
             },
             "line": {
              "color": "white"
             }
            },
            "type": "table"
           }
          ]
         },
         "layout": {
          "annotationdefaults": {
           "arrowcolor": "#2a3f5f",
           "arrowhead": 0,
           "arrowwidth": 1
          },
          "autotypenumbers": "strict",
          "coloraxis": {
           "colorbar": {
            "outlinewidth": 0,
            "ticks": ""
           }
          },
          "colorscale": {
           "diverging": [
            [
             0,
             "#8e0152"
            ],
            [
             0.1,
             "#c51b7d"
            ],
            [
             0.2,
             "#de77ae"
            ],
            [
             0.3,
             "#f1b6da"
            ],
            [
             0.4,
             "#fde0ef"
            ],
            [
             0.5,
             "#f7f7f7"
            ],
            [
             0.6,
             "#e6f5d0"
            ],
            [
             0.7,
             "#b8e186"
            ],
            [
             0.8,
             "#7fbc41"
            ],
            [
             0.9,
             "#4d9221"
            ],
            [
             1,
             "#276419"
            ]
           ],
           "sequential": [
            [
             0,
             "#0d0887"
            ],
            [
             0.1111111111111111,
             "#46039f"
            ],
            [
             0.2222222222222222,
             "#7201a8"
            ],
            [
             0.3333333333333333,
             "#9c179e"
            ],
            [
             0.4444444444444444,
             "#bd3786"
            ],
            [
             0.5555555555555556,
             "#d8576b"
            ],
            [
             0.6666666666666666,
             "#ed7953"
            ],
            [
             0.7777777777777778,
             "#fb9f3a"
            ],
            [
             0.8888888888888888,
             "#fdca26"
            ],
            [
             1,
             "#f0f921"
            ]
           ],
           "sequentialminus": [
            [
             0,
             "#0d0887"
            ],
            [
             0.1111111111111111,
             "#46039f"
            ],
            [
             0.2222222222222222,
             "#7201a8"
            ],
            [
             0.3333333333333333,
             "#9c179e"
            ],
            [
             0.4444444444444444,
             "#bd3786"
            ],
            [
             0.5555555555555556,
             "#d8576b"
            ],
            [
             0.6666666666666666,
             "#ed7953"
            ],
            [
             0.7777777777777778,
             "#fb9f3a"
            ],
            [
             0.8888888888888888,
             "#fdca26"
            ],
            [
             1,
             "#f0f921"
            ]
           ]
          },
          "colorway": [
           "#636efa",
           "#EF553B",
           "#00cc96",
           "#ab63fa",
           "#FFA15A",
           "#19d3f3",
           "#FF6692",
           "#B6E880",
           "#FF97FF",
           "#FECB52"
          ],
          "font": {
           "color": "#2a3f5f"
          },
          "geo": {
           "bgcolor": "white",
           "lakecolor": "white",
           "landcolor": "#E5ECF6",
           "showlakes": true,
           "showland": true,
           "subunitcolor": "white"
          },
          "hoverlabel": {
           "align": "left"
          },
          "hovermode": "closest",
          "mapbox": {
           "style": "light"
          },
          "paper_bgcolor": "white",
          "plot_bgcolor": "#E5ECF6",
          "polar": {
           "angularaxis": {
            "gridcolor": "white",
            "linecolor": "white",
            "ticks": ""
           },
           "bgcolor": "#E5ECF6",
           "radialaxis": {
            "gridcolor": "white",
            "linecolor": "white",
            "ticks": ""
           }
          },
          "scene": {
           "xaxis": {
            "backgroundcolor": "#E5ECF6",
            "gridcolor": "white",
            "gridwidth": 2,
            "linecolor": "white",
            "showbackground": true,
            "ticks": "",
            "zerolinecolor": "white"
           },
           "yaxis": {
            "backgroundcolor": "#E5ECF6",
            "gridcolor": "white",
            "gridwidth": 2,
            "linecolor": "white",
            "showbackground": true,
            "ticks": "",
            "zerolinecolor": "white"
           },
           "zaxis": {
            "backgroundcolor": "#E5ECF6",
            "gridcolor": "white",
            "gridwidth": 2,
            "linecolor": "white",
            "showbackground": true,
            "ticks": "",
            "zerolinecolor": "white"
           }
          },
          "shapedefaults": {
           "line": {
            "color": "#2a3f5f"
           }
          },
          "ternary": {
           "aaxis": {
            "gridcolor": "white",
            "linecolor": "white",
            "ticks": ""
           },
           "baxis": {
            "gridcolor": "white",
            "linecolor": "white",
            "ticks": ""
           },
           "bgcolor": "#E5ECF6",
           "caxis": {
            "gridcolor": "white",
            "linecolor": "white",
            "ticks": ""
           }
          },
          "title": {
           "x": 0.05
          },
          "xaxis": {
           "automargin": true,
           "gridcolor": "white",
           "linecolor": "white",
           "ticks": "",
           "title": {
            "standoff": 15
           },
           "zerolinecolor": "white",
           "zerolinewidth": 2
          },
          "yaxis": {
           "automargin": true,
           "gridcolor": "white",
           "linecolor": "white",
           "ticks": "",
           "title": {
            "standoff": 15
           },
           "zerolinecolor": "white",
           "zerolinewidth": 2
          }
         }
        },
        "title": {
         "text": "Payload per Runtime seconds"
        },
        "xaxis": {
         "anchor": "y",
         "domain": [
          0,
          1
         ],
         "title": {
          "text": "Payload (byte)"
         }
        },
        "yaxis": {
         "anchor": "x",
         "domain": [
          0,
          1
         ],
         "title": {
          "text": "Runtime seconds"
         }
        }
       }
      },
      "text/html": [
       "<div>                            <div id=\"000639b2-b863-48d2-92e5-97eee0b29605\" class=\"plotly-graph-div\" style=\"height:525px; width:100%;\"></div>            <script type=\"text/javascript\">                require([\"plotly\"], function(Plotly) {                    window.PLOTLYENV=window.PLOTLYENV || {};                                    if (document.getElementById(\"000639b2-b863-48d2-92e5-97eee0b29605\")) {                    Plotly.newPlot(                        \"000639b2-b863-48d2-92e5-97eee0b29605\",                        [{\"hovertemplate\":\"color=SUCCESS<br>x=%{x}<br>y=%{y}<extra></extra>\",\"legendgroup\":\"SUCCESS\",\"marker\":{\"color\":\"#636efa\",\"symbol\":\"circle\",\"size\":12},\"mode\":\"markers\",\"name\":\"SUCCESS\",\"orientation\":\"v\",\"showlegend\":true,\"x\":[9550392,29708224,157366048,594128464,1310851144,2307545936,11774016,36616728,193989400,732354080,1615892488,1292664,4020776,21298600,80407792,177405640,312295560,6783320,21100344,111778240,421992856,931061032,1638986360,12957456,40298952,213441200,805749984,1777966456,16130176,50164008,265693600,1003044040,2213263832,1159464,3608712,19117224,72173624,159238656,280315776,8852592,27546080,145937296,550929096,2139897384,31054968,96659560,512155400,1933589200,46276480,763044328,462512,1441368,7632232,28849680,63582064,112051992,1315336,4095280,21692960,81901992,180704592,318227952,2401872,7477744,39636416,2916816,9082152,48120976,181681232,400925248,705893192,595160,1853384,9821968,753320,2344008,12430008,46930248,103544072,182274976,4074584,12678264,67151112,253549184,559557864,984767712,13151104,40927504,216832416,818587024,1806163816,19555008,60851472,322416224,1217169448,595160,9821968,37083776,81819184,144031712,2241920,6976152,36971120,139580936,307964352,542001256,4131720,12856280,68103656,257082256,567423568,998861464,5071888,15780808,83603928,315663176,696392344,1226014128,1021464,3178272,16837712,63568328,140252552,246893856,4824264,15002760,79478216,300015600,661935040,1165231592,7451016,23212504,123028600,464473856,1024735824,1803896720,9246056,28797808,152648328,576241824,1271479496,2238376040,1292632,4019144,21298520,80407768,177335312,312295496,4979360,15498608,82143920,310130920,684261592,1204539248,10090400,31425112,166536312,628765040,1387362760,2442245664,12505936,38945216,206397520,779293432,1719203760,1020880,3176576,16829200,63568256,140252472,246770152,3692312,11494824,60913792,230011424,507419040,893235536,461936,1441304,7640600,28849624,63652240,112051944,1120616,3493384,18504000,69899632,154295696,271493352,1947992,6076104,32205536,121634008,268302408,472309744,2434120,7586888,40252624,151956608,335347848,590210696,528784,1645728,8731240,32966688,72735688,128041808,1523248,4748888,25177680,95066472,209753896,369243408,2818264,8789768,46597408,175977456,388137208,683262760,3437352,10718392,56822944,214587184,473466576,833473088,753352,2345648,12421608,46898472,103473856,182151376,2786688,8691584,46077368,174014424,383876408,675762376,5218304,16272912,86265736,325662880,718756184,1265271072,6436144,20063864,106407592,401715216,886348144,1560664192,886016,2757672,14611352,55132560,121711000,214254680,3582320,11170784,59239352,223647904,493598960,868913520,6805272,21221424,112502488,424887432,937264976,1650296000,8677512,27066528,143516000,541869984,1195801656,2105044960,320520,1088504,3392504,11840480,67873480,149824696,263746208,595072,1853280,9821856,37083688,81748864,144031600,1081968,3367616,17826480,67366352,148632936,261646704,1707808,5312672,28146816,106264696,234526264,412848248,2562280,7973312,42246296,159528560,351975920,619600440,3508344,10921424,57855936,218427552,848483648,4640880,14445776,76537008,288987008,637537056,1122162328,5897640,18350992,97242216,367059288,809861960,1425883992,7621136,23725896,125727824,474645408,1047169816,1843630328,9221560,28705544,152084584,574214264,1266853872,2229978768,10955608,34100848,180676008,682123240,1505149440,753320,462408,1441264,7640552,28817752,63652184,112051912,1088504,3392504,17976040,67873480,149824696,263746208,1916960,5973624,31669224,119544216,263831424,464562608,2402024,7485992,39699408,149898664,330736432,582339984,594064,1853288,9821856,37083696,81819080,144031608,1724376,5371216,28467600,107450576,237005368,417337704,3285872,10236288,54250040,204861680,452003520,795687400,4037144,12573744,66673736,251705568,555359376,977630256,64560,65992,166840,780928,1446920,3392504,320520,449032,449032,655948480,279840,279840,279840,397304,17976040,619600440,397304,1645231120,42246296,397304,17976040,69899632,1038952784,542001256,397304,1450012360,93867160,655948480],\"xaxis\":\"x\",\"y\":[13.355049133300781,37.867849349975586,184.73136472702026,540.3303899765015,1184.1559948921204,3053.4778621196747,19.05313491821289,41.18612623214722,175.09659004211426,668.8263988494873,1453.5478610992432,10.444416999816895,7.936363935470581,24.721357822418213,98.35185599327087,181.10168409347534,349.7658622264862,11.03435492515564,26.82018494606018,127.43525075912476,363.49423003196716,824.884379863739,1520.4061467647552,15.880061864852905,52.3693950176239,192.6121211051941,1050.7443861961365,2070.4739956855774,24.643029928207397,67.81295204162598,247.16174721717834,917.933522939682,2041.9886021614075,14.389978170394897,6.841885089874268,21.522478103637695,74.25684785842896,129.87300395965576,245.6693413257599,16.41322898864746,50.07238984107971,132.29074621200562,669.1359302997589,2653.217132091522,43.44885206222534,126.52635431289673,649.7637240886688,1916.4393649101257,53.194738149642944,779.5694541931152,4.377569913864136,12.596537113189697,8.597669124603271,25.972665786743164,70.18876886367798,108.50822520256042,8.898804903030396,11.82152271270752,36.17526412010193,78.40701794624329,180.0335328578949,442.20781898498535,8.29421591758728,11.368077278137207,42.14758610725403,9.987947940826416,15.907324075698853,64.33643889427185,223.84878396987915,487.3384299278259,681.0893440246582,4.606969118118286,8.677082061767578,14.318968057632446,9.831514120101929,7.061061859130859,16.273133039474487,44.56875801086426,110.40635180473328,217.6164300441742,9.521569013595581,21.54183292388916,93.03209686279297,355.6355118751526,787.8246500492096,1426.890065908432,23.41627597808838,73.06505393981934,338.15138506889343,1258.2988691329956,2779.5187940597534,29.282078981399536,61.22274994850159,409.21897983551025,1217.4596269130707,9.128278970718384,12.233699083328247,43.31435704231262,99.44064736366272,180.22084093093872,5.779011964797974,9.746755838394165,51.27236294746399,186.07059788703918,405.7508978843689,725.7925891876221,14.02959418296814,18.43695592880249,88.98016595840454,328.23983573913574,659.4140088558197,1196.9335219860077,20.08306622505188,21.741666078567505,80.90683269500732,360.967894077301,612.5772397518158,1463.1154971122742,9.78044080734253,5.825403213500977,20.648266077041626,58.797529220581055,159.94157600402832,278.6617410182953,15.511430025100708,15.820648193359375,99.24070906639099,268.1437530517578,795.2227220535278,1554.8615081310272,13.20597791671753,30.20873713493347,150.05132007598877,524.215362071991,1145.6799471378326,2041.502469778061,21.504997968673706,42.61978197097778,139.08153176307678,648.5850069522858,1061.8066239356995,1911.5277910232544,5.835824966430664,5.858354091644287,42.32416892051697,81.7067141532898,199.20647287368774,365.05990290641785,7.037990093231201,24.265270948410034,75.50370526313782,277.71429085731506,613.7663040161133,1098.8790490627289,18.881781816482544,40.38231182098389,144.12112092971802,542.4795989990234,1184.0407092571259,2092.2700951099396,25.428191900253296,40.006489992141724,180.0109088420868,675.1154119968414,1471.1456768512726,5.057037115097046,12.263213157653809,18.26677918434143,67.44125890731812,151.65613389015198,289.17519092559814,13.34023666381836,23.385180234909058,75.62930107116699,269.45092511177063,599.601616859436,1073.057153224945,4.483877897262573,4.8590168952941895,15.969666004180908,34.06532883644104,51.492071866989136,107.29007005691528,13.82313585281372,12.014938831329346,25.0669949054718,63.54773211479187,132.9150071144104,262.5277187824249,5.077137231826782,6.620547771453857,35.23655915260315,99.32575607299805,234.63515424728394,423.8172917366028,6.502980709075928,14.107156991958618,32.55088996887207,117.23596906661987,262.5081160068512,495.1182441711426,4.554676055908203,8.99204397201538,11.490822076797485,26.957556009292603,67.7086570262909,127.48056983947754,8.19507098197937,12.135694980621338,22.070729970932007,71.89621901512146,176.26561903953552,342.7421336174011,8.908841133117676,9.728323221206665,48.86094284057617,147.2003209590912,311.1372900009155,577.5208413600922,14.70076608657837,12.495067834854126,66.8988139629364,175.5993368625641,379.2344090938568,693.80446600914,5.354863882064819,6.371426820755005,15.066334247589111,54.08263278007507,108.62548184394836,210.12783789634705,8.712882041931152,11.840161085128784,50.59125018119812,135.48859405517578,317.8292260169983,582.7117478847504,13.679145097732544,25.261499166488647,76.07394504547119,261.01211380958557,598.3644027709961,1067.1576399803162,23.00193476676941,29.213556051254272,120.74762392044067,320.2651813030243,732.2350919246674,1308.1712222099304,8.564436912536621,16.276899814605713,17.535876035690308,59.86682415008545,99.75296783447266,195.77522683143616,6.097679138183594,16.47749090194702,56.81903791427612,177.13389420509338,416.8787188529968,772.4319417476654,9.831166982650757,24.901984930038452,94.16315817832947,343.05852699279785,767.9555261135101,1389.728628873825,14.169596910476685,30.68316912651062,162.0081911087036,585.2273168563843,1286.1480531692505,2302.2676899433136,4.732522249221802,21.75633192062378,7.8389670848846436,16.811614990234375,55.54687309265137,119.49066495895386,290.8186810016632,4.3004021644592285,6.450843095779419,11.93661904335022,33.825202226638794,69.5641222000122,144.59999799728394,4.453384160995483,6.449402093887329,21.639080047607422,69.01097083091736,185.88106489181519,273.3967387676239,10.86008620262146,13.208018064498901,32.00634813308716,100.09489703178406,238.14782404899597,456.03606605529785,9.51010775566101,16.279696702957153,42.96391797065735,160.43953108787537,366.2138569355011,666.2526741027832,16.99243187904358,29.587578058242798,61.46893000602722,227.2653796672821,928.5290699005127,20.274810075759888,35.002217054367065,109.02304720878601,318.24221420288086,1020.8966951370239,1237.4921259880066,14.872718811035156,22.86620807647705,165.49574303627014,393.8108768463135,889.1247940063477,1598.5612299442291,22.116859912872314,28.011734008789062,134.97399997711182,513.9038391113281,1502.3337740898132,2740.195519924164,18.294458866119385,48.008519887924194,184.4108281135559,650.1579148769379,1413.5192329883575,2502.8216240406036,26.419710874557495,47.043566942214966,210.70538091659546,776.8334348201752,1712.1881051063538,9.829087972640991,4.299186944961548,14.791791915893555,8.822709083557129,21.058454990386963,57.340734243392944,108.05170893669128,10.136564016342163,7.063634157180786,15.859570026397705,61.87190389633179,118.45690298080444,231.7140989303589,5.678240060806274,12.289594888687134,37.490821838378906,110.61566209793091,223.11818480491638,546.0167162418365,16.878556728363037,12.28784728050232,569.2697398662567,129.6148579120636,269.9851779937744,687.7465536594391,8.537957906723022,14.745991945266724,10.363563060760498,35.838565826416016,94.79964399337769,171.67375111579895,5.8520591259002686,13.416324853897095,37.625683069229126,85.29776906967163,272.2932639122009,506.04198598861694,11.740760087966919,19.777623176574707,62.372429847717285,168.14670991897583,516.7945110797882,904.9616641998291,22.50765371322632,29.99107789993286,74.45855069160461,277.9825940132141,624.6854040622711,1105.0159049034119,18.739123106002808,7.246223211288452,2.747313976287842,4.400530099868774,5.013135194778442,11.307846069335938,3.943665027618408,2.764408826828003,4.620367050170898,685.9833834171295,8.603007078170776,8.245922088623047,9.216390132904053,5.735275030136108,18.34817862510681,757.3622105121613,3.2078018188476562,3584.6269810199738,52.73266291618347,5.222230911254883,17.855452060699463,54.35140371322632,983.395090341568,555.8315162658691,3.7913107872009277,2706.1354999542236,140.25524640083313,685.9833834171295],\"yaxis\":\"y\",\"type\":\"scatter\"},{\"hovertemplate\":\"color=OOM<br>x=%{x}<br>y=%{y}<extra></extra>\",\"legendgroup\":\"OOM\",\"marker\":{\"color\":\"#EF553B\",\"symbol\":\"circle\",\"size\":12},\"mode\":\"markers\",\"name\":\"OOM\",\"orientation\":\"v\",\"showlegend\":true,\"x\":[2844273952,1215683288,2880768472,3179347408,2685648472,3026525264],\"xaxis\":\"x\",\"y\":[3256.736222743988,1122.2365140914917,2701.188280105591,2400.9473979473114,2450.1621840000153,1988.1564009189606],\"yaxis\":\"y\",\"type\":\"scatter\"},{\"hovertemplate\":\"color=Runtime: Cancelled - Ran too long<br>x=%{x}<br>y=%{y}<extra></extra>\",\"legendgroup\":\"Runtime: Cancelled - Ran too long\",\"marker\":{\"color\":\"#00cc96\",\"symbol\":\"circle\",\"size\":12},\"mode\":\"markers\",\"name\":\"Runtime: Cancelled - Ran too long\",\"orientation\":\"v\",\"showlegend\":true,\"x\":[3129700944,2649460544,2395789240],\"xaxis\":\"x\",\"y\":[3601.2379310131073,3606.4868338108063,3590.813385486603],\"yaxis\":\"y\",\"type\":\"scatter\"},{\"hovertemplate\":\"color=Unknown Error<br>x=%{x}<br>y=%{y}<extra></extra>\",\"legendgroup\":\"Unknown Error\",\"marker\":{\"color\":\"#ab63fa\",\"symbol\":\"circle\",\"size\":12},\"mode\":\"markers\",\"name\":\"Unknown Error\",\"orientation\":\"v\",\"showlegend\":true,\"x\":[4266056112,330179000,4727542384,481927736,3881463848,3881463848],\"xaxis\":\"x\",\"y\":[0.0,0.0,0.0,703.1356508731842,0.0,0.0],\"yaxis\":\"y\",\"type\":\"scatter\"},{\"hovertemplate\":\"color=Payload Too Large<br>x=%{x}<br>y=%{y}<extra></extra>\",\"legendgroup\":\"Payload Too Large\",\"marker\":{\"color\":\"#FFA15A\",\"symbol\":\"circle\",\"size\":12},\"mode\":\"markers\",\"name\":\"Payload Too Large\",\"orientation\":\"v\",\"showlegend\":true,\"x\":[6631575536],\"xaxis\":\"x\",\"y\":[0.0],\"yaxis\":\"y\",\"type\":\"scatter\"}],                        {\"template\":{\"data\":{\"histogram2dcontour\":[{\"type\":\"histogram2dcontour\",\"colorbar\":{\"outlinewidth\":0,\"ticks\":\"\"},\"colorscale\":[[0.0,\"#0d0887\"],[0.1111111111111111,\"#46039f\"],[0.2222222222222222,\"#7201a8\"],[0.3333333333333333,\"#9c179e\"],[0.4444444444444444,\"#bd3786\"],[0.5555555555555556,\"#d8576b\"],[0.6666666666666666,\"#ed7953\"],[0.7777777777777778,\"#fb9f3a\"],[0.8888888888888888,\"#fdca26\"],[1.0,\"#f0f921\"]]}],\"choropleth\":[{\"type\":\"choropleth\",\"colorbar\":{\"outlinewidth\":0,\"ticks\":\"\"}}],\"histogram2d\":[{\"type\":\"histogram2d\",\"colorbar\":{\"outlinewidth\":0,\"ticks\":\"\"},\"colorscale\":[[0.0,\"#0d0887\"],[0.1111111111111111,\"#46039f\"],[0.2222222222222222,\"#7201a8\"],[0.3333333333333333,\"#9c179e\"],[0.4444444444444444,\"#bd3786\"],[0.5555555555555556,\"#d8576b\"],[0.6666666666666666,\"#ed7953\"],[0.7777777777777778,\"#fb9f3a\"],[0.8888888888888888,\"#fdca26\"],[1.0,\"#f0f921\"]]}],\"heatmap\":[{\"type\":\"heatmap\",\"colorbar\":{\"outlinewidth\":0,\"ticks\":\"\"},\"colorscale\":[[0.0,\"#0d0887\"],[0.1111111111111111,\"#46039f\"],[0.2222222222222222,\"#7201a8\"],[0.3333333333333333,\"#9c179e\"],[0.4444444444444444,\"#bd3786\"],[0.5555555555555556,\"#d8576b\"],[0.6666666666666666,\"#ed7953\"],[0.7777777777777778,\"#fb9f3a\"],[0.8888888888888888,\"#fdca26\"],[1.0,\"#f0f921\"]]}],\"heatmapgl\":[{\"type\":\"heatmapgl\",\"colorbar\":{\"outlinewidth\":0,\"ticks\":\"\"},\"colorscale\":[[0.0,\"#0d0887\"],[0.1111111111111111,\"#46039f\"],[0.2222222222222222,\"#7201a8\"],[0.3333333333333333,\"#9c179e\"],[0.4444444444444444,\"#bd3786\"],[0.5555555555555556,\"#d8576b\"],[0.6666666666666666,\"#ed7953\"],[0.7777777777777778,\"#fb9f3a\"],[0.8888888888888888,\"#fdca26\"],[1.0,\"#f0f921\"]]}],\"contourcarpet\":[{\"type\":\"contourcarpet\",\"colorbar\":{\"outlinewidth\":0,\"ticks\":\"\"}}],\"contour\":[{\"type\":\"contour\",\"colorbar\":{\"outlinewidth\":0,\"ticks\":\"\"},\"colorscale\":[[0.0,\"#0d0887\"],[0.1111111111111111,\"#46039f\"],[0.2222222222222222,\"#7201a8\"],[0.3333333333333333,\"#9c179e\"],[0.4444444444444444,\"#bd3786\"],[0.5555555555555556,\"#d8576b\"],[0.6666666666666666,\"#ed7953\"],[0.7777777777777778,\"#fb9f3a\"],[0.8888888888888888,\"#fdca26\"],[1.0,\"#f0f921\"]]}],\"surface\":[{\"type\":\"surface\",\"colorbar\":{\"outlinewidth\":0,\"ticks\":\"\"},\"colorscale\":[[0.0,\"#0d0887\"],[0.1111111111111111,\"#46039f\"],[0.2222222222222222,\"#7201a8\"],[0.3333333333333333,\"#9c179e\"],[0.4444444444444444,\"#bd3786\"],[0.5555555555555556,\"#d8576b\"],[0.6666666666666666,\"#ed7953\"],[0.7777777777777778,\"#fb9f3a\"],[0.8888888888888888,\"#fdca26\"],[1.0,\"#f0f921\"]]}],\"mesh3d\":[{\"type\":\"mesh3d\",\"colorbar\":{\"outlinewidth\":0,\"ticks\":\"\"}}],\"scatter\":[{\"fillpattern\":{\"fillmode\":\"overlay\",\"size\":10,\"solidity\":0.2},\"type\":\"scatter\"}],\"parcoords\":[{\"type\":\"parcoords\",\"line\":{\"colorbar\":{\"outlinewidth\":0,\"ticks\":\"\"}}}],\"scatterpolargl\":[{\"type\":\"scatterpolargl\",\"marker\":{\"colorbar\":{\"outlinewidth\":0,\"ticks\":\"\"}}}],\"bar\":[{\"error_x\":{\"color\":\"#2a3f5f\"},\"error_y\":{\"color\":\"#2a3f5f\"},\"marker\":{\"line\":{\"color\":\"#E5ECF6\",\"width\":0.5},\"pattern\":{\"fillmode\":\"overlay\",\"size\":10,\"solidity\":0.2}},\"type\":\"bar\"}],\"scattergeo\":[{\"type\":\"scattergeo\",\"marker\":{\"colorbar\":{\"outlinewidth\":0,\"ticks\":\"\"}}}],\"scatterpolar\":[{\"type\":\"scatterpolar\",\"marker\":{\"colorbar\":{\"outlinewidth\":0,\"ticks\":\"\"}}}],\"histogram\":[{\"marker\":{\"pattern\":{\"fillmode\":\"overlay\",\"size\":10,\"solidity\":0.2}},\"type\":\"histogram\"}],\"scattergl\":[{\"type\":\"scattergl\",\"marker\":{\"colorbar\":{\"outlinewidth\":0,\"ticks\":\"\"}}}],\"scatter3d\":[{\"type\":\"scatter3d\",\"line\":{\"colorbar\":{\"outlinewidth\":0,\"ticks\":\"\"}},\"marker\":{\"colorbar\":{\"outlinewidth\":0,\"ticks\":\"\"}}}],\"scattermapbox\":[{\"type\":\"scattermapbox\",\"marker\":{\"colorbar\":{\"outlinewidth\":0,\"ticks\":\"\"}}}],\"scatterternary\":[{\"type\":\"scatterternary\",\"marker\":{\"colorbar\":{\"outlinewidth\":0,\"ticks\":\"\"}}}],\"scattercarpet\":[{\"type\":\"scattercarpet\",\"marker\":{\"colorbar\":{\"outlinewidth\":0,\"ticks\":\"\"}}}],\"carpet\":[{\"aaxis\":{\"endlinecolor\":\"#2a3f5f\",\"gridcolor\":\"white\",\"linecolor\":\"white\",\"minorgridcolor\":\"white\",\"startlinecolor\":\"#2a3f5f\"},\"baxis\":{\"endlinecolor\":\"#2a3f5f\",\"gridcolor\":\"white\",\"linecolor\":\"white\",\"minorgridcolor\":\"white\",\"startlinecolor\":\"#2a3f5f\"},\"type\":\"carpet\"}],\"table\":[{\"cells\":{\"fill\":{\"color\":\"#EBF0F8\"},\"line\":{\"color\":\"white\"}},\"header\":{\"fill\":{\"color\":\"#C8D4E3\"},\"line\":{\"color\":\"white\"}},\"type\":\"table\"}],\"barpolar\":[{\"marker\":{\"line\":{\"color\":\"#E5ECF6\",\"width\":0.5},\"pattern\":{\"fillmode\":\"overlay\",\"size\":10,\"solidity\":0.2}},\"type\":\"barpolar\"}],\"pie\":[{\"automargin\":true,\"type\":\"pie\"}]},\"layout\":{\"autotypenumbers\":\"strict\",\"colorway\":[\"#636efa\",\"#EF553B\",\"#00cc96\",\"#ab63fa\",\"#FFA15A\",\"#19d3f3\",\"#FF6692\",\"#B6E880\",\"#FF97FF\",\"#FECB52\"],\"font\":{\"color\":\"#2a3f5f\"},\"hovermode\":\"closest\",\"hoverlabel\":{\"align\":\"left\"},\"paper_bgcolor\":\"white\",\"plot_bgcolor\":\"#E5ECF6\",\"polar\":{\"bgcolor\":\"#E5ECF6\",\"angularaxis\":{\"gridcolor\":\"white\",\"linecolor\":\"white\",\"ticks\":\"\"},\"radialaxis\":{\"gridcolor\":\"white\",\"linecolor\":\"white\",\"ticks\":\"\"}},\"ternary\":{\"bgcolor\":\"#E5ECF6\",\"aaxis\":{\"gridcolor\":\"white\",\"linecolor\":\"white\",\"ticks\":\"\"},\"baxis\":{\"gridcolor\":\"white\",\"linecolor\":\"white\",\"ticks\":\"\"},\"caxis\":{\"gridcolor\":\"white\",\"linecolor\":\"white\",\"ticks\":\"\"}},\"coloraxis\":{\"colorbar\":{\"outlinewidth\":0,\"ticks\":\"\"}},\"colorscale\":{\"sequential\":[[0.0,\"#0d0887\"],[0.1111111111111111,\"#46039f\"],[0.2222222222222222,\"#7201a8\"],[0.3333333333333333,\"#9c179e\"],[0.4444444444444444,\"#bd3786\"],[0.5555555555555556,\"#d8576b\"],[0.6666666666666666,\"#ed7953\"],[0.7777777777777778,\"#fb9f3a\"],[0.8888888888888888,\"#fdca26\"],[1.0,\"#f0f921\"]],\"sequentialminus\":[[0.0,\"#0d0887\"],[0.1111111111111111,\"#46039f\"],[0.2222222222222222,\"#7201a8\"],[0.3333333333333333,\"#9c179e\"],[0.4444444444444444,\"#bd3786\"],[0.5555555555555556,\"#d8576b\"],[0.6666666666666666,\"#ed7953\"],[0.7777777777777778,\"#fb9f3a\"],[0.8888888888888888,\"#fdca26\"],[1.0,\"#f0f921\"]],\"diverging\":[[0,\"#8e0152\"],[0.1,\"#c51b7d\"],[0.2,\"#de77ae\"],[0.3,\"#f1b6da\"],[0.4,\"#fde0ef\"],[0.5,\"#f7f7f7\"],[0.6,\"#e6f5d0\"],[0.7,\"#b8e186\"],[0.8,\"#7fbc41\"],[0.9,\"#4d9221\"],[1,\"#276419\"]]},\"xaxis\":{\"gridcolor\":\"white\",\"linecolor\":\"white\",\"ticks\":\"\",\"title\":{\"standoff\":15},\"zerolinecolor\":\"white\",\"automargin\":true,\"zerolinewidth\":2},\"yaxis\":{\"gridcolor\":\"white\",\"linecolor\":\"white\",\"ticks\":\"\",\"title\":{\"standoff\":15},\"zerolinecolor\":\"white\",\"automargin\":true,\"zerolinewidth\":2},\"scene\":{\"xaxis\":{\"backgroundcolor\":\"#E5ECF6\",\"gridcolor\":\"white\",\"linecolor\":\"white\",\"showbackground\":true,\"ticks\":\"\",\"zerolinecolor\":\"white\",\"gridwidth\":2},\"yaxis\":{\"backgroundcolor\":\"#E5ECF6\",\"gridcolor\":\"white\",\"linecolor\":\"white\",\"showbackground\":true,\"ticks\":\"\",\"zerolinecolor\":\"white\",\"gridwidth\":2},\"zaxis\":{\"backgroundcolor\":\"#E5ECF6\",\"gridcolor\":\"white\",\"linecolor\":\"white\",\"showbackground\":true,\"ticks\":\"\",\"zerolinecolor\":\"white\",\"gridwidth\":2}},\"shapedefaults\":{\"line\":{\"color\":\"#2a3f5f\"}},\"annotationdefaults\":{\"arrowcolor\":\"#2a3f5f\",\"arrowhead\":0,\"arrowwidth\":1},\"geo\":{\"bgcolor\":\"white\",\"landcolor\":\"#E5ECF6\",\"subunitcolor\":\"white\",\"showland\":true,\"showlakes\":true,\"lakecolor\":\"white\"},\"title\":{\"x\":0.05},\"mapbox\":{\"style\":\"light\"}}},\"xaxis\":{\"anchor\":\"y\",\"domain\":[0.0,1.0],\"title\":{\"text\":\"Payload (byte)\"}},\"yaxis\":{\"anchor\":\"x\",\"domain\":[0.0,1.0],\"title\":{\"text\":\"Runtime seconds\"}},\"legend\":{\"title\":{\"text\":\"color\"},\"tracegroupgap\":0},\"margin\":{\"t\":60},\"shapes\":[{\"fillcolor\":\"green\",\"line\":{\"dash\":\"dash\",\"width\":1},\"type\":\"line\",\"x0\":0,\"x1\":1,\"xref\":\"x domain\",\"y0\":3590.813385486603,\"y1\":3590.813385486603,\"yref\":\"y\"},{\"fillcolor\":\"red\",\"line\":{\"color\":\"red\",\"width\":0},\"opacity\":0.2,\"type\":\"rect\",\"x0\":6299996759.2,\"x1\":6963154312.8,\"xref\":\"x\",\"y0\":0,\"y1\":1,\"yref\":\"y domain\"}],\"title\":{\"text\":\"Payload per Runtime seconds\"}},                        {\"responsive\": true}                    ).then(function(){\n",
       "                            \n",
       "var gd = document.getElementById('000639b2-b863-48d2-92e5-97eee0b29605');\n",
       "var x = new MutationObserver(function (mutations, observer) {{\n",
       "        var display = window.getComputedStyle(gd).display;\n",
       "        if (!display || display === 'none') {{\n",
       "            console.log([gd, 'removed!']);\n",
       "            Plotly.purge(gd);\n",
       "            observer.disconnect();\n",
       "        }}\n",
       "}});\n",
       "\n",
       "// Listen for the removal of the full notebook cells\n",
       "var notebookContainer = gd.closest('#notebook-container');\n",
       "if (notebookContainer) {{\n",
       "    x.observe(notebookContainer, {childList: true});\n",
       "}}\n",
       "\n",
       "// Listen for the clearing of the current output cell\n",
       "var outputEl = gd.closest('.output');\n",
       "if (outputEl) {{\n",
       "    x.observe(outputEl, {childList: true});\n",
       "}}\n",
       "\n",
       "                        })                };                });            </script>        </div>"
      ]
     },
     "metadata": {},
     "output_type": "display_data"
    }
   ],
   "source": [
    "list_payload_size = tele_file[\"payload_size\"].tolist()\n",
    "list_time_simu = tele_file[\"time_simu\"].tolist()\n",
    "list_comment = tele_file[\"comment\"].tolist()\n",
    "\n",
    "exceed_payload = []\n",
    "exceed_time = []\n",
    "for time_simu, payload_size, comment in zip(list_time_simu, list_payload_size, list_comment):\n",
    "    exceed_payload.append(payload_size) if comment == \"Payload Too Large\" else None\n",
    "    exceed_time.append(time_simu) if comment == \"Runtime: Cancelled - Ran too long\" else None\n",
    "\n",
    "print(\"Size of dataframe : \", len(list_payload_size))\n",
    "\n",
    "#fig = px.scatter(x=list_time_simu, y=list_payload_size, color=list_comment)\n",
    "#fig.add_hrect(y0=(min(exceed_payload)-min(exceed_payload)/20), y1=(max(exceed_payload)+max(exceed_payload)/20), \n",
    "              #line_width=0,line_color=\"red\", fillcolor=\"red\", opacity=0.2)\n",
    "#fig.add_vline(x=min(exceed_time), fillcolor=\"green\", line_width=1, line_dash=\"dash\")\n",
    "#fig.update_layout(title_text='Payload per Runtime seconds', \n",
    "                  #xaxis_title=\"Runtime seconds\", yaxis_title=\"Payload (kb)\")\n",
    "\n",
    "fig = px.scatter(x=list_payload_size, y=list_time_simu, color=list_comment)\n",
    "fig.add_hline(y=min(exceed_time), fillcolor=\"green\", line_width=1, line_dash=\"dash\")\n",
    "fig.add_vrect(x0=(min(exceed_payload)-min(exceed_payload)/20), x1=(max(exceed_payload)+max(exceed_payload)/20), \n",
    "              line_width=0,line_color=\"red\", fillcolor=\"red\", opacity=0.2)\n",
    "fig.update_layout(title_text='Payload per Runtime seconds', \n",
    "                  xaxis_title=\"Payload (byte)\", yaxis_title=\"Runtime seconds\")\n",
    "\n",
    "fig.update_traces(marker=dict(size=12))\n",
    "\n",
    "interac_o_static(fig)"
   ]
  },
  {
   "cell_type": "markdown",
   "id": "d5918c74",
   "metadata": {},
   "source": [
    "# Annexes"
   ]
  },
  {
   "cell_type": "markdown",
   "id": "d597be0e",
   "metadata": {},
   "source": [
    "## Acronyms & Terms\n",
    "- `SUCCESS` : Job successfully submit and finished\n",
    "- `OOM` : Out Of Memory from Runtime job\n",
    "- `Runtime: Cancelled - Ran too long` : Timeout from Runtime\n",
    "- `Payload Too Large` : List of circuits too big or len of payload too big\n",
    "- `Network Error` : Error 500 when sending job to Runtime\n",
    "- `Unknown Error` : Error not identified yet\n",
    "- `Runtime seconds` : Operational time taking by the job also known as `time_simu`\n",
    "- `time_queue` : Time waited by the job in the queue"
   ]
  },
  {
   "cell_type": "markdown",
   "id": "e9fcd29c",
   "metadata": {},
   "source": [
    "## Full dataset\n",
    "Uncomment the next cell or call it as you like"
   ]
  },
  {
   "cell_type": "code",
   "execution_count": null,
   "id": "550d327b",
   "metadata": {},
   "outputs": [],
   "source": [
    "#tele_file"
   ]
  }
 ],
 "metadata": {
  "kernelspec": {
   "display_name": "Python 3",
   "language": "python",
   "name": "python3"
  },
  "language_info": {
   "codemirror_mode": {
    "name": "ipython",
    "version": 3
   },
   "file_extension": ".py",
   "mimetype": "text/x-python",
   "name": "python",
   "nbconvert_exporter": "python",
   "pygments_lexer": "ipython3",
   "version": "3.8.10"
  }
 },
 "nbformat": 4,
 "nbformat_minor": 5
}
