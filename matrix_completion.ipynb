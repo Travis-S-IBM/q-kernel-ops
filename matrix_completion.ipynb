{
 "cells": [
  {
   "cell_type": "markdown",
   "id": "470a40d8",
   "metadata": {},
   "source": [
    "# Matrix completion"
   ]
  },
  {
   "cell_type": "code",
   "execution_count": 1,
   "id": "cecb5bd3",
   "metadata": {
    "collapsed": true
   },
   "outputs": [
    {
     "name": "stdout",
     "output_type": "stream",
     "text": [
      "Collecting chompack\n",
      "  Downloading chompack-2.3.3-cp38-cp38-manylinux1_x86_64.whl (8.8 MB)\n",
      "\u001b[K     |████████████████████████████████| 8.8 MB 8.2 MB/s eta 0:00:01     |██████▎                         | 1.7 MB 8.2 MB/s eta 0:00:01     |██████████████████████████████  | 8.2 MB 8.2 MB/s eta 0:00:01\n",
      "\u001b[?25hCollecting cvxopt>=1.1.8\n",
      "  Downloading cvxopt-1.3.0-cp38-cp38-manylinux_2_17_x86_64.manylinux2014_x86_64.whl (12.7 MB)\n",
      "\u001b[K     |████████████████████████████████| 12.7 MB 16.5 MB/s eta 0:00:01     |████▊                           | 1.9 MB 16.5 MB/s eta 0:00:01\n",
      "\u001b[?25hInstalling collected packages: cvxopt, chompack\n",
      "Successfully installed chompack-2.3.3 cvxopt-1.3.0\n",
      "\u001b[33mWARNING: Running pip as root will break packages and permissions. You should install packages reliably by using venv: https://pip.pypa.io/warnings/venv\u001b[0m\n",
      "\u001b[33mWARNING: You are using pip version 21.1.2; however, version 22.0.4 is available.\n",
      "You should consider upgrading via the '/usr/bin/python3 -m pip install --upgrade pip' command.\u001b[0m\n",
      "Note: you may need to restart the kernel to use updated packages.\n"
     ]
    }
   ],
   "source": [
    "pip install chompack"
   ]
  },
  {
   "cell_type": "code",
   "execution_count": 289,
   "id": "0134452d",
   "metadata": {},
   "outputs": [],
   "source": [
    "from cvxopt import spmatrix, matrix, spdiag, sparse, amd\n",
    "import chompack as cp\n",
    "import random"
   ]
  },
  {
   "cell_type": "markdown",
   "id": "24004b60",
   "metadata": {},
   "source": [
    "## Rules\n",
    "- $n < N$\n",
    "- $N' = N + n$ \n",
    "- $u < N < u+n$\n",
    "- $u+n < N'$"
   ]
  },
  {
   "cell_type": "markdown",
   "id": "00c6018f",
   "metadata": {},
   "source": [
    "## Set properties"
   ]
  },
  {
   "cell_type": "code",
   "execution_count": 281,
   "id": "8362581c",
   "metadata": {},
   "outputs": [],
   "source": [
    "random.seed(4242)\n",
    "\n",
    "N = 10\n",
    "\n",
    "n_full = [x for x in range(2, N)]\n",
    "n = random.choice(n_full)\n",
    "\n",
    "u = []\n",
    "for i in range(N):\n",
    "    u.append(i) if n + i > N else None\n",
    "\n",
    "N_prime = N + n"
   ]
  },
  {
   "cell_type": "code",
   "execution_count": 282,
   "id": "a92eadeb",
   "metadata": {},
   "outputs": [
    {
     "name": "stdout",
     "output_type": "stream",
     "text": [
      "N :  10\n",
      "n :  8\n",
      "u :  [3, 4, 5, 6, 7, 8, 9]\n",
      "N' :  18\n"
     ]
    }
   ],
   "source": [
    "print(\"N : \", N)\n",
    "print(\"n : \", n)\n",
    "print(\"u : \", u)\n",
    "print(\"N' : \", N_prime)"
   ]
  },
  {
   "cell_type": "markdown",
   "id": "951281f6",
   "metadata": {},
   "source": [
    "### Autom"
   ]
  },
  {
   "cell_type": "code",
   "execution_count": 332,
   "id": "85d8dbe1",
   "metadata": {},
   "outputs": [
    {
     "name": "stdout",
     "output_type": "stream",
     "text": [
      "N : \n",
      " [  0   5  10  15  20]\n",
      "[  1   6  11  16  21]\n",
      "[  2   7  12  17  22]\n",
      "[  3   8  13  18  23]\n",
      "[  4   9  14  19  24]\n",
      "\n",
      "n : \n",
      " [ 0  2]\n",
      "[ 1  3]\n",
      "\n",
      "u : \n",
      " [  0   4   8  12]\n",
      "[  1   5   9  13]\n",
      "[  2   6  10  14]\n",
      "[  3   7  11  15]\n",
      "\n",
      "[ 0.00e+00  5.00e+00  1.00e+01  1.50e+01  2.00e+01     0         0    ]\n",
      "[ 1.00e+00  8.00e+00  8.00e+00  8.00e+00  8.00e+00  8.00e+00  8.00e+00]\n",
      "[ 2.00e+00  8.00e+00  8.00e+00  8.00e+00  8.00e+00  8.00e+00  8.00e+00]\n",
      "[ 3.00e+00  8.00e+00  8.00e+00  8.00e+00  8.00e+00  8.00e+00  8.00e+00]\n",
      "[ 4.00e+00  8.00e+00  8.00e+00  8.00e+00  8.00e+00  8.00e+00  8.00e+00]\n",
      "[    0      8.00e+00  8.00e+00  8.00e+00  8.00e+00  8.00e+00  8.00e+00]\n",
      "[    0      8.00e+00  8.00e+00  8.00e+00  8.00e+00  8.00e+00  8.00e+00]\n",
      "\n"
     ]
    }
   ],
   "source": [
    "# generate sparse matrix\n",
    "N_prime = 7\n",
    "N = 5\n",
    "n = 2\n",
    "u = 4\n",
    "\n",
    "#N_matrix = matrix(\n",
    "#    [[x for x in range(N)] for x in range(N)]\n",
    "#)\n",
    "N_matrix = matrix(\n",
    "    [x for x in range(N*N)], (N,N)\n",
    ")\n",
    "#n_matrix = matrix(\n",
    "#    [[N+x for x in range(n)] for x in range(n)]\n",
    "#)\n",
    "n_matrix = matrix(\n",
    "    [x for x in range(n*n)], (n,n)\n",
    ")\n",
    "#u_matrix = matrix(\n",
    "#    [[N+x for x in range(u+n)] for x in range(u+n)]\n",
    "#)\n",
    "u_matrix = matrix(\n",
    "    [x for x in range(u*u)], (u,u)\n",
    ")\n",
    "\n",
    "P_matrix = spdiag([N_matrix, n_matrix])\n",
    "\n",
    "nu_line = [x for x in range(N-u, N_prime)]\n",
    "nu_col = [x for x in range(N-u, N_prime)]\n",
    "P_matrix[nu_line, nu_col] = 8\n",
    "\n",
    "print(\"N : \\n\", N_matrix)\n",
    "print(\"n : \\n\", n_matrix)\n",
    "print(\"u : \\n\", u_matrix)\n",
    "\n",
    "print(P_matrix)"
   ]
  },
  {
   "cell_type": "code",
   "execution_count": 333,
   "id": "4cbc71f4",
   "metadata": {},
   "outputs": [
    {
     "name": "stdout",
     "output_type": "stream",
     "text": [
      "[X X X X     X]\n",
      "[X X X X X X X]\n",
      "[X X X X X X X]\n",
      "[X X X X X X X]\n",
      "[  X X X X X X]\n",
      "[  X X X X X X]\n",
      "[X X X X X X X]\n",
      "\n",
      "[ 1.00e+00     0         0         0         0         0         0    ]\n",
      "[ 1.00e+00  1.00e+00     0         0         0         0         0    ]\n",
      "[ 1.00e+00  1.00e+00  1.00e+00     0         0         0         0    ]\n",
      "[ 1.00e+00  1.00e+00  1.00e+00  1.00e+00     0         0         0    ]\n",
      "[ 1.00e+00  1.00e+00  1.00e+00  1.00e+00  1.00e+00     0         0    ]\n",
      "[    0      1.00e+00  1.00e+00  1.00e+00  1.00e+00  1.00e+00     0    ]\n",
      "[    0      1.00e+00  1.00e+00  1.00e+00  1.00e+00  1.00e+00  1.00e+00]\n",
      "\n"
     ]
    }
   ],
   "source": [
    "# compute symbolic factorization\n",
    "symb = cp.symbolic(P_matrix, p=amd.order)\n",
    "print(symb)\n",
    "print(symb.sparsity_pattern(reordered=False, symmetric=False))"
   ]
  },
  {
   "cell_type": "code",
   "execution_count": 334,
   "id": "ef717e84",
   "metadata": {},
   "outputs": [],
   "source": [
    "L = cp.cspmatrix(symb)\n",
    "L += P_matrix"
   ]
  },
  {
   "cell_type": "code",
   "execution_count": 335,
   "id": "02f94420",
   "metadata": {},
   "outputs": [
    {
     "ename": "ArithmeticError",
     "evalue": "factorization failed",
     "output_type": "error",
     "traceback": [
      "\u001b[0;31m---------------------------------------------------------------------------\u001b[0m",
      "\u001b[0;31mArithmeticError\u001b[0m                           Traceback (most recent call last)",
      "\u001b[0;32m<ipython-input-335-489693b2d09a>\u001b[0m in \u001b[0;36m<module>\u001b[0;34m\u001b[0m\n\u001b[0;32m----> 1\u001b[0;31m \u001b[0mcp\u001b[0m\u001b[0;34m.\u001b[0m\u001b[0mcholesky\u001b[0m\u001b[0;34m(\u001b[0m\u001b[0mL\u001b[0m\u001b[0;34m)\u001b[0m\u001b[0;34m\u001b[0m\u001b[0;34m\u001b[0m\u001b[0m\n\u001b[0m\u001b[1;32m      2\u001b[0m \u001b[0mprint\u001b[0m\u001b[0;34m(\u001b[0m\u001b[0mL\u001b[0m\u001b[0;34m)\u001b[0m\u001b[0;34m\u001b[0m\u001b[0;34m\u001b[0m\u001b[0m\n",
      "\u001b[0;31mArithmeticError\u001b[0m: factorization failed"
     ]
    }
   ],
   "source": [
    "cp.cholesky(L)\n",
    "print(L)"
   ]
  },
  {
   "cell_type": "markdown",
   "id": "011fd77c",
   "metadata": {},
   "source": [
    "## Test"
   ]
  },
  {
   "cell_type": "code",
   "execution_count": 336,
   "id": "98b89fd5",
   "metadata": {},
   "outputs": [
    {
     "name": "stdout",
     "output_type": "stream",
     "text": [
      "[  1   8  15  22  29   0   0]\n",
      "[  2   9  16  23  30  37  44]\n",
      "[  3  10  17  24  31  38  45]\n",
      "[  4  11  18  25  32  39  46]\n",
      "[  5  12  19  26  33  40  47]\n",
      "[  0  13  20  27  34  41  48]\n",
      "[  0  14  21  28  35  42  49]\n",
      "\n"
     ]
    }
   ],
   "source": [
    "N_prime = 7\n",
    "N = 5\n",
    "n = 2\n",
    "u = 4\n",
    "\n",
    "T_matrix = matrix(\n",
    "    [x+1 for x in range(N_prime*N_prime)], (N_prime,N_prime)\n",
    ")\n",
    "\n",
    "T_matrix[[0], [5, 6]] = 0\n",
    "T_matrix[[5, 6], [0]] = 0\n",
    "print(T_matrix)"
   ]
  },
  {
   "cell_type": "code",
   "execution_count": 337,
   "id": "8f05e0f1",
   "metadata": {},
   "outputs": [
    {
     "name": "stdout",
     "output_type": "stream",
     "text": [
      "[ 1.00e+00  8.00e+00  1.50e+01  2.20e+01  2.90e+01     0         0    ]\n",
      "[ 2.00e+00  9.00e+00  1.60e+01  2.30e+01  3.00e+01  3.70e+01  4.40e+01]\n",
      "[ 3.00e+00  1.00e+01  1.70e+01  2.40e+01  3.10e+01  3.80e+01  4.50e+01]\n",
      "[ 4.00e+00  1.10e+01  1.80e+01  2.50e+01  3.20e+01  3.90e+01  4.60e+01]\n",
      "[ 5.00e+00  1.20e+01  1.90e+01  2.60e+01  3.30e+01  4.00e+01  4.70e+01]\n",
      "[    0      1.30e+01  2.00e+01  2.70e+01  3.40e+01  4.10e+01  4.80e+01]\n",
      "[    0      1.40e+01  2.10e+01  2.80e+01  3.50e+01  4.20e+01  4.90e+01]\n",
      "\n",
      "[X X X X     X]\n",
      "[X X X X X X X]\n",
      "[X X X X X X X]\n",
      "[X X X X X X X]\n",
      "[  X X X X X X]\n",
      "[  X X X X X X]\n",
      "[X X X X X X X]\n",
      "\n",
      "[ 1.00e+00     0         0         0         0         0         0    ]\n",
      "[ 1.00e+00  1.00e+00     0         0         0         0         0    ]\n",
      "[ 1.00e+00  1.00e+00  1.00e+00     0         0         0         0    ]\n",
      "[ 1.00e+00  1.00e+00  1.00e+00  1.00e+00     0         0         0    ]\n",
      "[ 1.00e+00  1.00e+00  1.00e+00  1.00e+00  1.00e+00     0         0    ]\n",
      "[    0      1.00e+00  1.00e+00  1.00e+00  1.00e+00  1.00e+00     0    ]\n",
      "[    0      1.00e+00  1.00e+00  1.00e+00  1.00e+00  1.00e+00  1.00e+00]\n",
      "\n"
     ]
    },
    {
     "ename": "ArithmeticError",
     "evalue": "factorization failed",
     "output_type": "error",
     "traceback": [
      "\u001b[0;31m---------------------------------------------------------------------------\u001b[0m",
      "\u001b[0;31mArithmeticError\u001b[0m                           Traceback (most recent call last)",
      "\u001b[0;32m<ipython-input-337-e717c6746ab4>\u001b[0m in \u001b[0;36m<module>\u001b[0;34m\u001b[0m\n\u001b[1;32m      9\u001b[0m \u001b[0mL_test\u001b[0m \u001b[0;34m+=\u001b[0m \u001b[0mtest_matrix\u001b[0m\u001b[0;34m\u001b[0m\u001b[0;34m\u001b[0m\u001b[0m\n\u001b[1;32m     10\u001b[0m \u001b[0;34m\u001b[0m\u001b[0m\n\u001b[0;32m---> 11\u001b[0;31m \u001b[0mcp\u001b[0m\u001b[0;34m.\u001b[0m\u001b[0mcholesky\u001b[0m\u001b[0;34m(\u001b[0m\u001b[0mL_test\u001b[0m\u001b[0;34m)\u001b[0m\u001b[0;34m\u001b[0m\u001b[0;34m\u001b[0m\u001b[0m\n\u001b[0m\u001b[1;32m     12\u001b[0m \u001b[0mprint\u001b[0m\u001b[0;34m(\u001b[0m\u001b[0mL_test\u001b[0m\u001b[0;34m)\u001b[0m\u001b[0;34m\u001b[0m\u001b[0;34m\u001b[0m\u001b[0m\n",
      "\u001b[0;31mArithmeticError\u001b[0m: factorization failed"
     ]
    }
   ],
   "source": [
    "# compute symbolic factorization\n",
    "test_matrix = sparse([T_matrix])\n",
    "symb_test = cp.symbolic(test_matrix, p=amd.order)\n",
    "print(test_matrix)\n",
    "print(symb_test)\n",
    "print(symb.sparsity_pattern(reordered=False, symmetric=False))\n",
    "\n",
    "L_test = cp.cspmatrix(symb_test)\n",
    "L_test += test_matrix\n",
    "\n",
    "cp.cholesky(L_test)\n",
    "print(L_test)"
   ]
  },
  {
   "cell_type": "code",
   "execution_count": null,
   "id": "a8a2d069",
   "metadata": {},
   "outputs": [],
   "source": []
  },
  {
   "cell_type": "code",
   "execution_count": null,
   "id": "febe619b",
   "metadata": {},
   "outputs": [],
   "source": []
  },
  {
   "cell_type": "code",
   "execution_count": null,
   "id": "af06578a",
   "metadata": {},
   "outputs": [],
   "source": []
  }
 ],
 "metadata": {
  "kernelspec": {
   "display_name": "Python 3",
   "language": "python",
   "name": "python3"
  },
  "language_info": {
   "codemirror_mode": {
    "name": "ipython",
    "version": 3
   },
   "file_extension": ".py",
   "mimetype": "text/x-python",
   "name": "python",
   "nbconvert_exporter": "python",
   "pygments_lexer": "ipython3",
   "version": "3.8.10"
  }
 },
 "nbformat": 4,
 "nbformat_minor": 5
}
