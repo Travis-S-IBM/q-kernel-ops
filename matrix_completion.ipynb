{
 "cells": [
  {
   "cell_type": "markdown",
   "id": "470a40d8",
   "metadata": {},
   "source": [
    "# Matrix completion"
   ]
  },
  {
   "cell_type": "code",
   "execution_count": 1,
   "id": "cecb5bd3",
   "metadata": {
    "collapsed": true
   },
   "outputs": [
    {
     "name": "stdout",
     "output_type": "stream",
     "text": [
      "Collecting chompack\n",
      "  Downloading chompack-2.3.3-cp38-cp38-manylinux1_x86_64.whl (8.8 MB)\n",
      "\u001b[K     |████████████████████████████████| 8.8 MB 8.2 MB/s eta 0:00:01     |██████▎                         | 1.7 MB 8.2 MB/s eta 0:00:01     |██████████████████████████████  | 8.2 MB 8.2 MB/s eta 0:00:01\n",
      "\u001b[?25hCollecting cvxopt>=1.1.8\n",
      "  Downloading cvxopt-1.3.0-cp38-cp38-manylinux_2_17_x86_64.manylinux2014_x86_64.whl (12.7 MB)\n",
      "\u001b[K     |████████████████████████████████| 12.7 MB 16.5 MB/s eta 0:00:01     |████▊                           | 1.9 MB 16.5 MB/s eta 0:00:01\n",
      "\u001b[?25hInstalling collected packages: cvxopt, chompack\n",
      "Successfully installed chompack-2.3.3 cvxopt-1.3.0\n",
      "\u001b[33mWARNING: Running pip as root will break packages and permissions. You should install packages reliably by using venv: https://pip.pypa.io/warnings/venv\u001b[0m\n",
      "\u001b[33mWARNING: You are using pip version 21.1.2; however, version 22.0.4 is available.\n",
      "You should consider upgrading via the '/usr/bin/python3 -m pip install --upgrade pip' command.\u001b[0m\n",
      "Note: you may need to restart the kernel to use updated packages.\n"
     ]
    }
   ],
   "source": [
    "pip install chompack"
   ]
  },
  {
   "cell_type": "code",
   "execution_count": 3,
   "id": "0134452d",
   "metadata": {},
   "outputs": [],
   "source": [
    "from cvxopt import matrix, spdiag\n",
    "import chompack as cp\n",
    "import numpy as np\n",
    "import random"
   ]
  },
  {
   "cell_type": "markdown",
   "id": "24004b60",
   "metadata": {},
   "source": [
    "## Rules\n",
    "- $n < N$\n",
    "- $N' = N + n$ \n",
    "- $u < N < u+n$\n",
    "- $u+n < N'$"
   ]
  },
  {
   "cell_type": "markdown",
   "id": "00c6018f",
   "metadata": {},
   "source": [
    "## Set properties"
   ]
  },
  {
   "cell_type": "code",
   "execution_count": 4,
   "id": "8362581c",
   "metadata": {},
   "outputs": [],
   "source": [
    "random.seed(4242)\n",
    "\n",
    "N = 100\n",
    "\n",
    "n_full = [x for x in range(2, N)]\n",
    "n = random.choice(n_full)\n",
    "\n",
    "u_full = []\n",
    "for i in range(N):\n",
    "    u_full.append(i) if n + i > N else None\n",
    "\n",
    "N_prime = N + n"
   ]
  },
  {
   "cell_type": "code",
   "execution_count": 5,
   "id": "a92eadeb",
   "metadata": {},
   "outputs": [
    {
     "name": "stdout",
     "output_type": "stream",
     "text": [
      "N :  100\n",
      "n :  55\n",
      "u :  [46, 47, 48, 49, 50, 51, 52, 53, 54, 55, 56, 57, 58, 59, 60, 61, 62, 63, 64, 65, 66, 67, 68, 69, 70, 71, 72, 73, 74, 75, 76, 77, 78, 79, 80, 81, 82, 83, 84, 85, 86, 87, 88, 89, 90, 91, 92, 93, 94, 95, 96, 97, 98, 99]\n",
      "N' :  155\n"
     ]
    }
   ],
   "source": [
    "print(\"N : \", N)\n",
    "print(\"n : \", n)\n",
    "print(\"u : \", u_full)\n",
    "print(\"N' : \", N_prime)"
   ]
  },
  {
   "cell_type": "markdown",
   "id": "951281f6",
   "metadata": {},
   "source": [
    "### Autom"
   ]
  },
  {
   "cell_type": "code",
   "execution_count": 119,
   "id": "85d8dbe1",
   "metadata": {},
   "outputs": [
    {
     "name": "stdout",
     "output_type": "stream",
     "text": [
      "N : \n",
      " [ 8  1  1  1  1]\n",
      "[ 2  8  2  2  2]\n",
      "[ 3  3  8  3  3]\n",
      "[ 4  4  4  8  4]\n",
      "[ 5  5  5  5  8]\n",
      "\n",
      "n : \n",
      " [ 8  1]\n",
      "[ 2  8]\n",
      "\n",
      "u : \n",
      " [ 8  1  1  1]\n",
      "[ 1  8  1  1]\n",
      "[ 1  1  8  1]\n",
      "[ 1  1  1  8]\n",
      "\n",
      "[ 8.00e+00  1.00e+00  1.00e+00  1.00e+00  1.00e+00     0         0    ]\n",
      "[ 2.00e+00  8.00e+00  1.00e+01  1.00e+01  1.00e+01  1.00e+01  1.00e+01]\n",
      "[ 3.00e+00  1.00e+01  8.00e+00  1.00e+01  1.00e+01  1.00e+01  1.00e+01]\n",
      "[ 4.00e+00  1.00e+01  1.00e+01  8.00e+00  1.00e+01  1.00e+01  1.00e+01]\n",
      "[ 5.00e+00  1.00e+01  1.00e+01  1.00e+01  8.00e+00  1.00e+01  1.00e+01]\n",
      "[    0      1.00e+01  1.00e+01  1.00e+01  1.00e+01  8.00e+00  1.00e+01]\n",
      "[    0      1.00e+01  1.00e+01  1.00e+01  1.00e+01  1.00e+01  8.00e+00]\n",
      "\n"
     ]
    }
   ],
   "source": [
    "# generate sparse matrix\n",
    "u = u_full[0]\n",
    "# to make to stable tests uncomments those lines\n",
    "N_prime = 7\n",
    "N = 5\n",
    "n = 2\n",
    "u = 4\n",
    "\n",
    "# different ways of generating the data\n",
    "## N\n",
    "N_matrix = matrix(\n",
    "    [[x+1 for x in range(N)] for x in range(N)]\n",
    ")\n",
    "#N_matrix = matrix(\n",
    "#    [x+1 for x in range(N*N)], (N,N)\n",
    "#)\n",
    "for i in range(N):\n",
    "    N_matrix[i, i] = 8\n",
    "## n\n",
    "n_matrix = matrix(\n",
    "    [[x+1 for x in range(n)] for x in range(n)]\n",
    ")\n",
    "#n_matrix = matrix(\n",
    "#    [x for x in range(n*n)], (n,n)\n",
    "#)\n",
    "for i in range(n):\n",
    "    n_matrix[i, i] = 8\n",
    "## u\n",
    "u_matrix = matrix(\n",
    "    [[1 for x in range(u)] for x in range(u)]\n",
    ")\n",
    "#u_matrix = matrix(\n",
    "#    [x for x in range(u*u)], (u,u)\n",
    "#)\n",
    "for i in range(u):\n",
    "    u_matrix[i, i] = 8\n",
    "\n",
    "# assembling and add nu matrix\n",
    "P_matrix = spdiag([N_matrix, n_matrix])\n",
    "nu_matrix = [x for x in range(N-u, N_prime)]\n",
    "P_matrix[nu_matrix, nu_matrix] = 10\n",
    "\n",
    "# in order to have a the diag\n",
    "for i in range(N_prime):\n",
    "    P_matrix[i, i] = 8\n",
    "    \n",
    "print(\"N : \\n\", N_matrix)\n",
    "print(\"n : \\n\", n_matrix)\n",
    "print(\"u : \\n\", u_matrix)\n",
    "\n",
    "print(P_matrix)"
   ]
  },
  {
   "cell_type": "code",
   "execution_count": 122,
   "id": "32490033",
   "metadata": {},
   "outputs": [
    {
     "name": "stdout",
     "output_type": "stream",
     "text": [
      "[-3.87935021 -2.         -2.         -2.         -2.          9.22988403\n",
      " 58.64946618]\n",
      "False\n",
      "False\n"
     ]
    }
   ],
   "source": [
    "def is_semi_pos_def(x):\n",
    "    return np.all(np.linalg.eigvals(x) >= 0)\n",
    "def is_semi_pos_def_eigsh(x, epsilon=1e-10):\n",
    "    return np.all(np.linalg.eigvalsh(x) >= -epsilon)\n",
    "\n",
    "matrix_tocheck = P_matrix\n",
    "print(np.linalg.eigvalsh(matrix(matrix_tocheck)))\n",
    "\n",
    "print(is_semi_pos_def(matrix(matrix_tocheck)))\n",
    "print(is_semi_pos_def_eigsh(matrix(matrix_tocheck)))"
   ]
  },
  {
   "cell_type": "code",
   "execution_count": 63,
   "id": "4cbc71f4",
   "metadata": {},
   "outputs": [],
   "source": [
    "# compute symbolic factorization\n",
    "symb = cp.symbolic(P_matrix)\n",
    "#print(symb)"
   ]
  },
  {
   "cell_type": "code",
   "execution_count": 116,
   "id": "ef717e84",
   "metadata": {},
   "outputs": [],
   "source": [
    "# convert to a chordal sparse matrix \n",
    "L = cp.cspmatrix(symb)\n",
    "L += P_matrix\n",
    "#print(L)"
   ]
  },
  {
   "cell_type": "code",
   "execution_count": 117,
   "id": "02f94420",
   "metadata": {},
   "outputs": [
    {
     "name": "stdout",
     "output_type": "stream",
     "text": [
      "Finish!\n"
     ]
    }
   ],
   "source": [
    "# make the completion\n",
    "compl_matrix = cp.psdcompletion(L)\n",
    "#print(compl_matrix)\n",
    "print(\"Finish!\")"
   ]
  },
  {
   "cell_type": "code",
   "execution_count": null,
   "id": "a8a2d069",
   "metadata": {},
   "outputs": [],
   "source": []
  },
  {
   "cell_type": "code",
   "execution_count": null,
   "id": "febe619b",
   "metadata": {},
   "outputs": [],
   "source": []
  },
  {
   "cell_type": "code",
   "execution_count": null,
   "id": "af06578a",
   "metadata": {},
   "outputs": [],
   "source": []
  }
 ],
 "metadata": {
  "kernelspec": {
   "display_name": "Python 3",
   "language": "python",
   "name": "python3"
  },
  "language_info": {
   "codemirror_mode": {
    "name": "ipython",
    "version": 3
   },
   "file_extension": ".py",
   "mimetype": "text/x-python",
   "name": "python",
   "nbconvert_exporter": "python",
   "pygments_lexer": "ipython3",
   "version": "3.8.10"
  }
 },
 "nbformat": 4,
 "nbformat_minor": 5
}
